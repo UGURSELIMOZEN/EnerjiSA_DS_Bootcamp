{
 "cells": [
  {
   "cell_type": "markdown",
   "id": "3759b7d1-7b17-4c82-a0f0-c761fc884eef",
   "metadata": {},
   "source": [
    "# ÖDEV-3\n",
    "\n",
    "**Yazar : Uğur Selim Özen**"
   ]
  },
  {
   "cell_type": "code",
   "execution_count": 1,
   "id": "7660759f-e2e1-48c6-988c-de3cb05d7f0d",
   "metadata": {
    "tags": []
   },
   "outputs": [],
   "source": [
    "import pandas as pd\n",
    "import numpy as np\n",
    "import datetime as dt\n",
    "import plotly.express as px\n",
    "import plotly.graph_objects as go\n",
    "\n",
    "\n",
    "#for quick viz\n",
    "import seaborn as sns\n",
    "\n",
    "#ml\n",
    "from sklearn.model_selection import train_test_split\n",
    "from sklearn.linear_model import LogisticRegression\n",
    "from sklearn.metrics import classification_report\n",
    "from sklearn.tree import DecisionTreeClassifier\n",
    "from sklearn.metrics import accuracy_score\n",
    "from sklearn.model_selection import GridSearchCV\n",
    "from sklearn.svm import SVC\n",
    "from sklearn.metrics import confusion_matrix\n",
    "\n",
    "from imblearn.over_sampling import SMOTE\n",
    "from imblearn.under_sampling import RandomUnderSampler\n",
    "from imblearn.pipeline import Pipeline\n",
    "from sklearn.ensemble import RandomForestClassifier\n",
    "from sklearn.preprocessing import LabelEncoder\n",
    "import random"
   ]
  },
  {
   "cell_type": "markdown",
   "id": "6776580a-54a8-4947-a441-1ca9c1fa6811",
   "metadata": {},
   "source": [
    "**⚫ Aşağıdaki kod bloğunda veri temizliği ve özellik mühendisliği kısımları uygulandı ayrıca Label Encoding işlemleri yapabilmek için bazı çok fazla eşsiz değer içeren kolonlar için gruplama işlmeleri yapıldı.**"
   ]
  },
  {
   "cell_type": "code",
   "execution_count": 2,
   "id": "dc0b25f5-9353-44b4-82e8-a9d7cb9ea35e",
   "metadata": {},
   "outputs": [
    {
     "name": "stderr",
     "output_type": "stream",
     "text": [
      "C:\\Users\\Ugur\\AppData\\Local\\Temp/ipykernel_13172/2790101825.py:18: FutureWarning: The default value of regex will change from True to False in a future version.\n",
      "  df['umbrella_limit'] = df['umbrella_limit'].str.replace(umb, 'other')\n"
     ]
    }
   ],
   "source": [
    "df = pd.read_csv('auto_insurance.csv')\n",
    "df = df.drop(['_c39','Unnamed: 0'], axis = 1)\n",
    "df['umbrella_limit'] = df.umbrella_limit.fillna(\"9999\")\n",
    "df['police_report_available'] = df.police_report_available.fillna(\"MISSING\")\n",
    "df['policy_csl'] = df.policy_csl.fillna(\"MISSING\")\n",
    "df['policy_bind_date'] = pd.to_datetime(df['policy_bind_date'])\n",
    "df['incident_date'] = pd.to_datetime(df['incident_date'])\n",
    "df['claim_day_of_policy'] = (df.incident_date -  df.policy_bind_date).dt.days\n",
    "df['location_check'] = np.nan\n",
    "df['location_check'] = np.where(df['policy_state'] == df['incident_state'], True, False)\n",
    "df['fraud_reported'] = df['fraud_reported'].str.replace('Y', '1')\n",
    "df['fraud_reported'] = df['fraud_reported'].str.replace('N', '0')\n",
    "df['fraud_reported'] = df['fraud_reported'].astype(int)\n",
    "df['umbrella_limit'] = df.umbrella_limit.astype(str)\n",
    "umbrealla = df['umbrella_limit'].unique()\n",
    "for umb in umbrealla:\n",
    "  if (umb != '0.0') & (umb != '9999'):\n",
    "    df['umbrella_limit'] = df['umbrella_limit'].str.replace(umb, 'other')\n",
    "    \n",
    "hobbies = df['insured_hobbies'].unique()\n",
    "for hobby in hobbies:\n",
    "  if (hobby != 'chess') & (hobby != 'cross-fit'):\n",
    "    df['insured_hobbies'] = df['insured_hobbies'].str.replace(hobby, 'other')\n",
    "\n",
    "df['age'] = df.age.fillna(9999)\n",
    "bin_labels = ['15-20', '21-25', '26-30', '31-35', '36-40', '41-45', '46-50', '51-55', '56-60', '61-65','9999']\n",
    "bins = [15, 20, 25, 30, 35, 40, 45, 50, 55, 60, 65, 9999]\n",
    "df['age_group'] = pd.cut(df['age'], bins = bins, labels = bin_labels, include_lowest = True)\n",
    "\n",
    "bins = [0, 50, 100, 150, 200, 250, 300, 350, 400, 450, 500]\n",
    "bin_labels = ['0-50','51-100','101-150','151-200','201-250','251-300','301-350','351-400','401-450','451-500']\n",
    "df['months_as_customer_groups'] = pd.cut(df['months_as_customer'], bins = 10, labels = bin_labels, include_lowest= True)\n",
    "\n",
    "bins = list(np.linspace(0,2500, 6, dtype = int))\n",
    "bin_labels = ['very low', 'low', 'medium', 'high', 'very high']\n",
    "df['policy_annual_premium_groups'] = pd.cut(df['policy_annual_premium'], bins = bins, labels=bin_labels)\n",
    "\n",
    "bins = list(np.linspace(0,2000, 5, dtype = int))\n",
    "bin_labels = ['0-500', '501-1000', '1001-1500', '1501-2000']\n",
    "df['policy_deductable_group'] = pd.cut(df['policy_deductable'], bins = bins, labels = bin_labels)\n",
    "\n",
    "bins = list(np.linspace(10000,100000, 10, dtype = int))\n",
    "bin_labels = ['10000-20000', '20000-30000', '30000-40000' , '40000-50000', '50000-60000', '60000-70000' , '70000-80000', '80000-90000' , '90000-100000']\n",
    "df['capital_gains_groups'] = pd.cut(df[\"capital-gains\"], bins = bins, labels = bin_labels)\n",
    "\n",
    "bins = list(np.linspace(-110000 , 0 , 12, dtype = int))\n",
    "bin_labels = ['-110000 - -100000' , '-100000 - -90000',  '-90000 - -80000' ,   '-80000 - -70000','-70000 - -60000', '-60000 - -50000' , '-50000 - -40000', '-40000 - -30000' ,'-30000 - -20000' ,'-20000 - -10000','-10000 - 0']\n",
    "df['capital_loss_groups'] = pd.cut(df[\"capital-loss\"], bins = bins, labels = bin_labels)\n",
    "\n",
    "bins = list(np.linspace(0,120000, 7, dtype = int))\n",
    "bin_labels = ['0-20000' ,'20000-40000','40000-60000' ,'60000-80000','80000-100000','100000-120000']\n",
    "df['total_claim_amount_groups'] = pd.cut(df[\"total_claim_amount\"], bins = bins, labels = bin_labels)\n",
    "\n",
    "\n",
    "bins = list(np.linspace(0,10000, 11, dtype = int))\n",
    "bin_labels = ['0-1000', '1000-2000', '2000-3000', '3000-4000' , '4000-5000', '5000-6000', '6000-7000' , '7000-8000', '8000-9000' , '9000-10000']\n",
    "df['claim_day_of_policy_groups'] = pd.cut(df[\"claim_day_of_policy\"], bins = bins, labels = bin_labels)\n",
    "\n",
    "\n",
    "df = df.drop(['age', 'months_as_customer', 'policy_deductable', 'policy_annual_premium' ,\"capital-gains\" ,\"capital-loss\",\"total_claim_amount\",\"claim_day_of_policy\"], axis = 1)\n",
    "\n",
    "required_columns = ['incident_date','policy_state', 'policy_csl', 'umbrella_limit',\n",
    "       'insured_zip', 'insured_sex', 'insured_education_level',\n",
    "       'insured_occupation', 'insured_hobbies', 'insured_relationship',\n",
    "        'capital_loss_groups', 'incident_type', 'collision_type',\n",
    "       'incident_severity', 'authorities_contacted', 'incident_state',\n",
    "       'incident_city', 'incident_location', 'incident_hour_of_the_day',\n",
    "       'number_of_vehicles_involved', 'property_damage', 'bodily_injuries',\n",
    "       'witnesses', 'police_report_available', 'total_claim_amount_groups','auto_make',\n",
    "       'auto_model', 'auto_year', 'claim_day_of_policy_groups',\n",
    "       'location_check', 'age_group', 'months_as_customer_groups',\n",
    "       'policy_annual_premium_groups', 'policy_deductable_group' , 'fraud_reported']\n",
    "\n",
    "df = df[required_columns]"
   ]
  },
  {
   "cell_type": "code",
   "execution_count": 3,
   "id": "4dcf33a7-36a4-4518-a58c-b698d136df10",
   "metadata": {},
   "outputs": [],
   "source": [
    "valData = df.sort_values(by='incident_date',ascending=False).head(200)\n",
    "train_testData = df.sort_values(by='incident_date',ascending=False).tail(800)"
   ]
  },
  {
   "cell_type": "code",
   "execution_count": 4,
   "id": "cbbf56f9-0cd0-4e69-8868-9776c4a0ca73",
   "metadata": {},
   "outputs": [],
   "source": [
    "valData = valData.drop([\"incident_date\",\"insured_zip\",\"incident_location\"],axis=1)\n",
    "train_testData = train_testData.drop([\"incident_date\",\"insured_zip\",\"incident_location\"],axis=1)"
   ]
  },
  {
   "cell_type": "markdown",
   "id": "0e20b4af-5575-4e73-ada8-cbbcaf1ed0f2",
   "metadata": {},
   "source": [
    " **⚫ Alttaki iki kod bloğunda train_test ve validasyon verilerine ait kolonların eşssiz değerleri görülmektedir.Açıkça görüldüğü üzere train_test ve validasyon verisetleri arasında düzgün bir dağılım söz konusu olmayıp train_test verisetindeki bazı label değerleri validasyon setinde mevcut değildir.**"
   ]
  },
  {
   "cell_type": "code",
   "execution_count": 5,
   "id": "92187bc8-274e-4630-93d1-879fe69e765e",
   "metadata": {},
   "outputs": [
    {
     "name": "stdout",
     "output_type": "stream",
     "text": [
      "policy_state : 3\n",
      "policy_csl : 4\n",
      "umbrella_limit : 3\n",
      "insured_sex : 2\n",
      "insured_education_level : 7\n",
      "insured_occupation : 14\n",
      "insured_hobbies : 3\n",
      "insured_relationship : 6\n",
      "capital_loss_groups : 10\n",
      "incident_type : 4\n",
      "collision_type : 4\n",
      "incident_severity : 4\n",
      "authorities_contacted : 5\n",
      "incident_state : 7\n",
      "incident_city : 7\n",
      "incident_hour_of_the_day : 24\n",
      "number_of_vehicles_involved : 4\n",
      "property_damage : 3\n",
      "bodily_injuries : 3\n",
      "witnesses : 4\n",
      "police_report_available : 4\n",
      "total_claim_amount_groups : 6\n",
      "auto_make : 14\n",
      "auto_model : 39\n",
      "auto_year : 21\n",
      "claim_day_of_policy_groups : 10\n",
      "location_check : 2\n",
      "age_group : 11\n",
      "months_as_customer_groups : 10\n",
      "policy_annual_premium_groups : 5\n",
      "policy_deductable_group : 3\n",
      "fraud_reported : 2\n"
     ]
    }
   ],
   "source": [
    "for col in train_testData.columns:\n",
    "        print(str(col) +\" : \" + str(train_testData[col].nunique()))"
   ]
  },
  {
   "cell_type": "code",
   "execution_count": 6,
   "id": "3f8b9870-ca18-48ec-a00e-c5de777b7ad1",
   "metadata": {},
   "outputs": [
    {
     "name": "stdout",
     "output_type": "stream",
     "text": [
      "policy_state : 3\n",
      "policy_csl : 4\n",
      "umbrella_limit : 3\n",
      "insured_sex : 2\n",
      "insured_education_level : 7\n",
      "insured_occupation : 14\n",
      "insured_hobbies : 3\n",
      "insured_relationship : 6\n",
      "capital_loss_groups : 9\n",
      "incident_type : 4\n",
      "collision_type : 4\n",
      "incident_severity : 4\n",
      "authorities_contacted : 5\n",
      "incident_state : 7\n",
      "incident_city : 7\n",
      "incident_hour_of_the_day : 24\n",
      "number_of_vehicles_involved : 4\n",
      "property_damage : 3\n",
      "bodily_injuries : 3\n",
      "witnesses : 4\n",
      "police_report_available : 4\n",
      "total_claim_amount_groups : 5\n",
      "auto_make : 14\n",
      "auto_model : 38\n",
      "auto_year : 21\n",
      "claim_day_of_policy_groups : 10\n",
      "location_check : 1\n",
      "age_group : 10\n",
      "months_as_customer_groups : 10\n",
      "policy_annual_premium_groups : 3\n",
      "policy_deductable_group : 3\n",
      "fraud_reported : 2\n"
     ]
    }
   ],
   "source": [
    "for col in valData.columns:\n",
    "        print(str(col) +\" : \" + str(valData[col].nunique()))"
   ]
  },
  {
   "cell_type": "markdown",
   "id": "80151798-df9c-49fe-8e06-68d966afcb36",
   "metadata": {},
   "source": [
    "# TRAIN TEST DATA ONE-HOT-ENCODING"
   ]
  },
  {
   "cell_type": "code",
   "execution_count": 122,
   "id": "27d97a00-83e0-4464-9349-958bf597749a",
   "metadata": {},
   "outputs": [],
   "source": [
    "cat_cols = ['age_group', 'months_as_customer_groups', 'policy_annual_premium_groups','location_check','policy_deductable_group','capital_loss_groups','total_claim_amount_groups','claim_day_of_policy_groups']\n",
    "for col in cat_cols:\n",
    "   train_testData[col] = train_testData[col].astype('object')\n",
    "\n",
    "columns_to_encode = []\n",
    "for col in train_testData.columns:\n",
    "  if train_testData[col].dtype == 'object':\n",
    "    columns_to_encode.append(col)\n",
    "\n",
    "oneHotEncoded_train_testData = pd.get_dummies(train_testData, columns = columns_to_encode)"
   ]
  },
  {
   "cell_type": "code",
   "execution_count": 123,
   "id": "293d0b8d-5628-44f3-82f9-5d513d9d1d67",
   "metadata": {},
   "outputs": [],
   "source": [
    "features = []\n",
    "for col in oneHotEncoded_train_testData.columns:\n",
    "  if col != 'fraud_reported':\n",
    "    features.append(col)\n",
    "\n",
    "target = 'fraud_reported'\n",
    "\n",
    "X = oneHotEncoded_train_testData[features]\n",
    "y = oneHotEncoded_train_testData[target]"
   ]
  },
  {
   "cell_type": "code",
   "execution_count": 9,
   "id": "61f7638c-48b6-4e21-b5ee-1b24a0a5f0fd",
   "metadata": {},
   "outputs": [],
   "source": [
    "from sklearn.preprocessing import StandardScaler\n",
    "\n",
    "sc = StandardScaler()\n",
    "X = sc.fit_transform(X)"
   ]
  },
  {
   "cell_type": "code",
   "execution_count": 125,
   "id": "6892cd98-877c-427b-9855-f4fcccf06386",
   "metadata": {},
   "outputs": [
    {
     "name": "stderr",
     "output_type": "stream",
     "text": [
      "D:\\Program Files\\Python\\lib\\site-packages\\seaborn\\_decorators.py:36: FutureWarning: Pass the following variable as a keyword arg: x. From version 0.12, the only valid positional argument will be `data`, and passing other arguments without an explicit keyword will result in an error or misinterpretation.\n",
      "  warnings.warn(\n"
     ]
    },
    {
     "data": {
      "text/plain": [
       "<AxesSubplot:xlabel='fraud_reported', ylabel='count'>"
      ]
     },
     "execution_count": 125,
     "metadata": {},
     "output_type": "execute_result"
    },
    {
     "data": {
      "image/png": "[encoded data removed]",
      "text/plain": [
       "<Figure size 432x288 with 1 Axes>"
      ]
     },
     "metadata": {
      "needs_background": "light"
     },
     "output_type": "display_data"
    }
   ],
   "source": [
    "chck = pd.DataFrame()\n",
    "chck['fraud_reported'] = y\n",
    "\n",
    "sns.countplot(chck['fraud_reported'])"
   ]
  },
  {
   "cell_type": "markdown",
   "id": "2fca6524-79ed-4743-9922-bdb16316953a",
   "metadata": {},
   "source": [
    "### 3. IMBALANCE DATASETTE TRAIN_TEST SPLIT UYGULARKEN HANGİ DURUMLAR GÖZ ÖNÜNE ALINMALIDIR ?\n",
    "**Yukarıdaki grafikte hedef değişken konumunda olan suistimal durumunun train_test verisetinde dağılımına baktığımızda 0 lar çok fazla bulunmaktadır.Bu durum veriseti eğitilirken modelin çok fazla 0 demesine eğilim gösterebilir.Çözüm olarak OVERSAMPLING yöntemi uygulanarak ilgili verisetinde 1 değerleri artırılarak 1 ve 0 lar yaklaşık olarak eşit sayıya yaklaştırılabilir ancak burada eğitilecek verisetine olmayan verileri eklememiz sorun oluşturabilir.Diğer bir çözüm ise UNDERSAMPLING  , burada ise 1 ve 0 sayılarını eşitlemek için 0 lar verisetinden çıkartılır ancak bu durum eğitilecek verisetinde ciddi şekilde veri kaybına sebep olmaktadır.Aşağıdaki use case bazında OVERSAMPLING yöntemi uygulanmıştır.** "
   ]
  },
  {
   "cell_type": "code",
   "execution_count": 10,
   "id": "fb02fe08-6ad2-407f-a0dc-c9e3ca8a7c09",
   "metadata": {},
   "outputs": [],
   "source": [
    "oversample = SMOTE(random_state=9)\n",
    "X_train, X_test, y_train, y_test = train_test_split(X, y, test_size = 0.3,  random_state = 42)\n",
    "X_over, y_over = oversample.fit_resample(X_train, y_train)\n",
    "X_train, X_test, y_train, y_test = train_test_split(X_over, y_over, test_size = 0.3, random_state = 1)"
   ]
  },
  {
   "cell_type": "code",
   "execution_count": 11,
   "id": "a04b46c7-f97b-4ab8-a7ef-d2801f4e9102",
   "metadata": {},
   "outputs": [
    {
     "name": "stderr",
     "output_type": "stream",
     "text": [
      "D:\\Program Files\\Python\\lib\\site-packages\\seaborn\\_decorators.py:36: FutureWarning: Pass the following variable as a keyword arg: x. From version 0.12, the only valid positional argument will be `data`, and passing other arguments without an explicit keyword will result in an error or misinterpretation.\n",
      "  warnings.warn(\n"
     ]
    },
    {
     "data": {
      "text/plain": [
       "<AxesSubplot:xlabel='fraud_reported', ylabel='count'>"
      ]
     },
     "execution_count": 11,
     "metadata": {},
     "output_type": "execute_result"
    },
    {
     "data": {
      "image/png": "[encoded data removed]",
      "text/plain": [
       "<Figure size 432x288 with 1 Axes>"
      ]
     },
     "metadata": {
      "needs_background": "light"
     },
     "output_type": "display_data"
    }
   ],
   "source": [
    "chck = pd.DataFrame()\n",
    "chck['fraud_reported'] = y_train\n",
    "\n",
    "sns.countplot(chck['fraud_reported'])"
   ]
  },
  {
   "cell_type": "code",
   "execution_count": 12,
   "id": "3b2c886b-dd59-4ca4-b8f5-4d53fa9d81e7",
   "metadata": {},
   "outputs": [
    {
     "name": "stdout",
     "output_type": "stream",
     "text": [
      "92.46031746031747\n",
      "\n",
      "              precision    recall  f1-score   support\n",
      "\n",
      "           0       0.92      0.93      0.93       128\n",
      "           1       0.93      0.92      0.92       124\n",
      "\n",
      "    accuracy                           0.92       252\n",
      "   macro avg       0.92      0.92      0.92       252\n",
      "weighted avg       0.92      0.92      0.92       252\n",
      "\n"
     ]
    },
    {
     "data": {
      "text/plain": [
       "<AxesSubplot:>"
      ]
     },
     "execution_count": 12,
     "metadata": {},
     "output_type": "execute_result"
    },
    {
     "data": {
      "image/png": "[encoded data removed]",
      "text/plain": [
       "<Figure size 432x288 with 2 Axes>"
      ]
     },
     "metadata": {
      "needs_background": "light"
     },
     "output_type": "display_data"
    }
   ],
   "source": [
    "rfc = RandomForestClassifier(random_state = 1)\n",
    "rfc.fit(X_train, y_train)\n",
    "\n",
    "preds = rfc.predict(X_test)\n",
    "\n",
    "score = rfc.score(X_test, y_test)\n",
    "print(score*100)\n",
    "print()\n",
    "print(classification_report(y_test, preds))\n",
    "\n",
    "cm = confusion_matrix(y_test, preds)\n",
    "sns\n",
    "sns.heatmap(cm, annot=True)"
   ]
  },
  {
   "cell_type": "markdown",
   "id": "480ddbcc-fe96-4f52-9898-963e19957898",
   "metadata": {},
   "source": [
    "# VALIDATION DATA ONE-HOT-ENCODING"
   ]
  },
  {
   "cell_type": "code",
   "execution_count": 13,
   "id": "e1996fd2-1e3f-4f8c-9320-4ceb65aaa5e8",
   "metadata": {},
   "outputs": [],
   "source": [
    "cat_cols1 = ['age_group', 'months_as_customer_groups', 'policy_annual_premium_groups','location_check','policy_deductable_group','capital_loss_groups','total_claim_amount_groups','claim_day_of_policy_groups']\n",
    "for col in cat_cols1:\n",
    "  valData[col] = valData[col].astype('object')\n",
    "\n",
    "columns_to_encode1 = []\n",
    "for col in valData.columns:\n",
    "  if valData[col].dtype == 'object':\n",
    "    columns_to_encode1.append(col)\n",
    "\n",
    "oneHotEncoded_valData = pd.get_dummies(valData, columns = columns_to_encode1)"
   ]
  },
  {
   "cell_type": "code",
   "execution_count": 14,
   "id": "89dd3b38-ad38-463a-9256-90038ddb3c54",
   "metadata": {},
   "outputs": [],
   "source": [
    "features1 = []\n",
    "for col in oneHotEncoded_valData.columns:\n",
    "  if col != 'fraud_reported':\n",
    "    features1.append(col)\n",
    "\n",
    "target1 = 'fraud_reported'\n",
    "\n",
    "X_val = oneHotEncoded_valData[features1]\n",
    "y_val = oneHotEncoded_valData[target1]"
   ]
  },
  {
   "cell_type": "code",
   "execution_count": 15,
   "id": "19ee36af-4995-4b47-ab5d-c6e6f9a78405",
   "metadata": {},
   "outputs": [],
   "source": [
    "from sklearn.preprocessing import StandardScaler\n",
    "\n",
    "sc = StandardScaler()\n",
    "X_val = sc.fit_transform(X_val)"
   ]
  },
  {
   "cell_type": "markdown",
   "id": "1a2dcf6e-eb32-41f1-a884-db812cd38802",
   "metadata": {},
   "source": [
    "### 1. ONE-HOT ENCODING MODELİN GÖRMEDİĞİ (VALİDASYON SETİNE) NASIL UYGULANIR ?\n",
    "**⚫ Model eğtildikten sonra validasyon veriseti üzerinde One-Hot-Encoding işlemi yapıldıktan sonra tahminleme yapılırken aşağıdaki hata alınmıştır bu hatanın sebebi en başta belirtildiği gibi veriseti train_test ve validasyon'a uniform olarak bölünmediği için train_test verisinde olan bazı kolonlar validasyon verisinde mevcut değildir.** "
   ]
  },
  {
   "cell_type": "code",
   "execution_count": 16,
   "id": "8c4bc5de-8e35-4974-8d77-e252b06d6c34",
   "metadata": {},
   "outputs": [
    {
     "ename": "ValueError",
     "evalue": "X has 188 features, but RandomForestClassifier is expecting 195 features as input.",
     "output_type": "error",
     "traceback": [
      "\u001b[1;31m---------------------------------------------------------------------------\u001b[0m",
      "\u001b[1;31mValueError\u001b[0m                                Traceback (most recent call last)",
      "\u001b[1;32m~\\AppData\\Local\\Temp/ipykernel_13172/1196544767.py\u001b[0m in \u001b[0;36m<module>\u001b[1;34m\u001b[0m\n\u001b[1;32m----> 1\u001b[1;33m \u001b[0mpreds\u001b[0m \u001b[1;33m=\u001b[0m \u001b[0mrfc\u001b[0m\u001b[1;33m.\u001b[0m\u001b[0mpredict\u001b[0m\u001b[1;33m(\u001b[0m\u001b[0mX_val\u001b[0m\u001b[1;33m)\u001b[0m\u001b[1;33m\u001b[0m\u001b[1;33m\u001b[0m\u001b[0m\n\u001b[0m\u001b[0;32m      2\u001b[0m \u001b[0mscore\u001b[0m \u001b[1;33m=\u001b[0m \u001b[0mrfc\u001b[0m\u001b[1;33m.\u001b[0m\u001b[0mscore\u001b[0m\u001b[1;33m(\u001b[0m\u001b[0mX_val\u001b[0m\u001b[1;33m,\u001b[0m \u001b[0my_val\u001b[0m\u001b[1;33m)\u001b[0m\u001b[1;33m\u001b[0m\u001b[1;33m\u001b[0m\u001b[0m\n\u001b[0;32m      3\u001b[0m \u001b[0mprint\u001b[0m\u001b[1;33m(\u001b[0m\u001b[0mscore\u001b[0m\u001b[1;33m*\u001b[0m\u001b[1;36m100\u001b[0m\u001b[1;33m)\u001b[0m\u001b[1;33m\u001b[0m\u001b[1;33m\u001b[0m\u001b[0m\n\u001b[0;32m      4\u001b[0m \u001b[0mprint\u001b[0m\u001b[1;33m(\u001b[0m\u001b[1;33m)\u001b[0m\u001b[1;33m\u001b[0m\u001b[1;33m\u001b[0m\u001b[0m\n\u001b[0;32m      5\u001b[0m \u001b[0mprint\u001b[0m\u001b[1;33m(\u001b[0m\u001b[0mclassification_report\u001b[0m\u001b[1;33m(\u001b[0m\u001b[0my_val\u001b[0m\u001b[1;33m,\u001b[0m \u001b[0mpreds\u001b[0m\u001b[1;33m)\u001b[0m\u001b[1;33m)\u001b[0m\u001b[1;33m\u001b[0m\u001b[1;33m\u001b[0m\u001b[0m\n",
      "\u001b[1;32mD:\\Program Files\\Python\\lib\\site-packages\\sklearn\\ensemble\\_forest.py\u001b[0m in \u001b[0;36mpredict\u001b[1;34m(self, X)\u001b[0m\n\u001b[0;32m    795\u001b[0m             \u001b[0mThe\u001b[0m \u001b[0mpredicted\u001b[0m \u001b[0mclasses\u001b[0m\u001b[1;33m.\u001b[0m\u001b[1;33m\u001b[0m\u001b[1;33m\u001b[0m\u001b[0m\n\u001b[0;32m    796\u001b[0m         \"\"\"\n\u001b[1;32m--> 797\u001b[1;33m         \u001b[0mproba\u001b[0m \u001b[1;33m=\u001b[0m \u001b[0mself\u001b[0m\u001b[1;33m.\u001b[0m\u001b[0mpredict_proba\u001b[0m\u001b[1;33m(\u001b[0m\u001b[0mX\u001b[0m\u001b[1;33m)\u001b[0m\u001b[1;33m\u001b[0m\u001b[1;33m\u001b[0m\u001b[0m\n\u001b[0m\u001b[0;32m    798\u001b[0m \u001b[1;33m\u001b[0m\u001b[0m\n\u001b[0;32m    799\u001b[0m         \u001b[1;32mif\u001b[0m \u001b[0mself\u001b[0m\u001b[1;33m.\u001b[0m\u001b[0mn_outputs_\u001b[0m \u001b[1;33m==\u001b[0m \u001b[1;36m1\u001b[0m\u001b[1;33m:\u001b[0m\u001b[1;33m\u001b[0m\u001b[1;33m\u001b[0m\u001b[0m\n",
      "\u001b[1;32mD:\\Program Files\\Python\\lib\\site-packages\\sklearn\\ensemble\\_forest.py\u001b[0m in \u001b[0;36mpredict_proba\u001b[1;34m(self, X)\u001b[0m\n\u001b[0;32m    837\u001b[0m         \u001b[0mcheck_is_fitted\u001b[0m\u001b[1;33m(\u001b[0m\u001b[0mself\u001b[0m\u001b[1;33m)\u001b[0m\u001b[1;33m\u001b[0m\u001b[1;33m\u001b[0m\u001b[0m\n\u001b[0;32m    838\u001b[0m         \u001b[1;31m# Check data\u001b[0m\u001b[1;33m\u001b[0m\u001b[1;33m\u001b[0m\u001b[0m\n\u001b[1;32m--> 839\u001b[1;33m         \u001b[0mX\u001b[0m \u001b[1;33m=\u001b[0m \u001b[0mself\u001b[0m\u001b[1;33m.\u001b[0m\u001b[0m_validate_X_predict\u001b[0m\u001b[1;33m(\u001b[0m\u001b[0mX\u001b[0m\u001b[1;33m)\u001b[0m\u001b[1;33m\u001b[0m\u001b[1;33m\u001b[0m\u001b[0m\n\u001b[0m\u001b[0;32m    840\u001b[0m \u001b[1;33m\u001b[0m\u001b[0m\n\u001b[0;32m    841\u001b[0m         \u001b[1;31m# Assign chunk of trees to jobs\u001b[0m\u001b[1;33m\u001b[0m\u001b[1;33m\u001b[0m\u001b[0m\n",
      "\u001b[1;32mD:\\Program Files\\Python\\lib\\site-packages\\sklearn\\ensemble\\_forest.py\u001b[0m in \u001b[0;36m_validate_X_predict\u001b[1;34m(self, X)\u001b[0m\n\u001b[0;32m    566\u001b[0m         Validate X whenever one tries to predict, apply, predict_proba.\"\"\"\n\u001b[0;32m    567\u001b[0m         \u001b[0mcheck_is_fitted\u001b[0m\u001b[1;33m(\u001b[0m\u001b[0mself\u001b[0m\u001b[1;33m)\u001b[0m\u001b[1;33m\u001b[0m\u001b[1;33m\u001b[0m\u001b[0m\n\u001b[1;32m--> 568\u001b[1;33m         \u001b[0mX\u001b[0m \u001b[1;33m=\u001b[0m \u001b[0mself\u001b[0m\u001b[1;33m.\u001b[0m\u001b[0m_validate_data\u001b[0m\u001b[1;33m(\u001b[0m\u001b[0mX\u001b[0m\u001b[1;33m,\u001b[0m \u001b[0mdtype\u001b[0m\u001b[1;33m=\u001b[0m\u001b[0mDTYPE\u001b[0m\u001b[1;33m,\u001b[0m \u001b[0maccept_sparse\u001b[0m\u001b[1;33m=\u001b[0m\u001b[1;34m\"csr\"\u001b[0m\u001b[1;33m,\u001b[0m \u001b[0mreset\u001b[0m\u001b[1;33m=\u001b[0m\u001b[1;32mFalse\u001b[0m\u001b[1;33m)\u001b[0m\u001b[1;33m\u001b[0m\u001b[1;33m\u001b[0m\u001b[0m\n\u001b[0m\u001b[0;32m    569\u001b[0m         \u001b[1;32mif\u001b[0m \u001b[0missparse\u001b[0m\u001b[1;33m(\u001b[0m\u001b[0mX\u001b[0m\u001b[1;33m)\u001b[0m \u001b[1;32mand\u001b[0m \u001b[1;33m(\u001b[0m\u001b[0mX\u001b[0m\u001b[1;33m.\u001b[0m\u001b[0mindices\u001b[0m\u001b[1;33m.\u001b[0m\u001b[0mdtype\u001b[0m \u001b[1;33m!=\u001b[0m \u001b[0mnp\u001b[0m\u001b[1;33m.\u001b[0m\u001b[0mintc\u001b[0m \u001b[1;32mor\u001b[0m \u001b[0mX\u001b[0m\u001b[1;33m.\u001b[0m\u001b[0mindptr\u001b[0m\u001b[1;33m.\u001b[0m\u001b[0mdtype\u001b[0m \u001b[1;33m!=\u001b[0m \u001b[0mnp\u001b[0m\u001b[1;33m.\u001b[0m\u001b[0mintc\u001b[0m\u001b[1;33m)\u001b[0m\u001b[1;33m:\u001b[0m\u001b[1;33m\u001b[0m\u001b[1;33m\u001b[0m\u001b[0m\n\u001b[0;32m    570\u001b[0m             \u001b[1;32mraise\u001b[0m \u001b[0mValueError\u001b[0m\u001b[1;33m(\u001b[0m\u001b[1;34m\"No support for np.int64 index based sparse matrices\"\u001b[0m\u001b[1;33m)\u001b[0m\u001b[1;33m\u001b[0m\u001b[1;33m\u001b[0m\u001b[0m\n",
      "\u001b[1;32mD:\\Program Files\\Python\\lib\\site-packages\\sklearn\\base.py\u001b[0m in \u001b[0;36m_validate_data\u001b[1;34m(self, X, y, reset, validate_separately, **check_params)\u001b[0m\n\u001b[0;32m    574\u001b[0m \u001b[1;33m\u001b[0m\u001b[0m\n\u001b[0;32m    575\u001b[0m         \u001b[1;32mif\u001b[0m \u001b[1;32mnot\u001b[0m \u001b[0mno_val_X\u001b[0m \u001b[1;32mand\u001b[0m \u001b[0mcheck_params\u001b[0m\u001b[1;33m.\u001b[0m\u001b[0mget\u001b[0m\u001b[1;33m(\u001b[0m\u001b[1;34m\"ensure_2d\"\u001b[0m\u001b[1;33m,\u001b[0m \u001b[1;32mTrue\u001b[0m\u001b[1;33m)\u001b[0m\u001b[1;33m:\u001b[0m\u001b[1;33m\u001b[0m\u001b[1;33m\u001b[0m\u001b[0m\n\u001b[1;32m--> 576\u001b[1;33m             \u001b[0mself\u001b[0m\u001b[1;33m.\u001b[0m\u001b[0m_check_n_features\u001b[0m\u001b[1;33m(\u001b[0m\u001b[0mX\u001b[0m\u001b[1;33m,\u001b[0m \u001b[0mreset\u001b[0m\u001b[1;33m=\u001b[0m\u001b[0mreset\u001b[0m\u001b[1;33m)\u001b[0m\u001b[1;33m\u001b[0m\u001b[1;33m\u001b[0m\u001b[0m\n\u001b[0m\u001b[0;32m    577\u001b[0m \u001b[1;33m\u001b[0m\u001b[0m\n\u001b[0;32m    578\u001b[0m         \u001b[1;32mreturn\u001b[0m \u001b[0mout\u001b[0m\u001b[1;33m\u001b[0m\u001b[1;33m\u001b[0m\u001b[0m\n",
      "\u001b[1;32mD:\\Program Files\\Python\\lib\\site-packages\\sklearn\\base.py\u001b[0m in \u001b[0;36m_check_n_features\u001b[1;34m(self, X, reset)\u001b[0m\n\u001b[0;32m    393\u001b[0m \u001b[1;33m\u001b[0m\u001b[0m\n\u001b[0;32m    394\u001b[0m         \u001b[1;32mif\u001b[0m \u001b[0mn_features\u001b[0m \u001b[1;33m!=\u001b[0m \u001b[0mself\u001b[0m\u001b[1;33m.\u001b[0m\u001b[0mn_features_in_\u001b[0m\u001b[1;33m:\u001b[0m\u001b[1;33m\u001b[0m\u001b[1;33m\u001b[0m\u001b[0m\n\u001b[1;32m--> 395\u001b[1;33m             raise ValueError(\n\u001b[0m\u001b[0;32m    396\u001b[0m                 \u001b[1;34mf\"X has {n_features} features, but {self.__class__.__name__} \"\u001b[0m\u001b[1;33m\u001b[0m\u001b[1;33m\u001b[0m\u001b[0m\n\u001b[0;32m    397\u001b[0m                 \u001b[1;34mf\"is expecting {self.n_features_in_} features as input.\"\u001b[0m\u001b[1;33m\u001b[0m\u001b[1;33m\u001b[0m\u001b[0m\n",
      "\u001b[1;31mValueError\u001b[0m: X has 188 features, but RandomForestClassifier is expecting 195 features as input."
     ]
    }
   ],
   "source": [
    "preds = rfc.predict(X_val)\n",
    "score = rfc.score(X_val, y_val)\n",
    "print(score*100)\n",
    "print()\n",
    "print(classification_report(y_val, preds))\n",
    "\n",
    "cm = confusion_matrix(y_val, preds)\n",
    "sns\n",
    "sns.heatmap(cm, annot=True)"
   ]
  },
  {
   "cell_type": "markdown",
   "id": "cbf694f3-7547-495a-93ba-19925f1ba6fd",
   "metadata": {
    "tags": []
   },
   "source": [
    "#### SOLUTION 1 WHEN ONE-HOT-ENCODING FOR VALIDATION DATASET\n",
    "\n",
    "⚫ **Yukarıdaki hataya ilk çözüm yolu olarak burada pandas kütüphanesinden reindex metodu kullanılarak iki veriseti arasındaki eksik kolonlar birbiri ile tamamlanmıştır.Bu çözümde One-Hot Encoding yöntemi uygulanabilmiştir ancak modelin performansı iyi bir sonuç vermemiştir.**"
   ]
  },
  {
   "cell_type": "code",
   "execution_count": 17,
   "id": "0787af7b-c7ca-4b38-bf36-0648386feb52",
   "metadata": {},
   "outputs": [],
   "source": [
    "col_list = oneHotEncoded_train_testData.columns.tolist()"
   ]
  },
  {
   "cell_type": "code",
   "execution_count": 18,
   "id": "2f5d0cb9-0878-4c6d-ab03-6e21fb10d650",
   "metadata": {},
   "outputs": [],
   "source": [
    "cat_cols1 = ['age_group', 'months_as_customer_groups', 'policy_annual_premium_groups','location_check','policy_deductable_group','capital_loss_groups','total_claim_amount_groups','claim_day_of_policy_groups']\n",
    "for col in cat_cols1:\n",
    "  valData[col] = valData[col].astype('object')\n",
    "\n",
    "columns_to_encode1 = []\n",
    "for col in valData.columns:\n",
    "  if valData[col].dtype == 'object':\n",
    "    columns_to_encode1.append(col)\n",
    "\n",
    "oneHotEncoded_valData = pd.get_dummies(valData, columns = columns_to_encode1)"
   ]
  },
  {
   "cell_type": "code",
   "execution_count": 19,
   "id": "22b1db90-090e-4a2d-af0c-c7a0674e06b1",
   "metadata": {},
   "outputs": [],
   "source": [
    "oneHotEncoded_valData = oneHotEncoded_valData.reindex(columns=col_list).fillna(0)"
   ]
  },
  {
   "cell_type": "code",
   "execution_count": 20,
   "id": "4d95195b-0077-40a8-96e3-717d5ba4ed90",
   "metadata": {},
   "outputs": [],
   "source": [
    "for col in oneHotEncoded_valData.columns :\n",
    "    if oneHotEncoded_valData[col].dtype == \"float64\" :\n",
    "        oneHotEncoded_valData[col] = oneHotEncoded_valData[col].astype(\"uint8\")"
   ]
  },
  {
   "cell_type": "code",
   "execution_count": 21,
   "id": "396aec7a-e18b-4571-b66a-a9974b1d1e7a",
   "metadata": {},
   "outputs": [
    {
     "data": {
      "text/plain": [
       "uint8    190\n",
       "int64      5\n",
       "int32      1\n",
       "dtype: int64"
      ]
     },
     "execution_count": 21,
     "metadata": {},
     "output_type": "execute_result"
    }
   ],
   "source": [
    "oneHotEncoded_train_testData.dtypes.value_counts()"
   ]
  },
  {
   "cell_type": "code",
   "execution_count": 22,
   "id": "4ce1e01d-3827-4ebc-a742-16cb2426be9e",
   "metadata": {},
   "outputs": [
    {
     "data": {
      "text/plain": [
       "uint8    190\n",
       "int64      5\n",
       "int32      1\n",
       "dtype: int64"
      ]
     },
     "execution_count": 22,
     "metadata": {},
     "output_type": "execute_result"
    }
   ],
   "source": [
    "oneHotEncoded_valData.dtypes.value_counts()"
   ]
  },
  {
   "cell_type": "code",
   "execution_count": 23,
   "id": "4a921359-7e77-4924-8768-ecff064dc152",
   "metadata": {},
   "outputs": [
    {
     "data": {
      "text/plain": [
       "(800, 196)"
      ]
     },
     "execution_count": 23,
     "metadata": {},
     "output_type": "execute_result"
    }
   ],
   "source": [
    "oneHotEncoded_train_testData.shape"
   ]
  },
  {
   "cell_type": "code",
   "execution_count": 24,
   "id": "71ebb635-3b59-4c25-91fc-99487b6521d9",
   "metadata": {},
   "outputs": [
    {
     "data": {
      "text/plain": [
       "(200, 196)"
      ]
     },
     "execution_count": 24,
     "metadata": {},
     "output_type": "execute_result"
    }
   ],
   "source": [
    "oneHotEncoded_valData.shape"
   ]
  },
  {
   "cell_type": "code",
   "execution_count": 25,
   "id": "926b47b0-1d74-4e09-943f-bd6b0c1b9a8a",
   "metadata": {},
   "outputs": [
    {
     "data": {
      "text/html": [
       "<div>\n",
       "<style scoped>\n",
       "    .dataframe tbody tr th:only-of-type {\n",
       "        vertical-align: middle;\n",
       "    }\n",
       "\n",
       "    .dataframe tbody tr th {\n",
       "        vertical-align: top;\n",
       "    }\n",
       "\n",
       "    .dataframe thead th {\n",
       "        text-align: right;\n",
       "    }\n",
       "</style>\n",
       "<table border=\"1\" class=\"dataframe\">\n",
       "  <thead>\n",
       "    <tr style=\"text-align: right;\">\n",
       "      <th></th>\n",
       "      <th>incident_hour_of_the_day</th>\n",
       "      <th>number_of_vehicles_involved</th>\n",
       "      <th>bodily_injuries</th>\n",
       "      <th>witnesses</th>\n",
       "      <th>auto_year</th>\n",
       "      <th>fraud_reported</th>\n",
       "      <th>policy_state_IL</th>\n",
       "      <th>policy_state_IN</th>\n",
       "      <th>policy_state_OH</th>\n",
       "      <th>policy_csl_100/300</th>\n",
       "      <th>...</th>\n",
       "      <th>months_as_customer_groups_451-500</th>\n",
       "      <th>months_as_customer_groups_51-100</th>\n",
       "      <th>policy_annual_premium_groups_high</th>\n",
       "      <th>policy_annual_premium_groups_low</th>\n",
       "      <th>policy_annual_premium_groups_medium</th>\n",
       "      <th>policy_annual_premium_groups_very high</th>\n",
       "      <th>policy_annual_premium_groups_very low</th>\n",
       "      <th>policy_deductable_group_0-500</th>\n",
       "      <th>policy_deductable_group_1501-2000</th>\n",
       "      <th>policy_deductable_group_501-1000</th>\n",
       "    </tr>\n",
       "  </thead>\n",
       "  <tbody>\n",
       "    <tr>\n",
       "      <th>752</th>\n",
       "      <td>2</td>\n",
       "      <td>4</td>\n",
       "      <td>0</td>\n",
       "      <td>2</td>\n",
       "      <td>1997</td>\n",
       "      <td>0</td>\n",
       "      <td>1</td>\n",
       "      <td>0</td>\n",
       "      <td>0</td>\n",
       "      <td>0</td>\n",
       "      <td>...</td>\n",
       "      <td>0</td>\n",
       "      <td>0</td>\n",
       "      <td>0</td>\n",
       "      <td>1</td>\n",
       "      <td>0</td>\n",
       "      <td>0</td>\n",
       "      <td>0</td>\n",
       "      <td>1</td>\n",
       "      <td>0</td>\n",
       "      <td>0</td>\n",
       "    </tr>\n",
       "    <tr>\n",
       "      <th>74</th>\n",
       "      <td>18</td>\n",
       "      <td>3</td>\n",
       "      <td>1</td>\n",
       "      <td>0</td>\n",
       "      <td>2005</td>\n",
       "      <td>0</td>\n",
       "      <td>1</td>\n",
       "      <td>0</td>\n",
       "      <td>0</td>\n",
       "      <td>0</td>\n",
       "      <td>...</td>\n",
       "      <td>0</td>\n",
       "      <td>0</td>\n",
       "      <td>0</td>\n",
       "      <td>0</td>\n",
       "      <td>1</td>\n",
       "      <td>0</td>\n",
       "      <td>0</td>\n",
       "      <td>0</td>\n",
       "      <td>0</td>\n",
       "      <td>1</td>\n",
       "    </tr>\n",
       "    <tr>\n",
       "      <th>914</th>\n",
       "      <td>2</td>\n",
       "      <td>4</td>\n",
       "      <td>0</td>\n",
       "      <td>2</td>\n",
       "      <td>1998</td>\n",
       "      <td>0</td>\n",
       "      <td>0</td>\n",
       "      <td>0</td>\n",
       "      <td>1</td>\n",
       "      <td>0</td>\n",
       "      <td>...</td>\n",
       "      <td>0</td>\n",
       "      <td>0</td>\n",
       "      <td>0</td>\n",
       "      <td>1</td>\n",
       "      <td>0</td>\n",
       "      <td>0</td>\n",
       "      <td>0</td>\n",
       "      <td>0</td>\n",
       "      <td>1</td>\n",
       "      <td>0</td>\n",
       "    </tr>\n",
       "    <tr>\n",
       "      <th>883</th>\n",
       "      <td>18</td>\n",
       "      <td>3</td>\n",
       "      <td>0</td>\n",
       "      <td>3</td>\n",
       "      <td>2005</td>\n",
       "      <td>1</td>\n",
       "      <td>0</td>\n",
       "      <td>0</td>\n",
       "      <td>1</td>\n",
       "      <td>0</td>\n",
       "      <td>...</td>\n",
       "      <td>0</td>\n",
       "      <td>0</td>\n",
       "      <td>0</td>\n",
       "      <td>0</td>\n",
       "      <td>1</td>\n",
       "      <td>0</td>\n",
       "      <td>0</td>\n",
       "      <td>0</td>\n",
       "      <td>0</td>\n",
       "      <td>1</td>\n",
       "    </tr>\n",
       "    <tr>\n",
       "      <th>839</th>\n",
       "      <td>4</td>\n",
       "      <td>1</td>\n",
       "      <td>2</td>\n",
       "      <td>2</td>\n",
       "      <td>2011</td>\n",
       "      <td>0</td>\n",
       "      <td>0</td>\n",
       "      <td>0</td>\n",
       "      <td>1</td>\n",
       "      <td>0</td>\n",
       "      <td>...</td>\n",
       "      <td>0</td>\n",
       "      <td>0</td>\n",
       "      <td>0</td>\n",
       "      <td>0</td>\n",
       "      <td>1</td>\n",
       "      <td>0</td>\n",
       "      <td>0</td>\n",
       "      <td>1</td>\n",
       "      <td>0</td>\n",
       "      <td>0</td>\n",
       "    </tr>\n",
       "  </tbody>\n",
       "</table>\n",
       "<p>5 rows × 196 columns</p>\n",
       "</div>"
      ],
      "text/plain": [
       "     incident_hour_of_the_day  number_of_vehicles_involved  bodily_injuries  \\\n",
       "752                         2                            4                0   \n",
       "74                         18                            3                1   \n",
       "914                         2                            4                0   \n",
       "883                        18                            3                0   \n",
       "839                         4                            1                2   \n",
       "\n",
       "     witnesses  auto_year  fraud_reported  policy_state_IL  policy_state_IN  \\\n",
       "752          2       1997               0                1                0   \n",
       "74           0       2005               0                1                0   \n",
       "914          2       1998               0                0                0   \n",
       "883          3       2005               1                0                0   \n",
       "839          2       2011               0                0                0   \n",
       "\n",
       "     policy_state_OH  policy_csl_100/300  ...  \\\n",
       "752                0                   0  ...   \n",
       "74                 0                   0  ...   \n",
       "914                1                   0  ...   \n",
       "883                1                   0  ...   \n",
       "839                1                   0  ...   \n",
       "\n",
       "     months_as_customer_groups_451-500  months_as_customer_groups_51-100  \\\n",
       "752                                  0                                 0   \n",
       "74                                   0                                 0   \n",
       "914                                  0                                 0   \n",
       "883                                  0                                 0   \n",
       "839                                  0                                 0   \n",
       "\n",
       "     policy_annual_premium_groups_high  policy_annual_premium_groups_low  \\\n",
       "752                                  0                                 1   \n",
       "74                                   0                                 0   \n",
       "914                                  0                                 1   \n",
       "883                                  0                                 0   \n",
       "839                                  0                                 0   \n",
       "\n",
       "     policy_annual_premium_groups_medium  \\\n",
       "752                                    0   \n",
       "74                                     1   \n",
       "914                                    0   \n",
       "883                                    1   \n",
       "839                                    1   \n",
       "\n",
       "     policy_annual_premium_groups_very high  \\\n",
       "752                                       0   \n",
       "74                                        0   \n",
       "914                                       0   \n",
       "883                                       0   \n",
       "839                                       0   \n",
       "\n",
       "     policy_annual_premium_groups_very low  policy_deductable_group_0-500  \\\n",
       "752                                      0                              1   \n",
       "74                                       0                              0   \n",
       "914                                      0                              0   \n",
       "883                                      0                              0   \n",
       "839                                      0                              1   \n",
       "\n",
       "     policy_deductable_group_1501-2000  policy_deductable_group_501-1000  \n",
       "752                                  0                                 0  \n",
       "74                                   0                                 1  \n",
       "914                                  1                                 0  \n",
       "883                                  0                                 1  \n",
       "839                                  0                                 0  \n",
       "\n",
       "[5 rows x 196 columns]"
      ]
     },
     "execution_count": 25,
     "metadata": {},
     "output_type": "execute_result"
    }
   ],
   "source": [
    "oneHotEncoded_valData.head()"
   ]
  },
  {
   "cell_type": "code",
   "execution_count": 26,
   "id": "ab9fb28a-e4d7-4a1a-b78e-bb187c85481c",
   "metadata": {},
   "outputs": [],
   "source": [
    "features1 = []\n",
    "for col in oneHotEncoded_valData.columns:\n",
    "  if col != 'fraud_reported':\n",
    "    features1.append(col)\n",
    "\n",
    "target1 = 'fraud_reported'\n",
    "\n",
    "X_val = oneHotEncoded_valData[features1]\n",
    "y_val = oneHotEncoded_valData[target1]"
   ]
  },
  {
   "cell_type": "code",
   "execution_count": 27,
   "id": "9c25fdf0-d4a0-4040-a94a-84f22355416c",
   "metadata": {},
   "outputs": [],
   "source": [
    "from sklearn.preprocessing import StandardScaler\n",
    "\n",
    "sc = StandardScaler()\n",
    "X_val = sc.fit_transform(X_val)"
   ]
  },
  {
   "cell_type": "code",
   "execution_count": 28,
   "id": "847b3fa8-53d6-46d1-9061-4c67d191d8d2",
   "metadata": {},
   "outputs": [
    {
     "name": "stdout",
     "output_type": "stream",
     "text": [
      "48.0\n",
      "\n",
      "              precision    recall  f1-score   support\n",
      "\n",
      "           0       0.93      0.39      0.55       163\n",
      "           1       0.24      0.86      0.38        37\n",
      "\n",
      "    accuracy                           0.48       200\n",
      "   macro avg       0.59      0.63      0.47       200\n",
      "weighted avg       0.80      0.48      0.52       200\n",
      "\n"
     ]
    },
    {
     "data": {
      "text/plain": [
       "<AxesSubplot:>"
      ]
     },
     "execution_count": 28,
     "metadata": {},
     "output_type": "execute_result"
    },
    {
     "data": {
      "image/png": "[encoded data removed]",
      "text/plain": [
       "<Figure size 432x288 with 2 Axes>"
      ]
     },
     "metadata": {
      "needs_background": "light"
     },
     "output_type": "display_data"
    }
   ],
   "source": [
    "preds = rfc.predict(X_val)\n",
    "score = rfc.score(X_val, y_val)\n",
    "print(score*100)\n",
    "print()\n",
    "print(classification_report(y_val, preds))\n",
    "\n",
    "cm = confusion_matrix(y_val, preds)\n",
    "sns\n",
    "sns.heatmap(cm, annot=True)"
   ]
  },
  {
   "cell_type": "markdown",
   "id": "2ebc4ecd-39c3-4502-a665-a7a86157cb95",
   "metadata": {},
   "source": [
    "#### SOLUTION 2 WHEN ONE-HOT-ENCODING FOR VALIDATION DATASET\n",
    "⚫ **Yukarıdaki hataya ikinci ve etkili çözüm yolu olarak burada scikit-learn kütüphanesinden OneHotEncoder metodu kullanılarak train_test üzerinde fit_transform ardından validasyon üzerinde transform uygulanmıştır.Bu çözümde OneHotEncoder metodunda ,  train_test setinde bulunup validasyon seti içerisinde bulunmayan labellar için handle_unkown parametresi kullanılarak modelin görmediği verisetine One-Hot Encoding uygulanmıştır ve modelin performansı çok iyi bir sonuç vermiştir.**"
   ]
  },
  {
   "cell_type": "code",
   "execution_count": 29,
   "id": "2d8351cb-2633-4826-911c-569d0981b55a",
   "metadata": {},
   "outputs": [],
   "source": [
    "from sklearn.preprocessing import OneHotEncoder\n",
    "\n",
    "encoder = OneHotEncoder(handle_unknown='ignore')\n",
    "oneHotEncoded_train_testData1 = encoder.fit_transform(train_testData).toarray()   # Assume for simplicity all features are categorical.\n",
    "# Apply the encoder.\n",
    "oneHotEncoded_valData1 = encoder.transform(valData).toarray() "
   ]
  },
  {
   "cell_type": "code",
   "execution_count": 30,
   "id": "513246fa-817b-49c5-b263-de2a88d9c2db",
   "metadata": {},
   "outputs": [],
   "source": [
    "X = oneHotEncoded_train_testData1[: , :3824]\n",
    "y = oneHotEncoded_train_testData1[: , -1]"
   ]
  },
  {
   "cell_type": "code",
   "execution_count": 31,
   "id": "93dd5313-0fba-4dc9-86b6-db0bdeb6d189",
   "metadata": {},
   "outputs": [],
   "source": [
    "from sklearn.preprocessing import StandardScaler\n",
    "\n",
    "sc = StandardScaler()\n",
    "X = sc.fit_transform(X)"
   ]
  },
  {
   "cell_type": "code",
   "execution_count": 32,
   "id": "a7c61395-312d-4b44-8b05-7e91d5a92cf2",
   "metadata": {},
   "outputs": [],
   "source": [
    "oversample = SMOTE(random_state=9)\n",
    "X_train, X_test, y_train, y_test = train_test_split(X, y, test_size = 0.3,  random_state = 42)\n",
    "X_over, y_over = oversample.fit_resample(X_train, y_train)\n",
    "X_train, X_test, y_train, y_test = train_test_split(X_over, y_over, test_size = 0.3, random_state = 1)"
   ]
  },
  {
   "cell_type": "code",
   "execution_count": 33,
   "id": "7c7963c6-16ac-48d7-bbcb-294a6b1e4e51",
   "metadata": {},
   "outputs": [
    {
     "name": "stderr",
     "output_type": "stream",
     "text": [
      "D:\\Program Files\\Python\\lib\\site-packages\\seaborn\\_decorators.py:36: FutureWarning: Pass the following variable as a keyword arg: x. From version 0.12, the only valid positional argument will be `data`, and passing other arguments without an explicit keyword will result in an error or misinterpretation.\n",
      "  warnings.warn(\n"
     ]
    },
    {
     "data": {
      "text/plain": [
       "<AxesSubplot:xlabel='fraud_reported', ylabel='count'>"
      ]
     },
     "execution_count": 33,
     "metadata": {},
     "output_type": "execute_result"
    },
    {
     "data": {
      "image/png": "[encoded data removed]",
      "text/plain": [
       "<Figure size 432x288 with 1 Axes>"
      ]
     },
     "metadata": {
      "needs_background": "light"
     },
     "output_type": "display_data"
    }
   ],
   "source": [
    "chck = pd.DataFrame()\n",
    "chck['fraud_reported'] = y_train\n",
    "\n",
    "sns.countplot(chck['fraud_reported'])"
   ]
  },
  {
   "cell_type": "code",
   "execution_count": 34,
   "id": "b68c7f74-a213-492b-8556-f677a269acf0",
   "metadata": {},
   "outputs": [
    {
     "name": "stdout",
     "output_type": "stream",
     "text": [
      "100.0\n",
      "              precision    recall  f1-score   support\n",
      "\n",
      "         0.0       1.00      1.00      1.00       128\n",
      "         1.0       1.00      1.00      1.00       124\n",
      "\n",
      "    accuracy                           1.00       252\n",
      "   macro avg       1.00      1.00      1.00       252\n",
      "weighted avg       1.00      1.00      1.00       252\n",
      "\n"
     ]
    },
    {
     "data": {
      "text/plain": [
       "<AxesSubplot:>"
      ]
     },
     "execution_count": 34,
     "metadata": {},
     "output_type": "execute_result"
    },
    {
     "data": {
      "image/png": "[encoded data removed]",
      "text/plain": [
       "<Figure size 432x288 with 2 Axes>"
      ]
     },
     "metadata": {
      "needs_background": "light"
     },
     "output_type": "display_data"
    }
   ],
   "source": [
    "rfc = RandomForestClassifier(random_state = 1)\n",
    "rfc.fit(X_train, y_train)\n",
    "\n",
    "preds = rfc.predict(X_test)\n",
    "\n",
    "score = rfc.score(X_test, y_test)\n",
    "print(score*100)\n",
    "print(classification_report(y_test, preds))\n",
    "\n",
    "cm = confusion_matrix(y_test, preds)\n",
    "sns.heatmap(cm, annot=True)"
   ]
  },
  {
   "cell_type": "code",
   "execution_count": 35,
   "id": "5e4df709-464d-46ff-af5c-dfa9fe4fa704",
   "metadata": {},
   "outputs": [
    {
     "data": {
      "text/plain": [
       "(200, 250)"
      ]
     },
     "execution_count": 35,
     "metadata": {},
     "output_type": "execute_result"
    }
   ],
   "source": [
    "oneHotEncoded_valData1.shape"
   ]
  },
  {
   "cell_type": "code",
   "execution_count": 36,
   "id": "6f31b72f-7cec-43b5-acd6-cbd0372ad509",
   "metadata": {},
   "outputs": [],
   "source": [
    "X1 = oneHotEncoded_valData1[: , :3824]\n",
    "y1 = oneHotEncoded_valData1[: , -1]"
   ]
  },
  {
   "cell_type": "code",
   "execution_count": 37,
   "id": "5e71bf7a-5109-4357-94e2-6cd056643ef8",
   "metadata": {},
   "outputs": [
    {
     "data": {
      "text/plain": [
       "(200, 250)"
      ]
     },
     "execution_count": 37,
     "metadata": {},
     "output_type": "execute_result"
    }
   ],
   "source": [
    "oneHotEncoded_valData1.shape"
   ]
  },
  {
   "cell_type": "code",
   "execution_count": 38,
   "id": "e8178273-7c0f-4eec-8bec-d32e4ffaaa96",
   "metadata": {},
   "outputs": [],
   "source": [
    "from sklearn.preprocessing import StandardScaler\n",
    "\n",
    "sc = StandardScaler()\n",
    "X1 = sc.fit_transform(X1)"
   ]
  },
  {
   "cell_type": "code",
   "execution_count": 39,
   "id": "22f0f341-7c71-4670-ba43-c04041e5732c",
   "metadata": {},
   "outputs": [
    {
     "name": "stdout",
     "output_type": "stream",
     "text": [
      "100.0\n",
      "              precision    recall  f1-score   support\n",
      "\n",
      "         0.0       1.00      1.00      1.00       163\n",
      "         1.0       1.00      1.00      1.00        37\n",
      "\n",
      "    accuracy                           1.00       200\n",
      "   macro avg       1.00      1.00      1.00       200\n",
      "weighted avg       1.00      1.00      1.00       200\n",
      "\n"
     ]
    },
    {
     "data": {
      "text/plain": [
       "<AxesSubplot:>"
      ]
     },
     "execution_count": 39,
     "metadata": {},
     "output_type": "execute_result"
    },
    {
     "data": {
      "image/png": "[encoded data removed]",
      "text/plain": [
       "<Figure size 432x288 with 2 Axes>"
      ]
     },
     "metadata": {
      "needs_background": "light"
     },
     "output_type": "display_data"
    }
   ],
   "source": [
    "preds = rfc.predict(X1)\n",
    "score = rfc.score(X1, y1)\n",
    "print(score*100)\n",
    "print(classification_report(y1, preds))\n",
    "\n",
    "cm = confusion_matrix(y1, preds)\n",
    "\n",
    "sns.heatmap(cm, annot=True)"
   ]
  },
  {
   "cell_type": "markdown",
   "id": "aff9f3a5-10be-475c-9a69-4ec66af30f7c",
   "metadata": {},
   "source": [
    "### ADJUSTING THRESHOLD WITH PREDICT_PROBA"
   ]
  },
  {
   "cell_type": "markdown",
   "id": "121574ce-b4a9-4553-a413-fa269d771a36",
   "metadata": {},
   "source": [
    "### 5. Predict_Proba metodu ile oran nasıl hesaplanır ve threshold nasıl değiştirilir ?\n",
    "**⚫ Model eğitildikten sonra test veriseti üzerinde predict metodu yerine predict_proba metodu ile de tahminleme yapabiliriz.Burada default olarak threshold değeri 0.5 dir yani 1 ve 0 ların olasılığı %50 ve eşit olarak hesaplanır , örneğin tahminlememizde çıkan true negative lerin (normalde suistimal olduğu halde bu suistimal değil diye yanlış karar verdiğimiz bölüm) sayısını azaltmak için threshold u default değer olan %50 den %40 a indirerek true negative lerin sayısı azaltılıp false positive lerin sayısı artmış olur , burada model %40 a kadar 0 ları tahminlerken %40 tan yukarısını 1 olarak kabul etmektedir.Tam tersi durumda ise thresholdu örneğin %60'a çıkartarak false negative lerin sayısı azaltılıp %60'a kadar 0 tahminlenip %60 dan sonrası 1 olarak tahminlenir.Bu işlemlerin kod olarak nasıl yapılacağı aşağıdaki kod bloğunda gösterilmiştir.**"
   ]
  },
  {
   "cell_type": "code",
   "execution_count": 40,
   "id": "99f3bcb8-e7ac-4711-b97e-c08af789e541",
   "metadata": {},
   "outputs": [
    {
     "name": "stdout",
     "output_type": "stream",
     "text": [
      "              precision    recall  f1-score   support\n",
      "\n",
      "         0.0       1.00      1.00      1.00       128\n",
      "         1.0       1.00      1.00      1.00       124\n",
      "\n",
      "    accuracy                           1.00       252\n",
      "   macro avg       1.00      1.00      1.00       252\n",
      "weighted avg       1.00      1.00      1.00       252\n",
      "\n"
     ]
    },
    {
     "data": {
      "text/plain": [
       "<AxesSubplot:>"
      ]
     },
     "execution_count": 40,
     "metadata": {},
     "output_type": "execute_result"
    },
    {
     "data": {
      "image/png": "[encoded data removed]",
      "text/plain": [
       "<Figure size 432x288 with 2 Axes>"
      ]
     },
     "metadata": {
      "needs_background": "light"
     },
     "output_type": "display_data"
    }
   ],
   "source": [
    "threshold = 0.71\n",
    "rfc = RandomForestClassifier(random_state = 1)\n",
    "rfc.fit(X_train, y_train)\n",
    "\n",
    "predicted_proba = (rfc.predict_proba(X_test)[:,1] >= threshold).astype(\"int\")\n",
    "\n",
    "print(classification_report(y_test, predicted_proba))\n",
    "\n",
    "cm = confusion_matrix(y_test, predicted_proba)\n",
    "sns.heatmap(cm, annot=True)"
   ]
  },
  {
   "cell_type": "markdown",
   "id": "4d1f4cfe-534d-49e7-bd96-165af9cef574",
   "metadata": {},
   "source": [
    "# TRAIN TEST DATA LABEL ENCODING"
   ]
  },
  {
   "cell_type": "code",
   "execution_count": 41,
   "id": "0fc6f688-9f3f-418a-97d2-1d90cc381923",
   "metadata": {},
   "outputs": [],
   "source": [
    "labelEncoded_train_testData = train_testData.apply(LabelEncoder().fit_transform)"
   ]
  },
  {
   "cell_type": "code",
   "execution_count": 42,
   "id": "9909fae5-346b-4bd4-9854-5a3836142724",
   "metadata": {},
   "outputs": [],
   "source": [
    "features = []\n",
    "for col in labelEncoded_train_testData.columns:\n",
    "  if col != 'fraud_reported':\n",
    "    features.append(col)\n",
    "\n",
    "target = 'fraud_reported'\n",
    "\n",
    "X = labelEncoded_train_testData[features]\n",
    "y = labelEncoded_train_testData[target]"
   ]
  },
  {
   "cell_type": "code",
   "execution_count": 43,
   "id": "d4662849-d62a-48fe-966f-e69ffe0e793e",
   "metadata": {},
   "outputs": [],
   "source": [
    "from sklearn.preprocessing import StandardScaler\n",
    "\n",
    "sc = StandardScaler()\n",
    "X = sc.fit_transform(X)"
   ]
  },
  {
   "cell_type": "code",
   "execution_count": 44,
   "id": "d06ec807-70b1-4d13-ae8f-fe6bcec32c21",
   "metadata": {},
   "outputs": [],
   "source": [
    "oversample = SMOTE(random_state=9)\n",
    "X_train, X_test, y_train, y_test = train_test_split(X, y, test_size = 0.3,  random_state = 42)\n",
    "X_over, y_over = oversample.fit_resample(X_train, y_train)\n",
    "X_train, X_test, y_train, y_test = train_test_split(X_over, y_over, test_size = 0.3, random_state = 1)"
   ]
  },
  {
   "cell_type": "code",
   "execution_count": 45,
   "id": "1458db71-7c05-45d0-99c6-92b5b3122d70",
   "metadata": {},
   "outputs": [
    {
     "name": "stdout",
     "output_type": "stream",
     "text": [
      "92.85714285714286\n",
      "              precision    recall  f1-score   support\n",
      "\n",
      "           0       0.93      0.93      0.93       128\n",
      "           1       0.93      0.93      0.93       124\n",
      "\n",
      "    accuracy                           0.93       252\n",
      "   macro avg       0.93      0.93      0.93       252\n",
      "weighted avg       0.93      0.93      0.93       252\n",
      "\n"
     ]
    },
    {
     "data": {
      "text/plain": [
       "<AxesSubplot:>"
      ]
     },
     "execution_count": 45,
     "metadata": {},
     "output_type": "execute_result"
    },
    {
     "data": {
      "image/png": "[encoded data removed]",
      "text/plain": [
       "<Figure size 432x288 with 2 Axes>"
      ]
     },
     "metadata": {
      "needs_background": "light"
     },
     "output_type": "display_data"
    }
   ],
   "source": [
    "rfc = RandomForestClassifier(random_state = 1)\n",
    "rfc.fit(X_train, y_train)\n",
    "\n",
    "preds = rfc.predict(X_test)\n",
    "score = rfc.score(X_test, y_test)\n",
    "print(score*100)\n",
    "print(classification_report(y_test, preds))\n",
    "\n",
    "cm = confusion_matrix(y_test, preds)\n",
    "sns.heatmap(cm, annot=True)"
   ]
  },
  {
   "cell_type": "markdown",
   "id": "282a20e8-7d67-41a5-a0c7-e84ead743640",
   "metadata": {},
   "source": [
    "### ADJUSTING THRESHOLD WITH PREDICT_PROBA"
   ]
  },
  {
   "cell_type": "code",
   "execution_count": 46,
   "id": "41258317-4589-4709-a81d-082be3123e46",
   "metadata": {},
   "outputs": [
    {
     "name": "stdout",
     "output_type": "stream",
     "text": [
      "              precision    recall  f1-score   support\n",
      "\n",
      "           0       0.92      0.93      0.92       128\n",
      "           1       0.93      0.91      0.92       124\n",
      "\n",
      "    accuracy                           0.92       252\n",
      "   macro avg       0.92      0.92      0.92       252\n",
      "weighted avg       0.92      0.92      0.92       252\n",
      "\n"
     ]
    },
    {
     "data": {
      "text/plain": [
       "<AxesSubplot:>"
      ]
     },
     "execution_count": 46,
     "metadata": {},
     "output_type": "execute_result"
    },
    {
     "data": {
      "image/png": "[encoded data removed]",
      "text/plain": [
       "<Figure size 432x288 with 2 Axes>"
      ]
     },
     "metadata": {
      "needs_background": "light"
     },
     "output_type": "display_data"
    }
   ],
   "source": [
    "threshold = 0.54\n",
    "rfc = RandomForestClassifier(random_state = 1)\n",
    "rfc.fit(X_train, y_train)\n",
    "\n",
    "predicted_proba1 = (rfc.predict_proba(X_test)[:,1] >= threshold).astype(\"int\")\n",
    "\n",
    "print(classification_report(y_test, predicted_proba1))\n",
    "\n",
    "cm = confusion_matrix(y_test, predicted_proba1)\n",
    "sns.heatmap(cm, annot=True)"
   ]
  },
  {
   "cell_type": "markdown",
   "id": "599054ab-ac3b-4220-9879-f297d945225d",
   "metadata": {
    "tags": []
   },
   "source": [
    "# VALIDATION DATA LABEL ENCODING"
   ]
  },
  {
   "cell_type": "markdown",
   "id": "13e55dc7-2923-4cd0-9f4f-8f1391fc7afc",
   "metadata": {},
   "source": [
    "**⚫ Veriseti için diğer bir yöntem olan Label Encoding işlemi validasyon setine uygulandıktan sonra validasyon seti üzerinde modelin başarısı çok kötü durumdadır.Buradaki en büyük problem train_test ve validasyon verisetlerine Label Encoding yapıldığında fonksiyon her bir kolona ait eşsiz değerlere ratgele olarak 0 dan başlayarak artan şekilde nümerik değerler atamaktadır ancak herbir kolondaki eşsiz değere atanan bu nümerik değerler onların hedef değişkene olan etkisini doğru ve gerçek oranda yansıtmamaktadır.**"
   ]
  },
  {
   "cell_type": "code",
   "execution_count": 47,
   "id": "12c004db-8de8-44a0-9799-8661d34a993b",
   "metadata": {},
   "outputs": [],
   "source": [
    "labelEncoded_valData = valData.apply(LabelEncoder().fit_transform)"
   ]
  },
  {
   "cell_type": "code",
   "execution_count": 48,
   "id": "9343c150-6fb7-4920-a44f-96199c7701ff",
   "metadata": {},
   "outputs": [],
   "source": [
    "features = []\n",
    "for col in labelEncoded_valData.columns:\n",
    "  if col != 'fraud_reported':\n",
    "    features.append(col)\n",
    "\n",
    "target = 'fraud_reported'\n",
    "\n",
    "X_val = labelEncoded_valData[features]\n",
    "y_val = labelEncoded_valData[target]\n",
    "\n",
    "from sklearn.preprocessing import StandardScaler\n",
    "\n",
    "sc = StandardScaler()\n",
    "X = sc.fit_transform(X)"
   ]
  },
  {
   "cell_type": "code",
   "execution_count": 49,
   "id": "2f001457-ccc0-4b50-8d7f-e90497ba564f",
   "metadata": {},
   "outputs": [
    {
     "name": "stdout",
     "output_type": "stream",
     "text": [
      "81.5\n",
      "              precision    recall  f1-score   support\n",
      "\n",
      "           0       0.81      1.00      0.90       163\n",
      "           1       0.00      0.00      0.00        37\n",
      "\n",
      "    accuracy                           0.81       200\n",
      "   macro avg       0.41      0.50      0.45       200\n",
      "weighted avg       0.66      0.81      0.73       200\n",
      "\n"
     ]
    },
    {
     "name": "stderr",
     "output_type": "stream",
     "text": [
      "D:\\Program Files\\Python\\lib\\site-packages\\sklearn\\base.py:434: UserWarning: X has feature names, but RandomForestClassifier was fitted without feature names\n",
      "  warnings.warn(\n",
      "D:\\Program Files\\Python\\lib\\site-packages\\sklearn\\base.py:434: UserWarning: X has feature names, but RandomForestClassifier was fitted without feature names\n",
      "  warnings.warn(\n",
      "D:\\Program Files\\Python\\lib\\site-packages\\sklearn\\metrics\\_classification.py:1308: UndefinedMetricWarning: Precision and F-score are ill-defined and being set to 0.0 in labels with no predicted samples. Use `zero_division` parameter to control this behavior.\n",
      "  _warn_prf(average, modifier, msg_start, len(result))\n",
      "D:\\Program Files\\Python\\lib\\site-packages\\sklearn\\metrics\\_classification.py:1308: UndefinedMetricWarning: Precision and F-score are ill-defined and being set to 0.0 in labels with no predicted samples. Use `zero_division` parameter to control this behavior.\n",
      "  _warn_prf(average, modifier, msg_start, len(result))\n",
      "D:\\Program Files\\Python\\lib\\site-packages\\sklearn\\metrics\\_classification.py:1308: UndefinedMetricWarning: Precision and F-score are ill-defined and being set to 0.0 in labels with no predicted samples. Use `zero_division` parameter to control this behavior.\n",
      "  _warn_prf(average, modifier, msg_start, len(result))\n"
     ]
    },
    {
     "data": {
      "text/plain": [
       "<AxesSubplot:>"
      ]
     },
     "execution_count": 49,
     "metadata": {},
     "output_type": "execute_result"
    },
    {
     "data": {
      "image/png": "[encoded data removed]",
      "text/plain": [
       "<Figure size 432x288 with 2 Axes>"
      ]
     },
     "metadata": {
      "needs_background": "light"
     },
     "output_type": "display_data"
    }
   ],
   "source": [
    "preds1 = rfc.predict(X_val)\n",
    "score1 = rfc.score(X_val, y_val)\n",
    "print(score1*100)\n",
    "print(classification_report(y_val, preds1))\n",
    "\n",
    "cm = confusion_matrix(y_val, preds1)\n",
    "sns.heatmap(cm, annot=True)"
   ]
  },
  {
   "cell_type": "markdown",
   "id": "5779db04-89db-4595-aafe-4a037d26a7e6",
   "metadata": {
    "tags": []
   },
   "source": [
    "#### SOLUTION 1 WHEN LABEL ENCODING FOR VALIDATION DATASET"
   ]
  },
  {
   "cell_type": "markdown",
   "id": "d1524851-65c6-435e-aa2d-7cddb985c5bd",
   "metadata": {},
   "source": [
    "### 4. Validasyon Dataseti (Modelin Görmediği) nasıl oluşturulur ve nasıl predict etmeye hazır hale getirilir ?\n",
    "**⚫ Model eğitilip test veriseti üzerinde tahminleme yapıldıktan sonra modelin daha önce hiç görmediği validasyon-gerçek hayat verisi üzerinde de test edilmelidir.Burada  validasyon verisetini oluşturmak ve tahminlemeye hazır hale getirmek için daha önceden label encoded yapılan train_test datasındaki kolonların herbr eşsiz değerlerine karşılık gelen encoded değerlerin validasyon veriseti üzerindeki ilgili kolonun aynı eşsiz değerine implemente edilmesi gerekir.Bu yüzden label encoded edilen train_test verseti üzerinde her bir kolonun herbir eşsiz değeri ve encoded karşılıklarını içeren look-up tablosu oluşturularak bu tablo validasyon verisetine kolon değerleri bazında merge işlemi yapılarak birleştirilir böylece validasyon veriseti üzerindeki kolon değerlerinin yerine train_test verisetinde karşılık gelen  doğru encoded değerleri ile değiştirilmiş olup tahminlemeye hazır hale getirilir.Aşağıdaki kod bloğunda validasyon verisetinin nasıl oluşturulduğu ve tahminlemeye nasıl hazır hale getirildiği gösterilmektedir.**"
   ]
  },
  {
   "cell_type": "code",
   "execution_count": 50,
   "id": "594f4612-f305-483c-859a-680e4753df04",
   "metadata": {},
   "outputs": [],
   "source": [
    "lab_encoder = LabelEncoder()\n",
    "labelEncoded_train_testData1 = train_testData.apply(lab_encoder.fit_transform)"
   ]
  },
  {
   "cell_type": "code",
   "execution_count": 51,
   "id": "1d41406a-283f-43f5-b43f-eb886f3af894",
   "metadata": {},
   "outputs": [],
   "source": [
    "df4 = pd.concat([train_testData,labelEncoded_train_testData1],axis=1)"
   ]
  },
  {
   "cell_type": "code",
   "execution_count": 52,
   "id": "4a7cc2d6-7407-467a-bcc0-4e9c9f3f9cf1",
   "metadata": {},
   "outputs": [],
   "source": [
    "df4 = train_testData\n",
    "for i in train_testData.columns:\n",
    "    df4[i+\"_v1\"] = labelEncoded_train_testData1[i]"
   ]
  },
  {
   "cell_type": "code",
   "execution_count": 53,
   "id": "ff1debed-9ff5-428a-9c43-87c1be9e533b",
   "metadata": {},
   "outputs": [],
   "source": [
    "for i in labelEncoded_train_testData1.columns:\n",
    "    df_change = df4[[i,i+\"_v1\"]].drop_duplicates()\n",
    "    valData = valData.merge(df_change,how='left',on=i)"
   ]
  },
  {
   "cell_type": "code",
   "execution_count": 54,
   "id": "4911d6d8-8a71-4793-9f2a-a0d6a12a6652",
   "metadata": {},
   "outputs": [],
   "source": [
    "valData = valData.iloc[: , 32:]"
   ]
  },
  {
   "cell_type": "code",
   "execution_count": 55,
   "id": "22ab1c8b-6d5d-4dc4-8fb1-9b4555dafc85",
   "metadata": {},
   "outputs": [],
   "source": [
    "valData.columns = ['policy_state', 'policy_csl', 'umbrella_limit',\n",
    "       'insured_sex', 'insured_education_level', 'insured_occupation',\n",
    "       'insured_hobbies', 'insured_relationship',\n",
    "       'capital_loss_groups', 'incident_type', 'collision_type', 'incident_severity',\n",
    "       'authorities_contacted', 'incident_state', 'incident_city',\n",
    "        'incident_hour_of_the_day','number_of_vehicles_involved', 'property_damage', \n",
    "        'bodily_injuries','witnesses', 'police_report_available', 'total_claim_amount_groups',\n",
    "       'auto_make', 'auto_model', 'auto_year',\n",
    "       'claim_day_of_policy_groups', 'location_check', 'age_group',\n",
    "       'months_as_customer_groups', 'policy_annual_premium_groups',\n",
    "       'policy_deductable_group' , 'fraud_reported']"
   ]
  },
  {
   "cell_type": "code",
   "execution_count": 56,
   "id": "eb278862-d90f-45a0-9221-087d4d9219b3",
   "metadata": {},
   "outputs": [
    {
     "name": "stdout",
     "output_type": "stream",
     "text": [
      "81.5\n",
      "\n",
      "              precision    recall  f1-score   support\n",
      "\n",
      "           0       0.81      1.00      0.90       163\n",
      "           1       0.00      0.00      0.00        37\n",
      "\n",
      "    accuracy                           0.81       200\n",
      "   macro avg       0.41      0.50      0.45       200\n",
      "weighted avg       0.66      0.81      0.73       200\n",
      "\n"
     ]
    },
    {
     "name": "stderr",
     "output_type": "stream",
     "text": [
      "D:\\Program Files\\Python\\lib\\site-packages\\sklearn\\base.py:434: UserWarning: X has feature names, but RandomForestClassifier was fitted without feature names\n",
      "  warnings.warn(\n",
      "D:\\Program Files\\Python\\lib\\site-packages\\sklearn\\base.py:434: UserWarning: X has feature names, but RandomForestClassifier was fitted without feature names\n",
      "  warnings.warn(\n",
      "D:\\Program Files\\Python\\lib\\site-packages\\sklearn\\metrics\\_classification.py:1308: UndefinedMetricWarning: Precision and F-score are ill-defined and being set to 0.0 in labels with no predicted samples. Use `zero_division` parameter to control this behavior.\n",
      "  _warn_prf(average, modifier, msg_start, len(result))\n",
      "D:\\Program Files\\Python\\lib\\site-packages\\sklearn\\metrics\\_classification.py:1308: UndefinedMetricWarning: Precision and F-score are ill-defined and being set to 0.0 in labels with no predicted samples. Use `zero_division` parameter to control this behavior.\n",
      "  _warn_prf(average, modifier, msg_start, len(result))\n",
      "D:\\Program Files\\Python\\lib\\site-packages\\sklearn\\metrics\\_classification.py:1308: UndefinedMetricWarning: Precision and F-score are ill-defined and being set to 0.0 in labels with no predicted samples. Use `zero_division` parameter to control this behavior.\n",
      "  _warn_prf(average, modifier, msg_start, len(result))\n"
     ]
    },
    {
     "data": {
      "text/plain": [
       "<AxesSubplot:>"
      ]
     },
     "execution_count": 56,
     "metadata": {},
     "output_type": "execute_result"
    },
    {
     "data": {
      "image/png": "[encoded data removed]",
      "text/plain": [
       "<Figure size 432x288 with 2 Axes>"
      ]
     },
     "metadata": {
      "needs_background": "light"
     },
     "output_type": "display_data"
    }
   ],
   "source": [
    "X_val = valData.iloc[ : , : 31]\n",
    "y_val = valData.iloc[: ,  -1]\n",
    "\n",
    "preds = rfc.predict(X_val)\n",
    "\n",
    "score = rfc.score(X_val, y_val)\n",
    "print(score*100)\n",
    "print()\n",
    "print(classification_report(y_val, preds))\n",
    "\n",
    "cm = confusion_matrix(y_val, preds)\n",
    "sns\n",
    "sns.heatmap(cm, annot=True)"
   ]
  },
  {
   "cell_type": "markdown",
   "id": "61469738-40aa-4844-89fc-63c696fa1cc2",
   "metadata": {},
   "source": [
    "**⚫ Buradaki kod bloğunda hata alınmasının sebebi train_test ve validasyon verisetleri arasında uniform dağılım olmadığından bazı labellar validasyon verisetinde bulunmamaktadır ve scikit-learn kütüphanesinde bulunan LabelEncoder metodu ile validasyon verisetine yukarıda One-Hot Encoding de uygulanan transform yapılamamıştır.**"
   ]
  },
  {
   "cell_type": "code",
   "execution_count": 57,
   "id": "775a8238-87bd-4263-839c-2bc11a79a115",
   "metadata": {},
   "outputs": [
    {
     "ename": "ValueError",
     "evalue": "y contains previously unseen labels: [2]",
     "output_type": "error",
     "traceback": [
      "\u001b[1;31m---------------------------------------------------------------------------\u001b[0m",
      "\u001b[1;31mValueError\u001b[0m                                Traceback (most recent call last)",
      "\u001b[1;32m~\\AppData\\Local\\Temp/ipykernel_13172/609240596.py\u001b[0m in \u001b[0;36m<module>\u001b[1;34m\u001b[0m\n\u001b[0;32m      1\u001b[0m \u001b[1;31m# Apply the encoder.\u001b[0m\u001b[1;33m\u001b[0m\u001b[1;33m\u001b[0m\u001b[0m\n\u001b[1;32m----> 2\u001b[1;33m \u001b[0mlabelEncoded_valData1\u001b[0m \u001b[1;33m=\u001b[0m \u001b[0mvalData\u001b[0m\u001b[1;33m.\u001b[0m\u001b[0mapply\u001b[0m\u001b[1;33m(\u001b[0m\u001b[0mlab_encoder\u001b[0m\u001b[1;33m.\u001b[0m\u001b[0mtransform\u001b[0m\u001b[1;33m)\u001b[0m\u001b[1;33m\u001b[0m\u001b[1;33m\u001b[0m\u001b[0m\n\u001b[0m",
      "\u001b[1;32mD:\\Program Files\\Python\\lib\\site-packages\\pandas\\core\\frame.py\u001b[0m in \u001b[0;36mapply\u001b[1;34m(self, func, axis, raw, result_type, args, **kwargs)\u001b[0m\n\u001b[0;32m   8739\u001b[0m             \u001b[0mkwargs\u001b[0m\u001b[1;33m=\u001b[0m\u001b[0mkwargs\u001b[0m\u001b[1;33m,\u001b[0m\u001b[1;33m\u001b[0m\u001b[1;33m\u001b[0m\u001b[0m\n\u001b[0;32m   8740\u001b[0m         )\n\u001b[1;32m-> 8741\u001b[1;33m         \u001b[1;32mreturn\u001b[0m \u001b[0mop\u001b[0m\u001b[1;33m.\u001b[0m\u001b[0mapply\u001b[0m\u001b[1;33m(\u001b[0m\u001b[1;33m)\u001b[0m\u001b[1;33m\u001b[0m\u001b[1;33m\u001b[0m\u001b[0m\n\u001b[0m\u001b[0;32m   8742\u001b[0m \u001b[1;33m\u001b[0m\u001b[0m\n\u001b[0;32m   8743\u001b[0m     def applymap(\n",
      "\u001b[1;32mD:\\Program Files\\Python\\lib\\site-packages\\pandas\\core\\apply.py\u001b[0m in \u001b[0;36mapply\u001b[1;34m(self)\u001b[0m\n\u001b[0;32m    686\u001b[0m             \u001b[1;32mreturn\u001b[0m \u001b[0mself\u001b[0m\u001b[1;33m.\u001b[0m\u001b[0mapply_raw\u001b[0m\u001b[1;33m(\u001b[0m\u001b[1;33m)\u001b[0m\u001b[1;33m\u001b[0m\u001b[1;33m\u001b[0m\u001b[0m\n\u001b[0;32m    687\u001b[0m \u001b[1;33m\u001b[0m\u001b[0m\n\u001b[1;32m--> 688\u001b[1;33m         \u001b[1;32mreturn\u001b[0m \u001b[0mself\u001b[0m\u001b[1;33m.\u001b[0m\u001b[0mapply_standard\u001b[0m\u001b[1;33m(\u001b[0m\u001b[1;33m)\u001b[0m\u001b[1;33m\u001b[0m\u001b[1;33m\u001b[0m\u001b[0m\n\u001b[0m\u001b[0;32m    689\u001b[0m \u001b[1;33m\u001b[0m\u001b[0m\n\u001b[0;32m    690\u001b[0m     \u001b[1;32mdef\u001b[0m \u001b[0magg\u001b[0m\u001b[1;33m(\u001b[0m\u001b[0mself\u001b[0m\u001b[1;33m)\u001b[0m\u001b[1;33m:\u001b[0m\u001b[1;33m\u001b[0m\u001b[1;33m\u001b[0m\u001b[0m\n",
      "\u001b[1;32mD:\\Program Files\\Python\\lib\\site-packages\\pandas\\core\\apply.py\u001b[0m in \u001b[0;36mapply_standard\u001b[1;34m(self)\u001b[0m\n\u001b[0;32m    810\u001b[0m \u001b[1;33m\u001b[0m\u001b[0m\n\u001b[0;32m    811\u001b[0m     \u001b[1;32mdef\u001b[0m \u001b[0mapply_standard\u001b[0m\u001b[1;33m(\u001b[0m\u001b[0mself\u001b[0m\u001b[1;33m)\u001b[0m\u001b[1;33m:\u001b[0m\u001b[1;33m\u001b[0m\u001b[1;33m\u001b[0m\u001b[0m\n\u001b[1;32m--> 812\u001b[1;33m         \u001b[0mresults\u001b[0m\u001b[1;33m,\u001b[0m \u001b[0mres_index\u001b[0m \u001b[1;33m=\u001b[0m \u001b[0mself\u001b[0m\u001b[1;33m.\u001b[0m\u001b[0mapply_series_generator\u001b[0m\u001b[1;33m(\u001b[0m\u001b[1;33m)\u001b[0m\u001b[1;33m\u001b[0m\u001b[1;33m\u001b[0m\u001b[0m\n\u001b[0m\u001b[0;32m    813\u001b[0m \u001b[1;33m\u001b[0m\u001b[0m\n\u001b[0;32m    814\u001b[0m         \u001b[1;31m# wrap results\u001b[0m\u001b[1;33m\u001b[0m\u001b[1;33m\u001b[0m\u001b[0m\n",
      "\u001b[1;32mD:\\Program Files\\Python\\lib\\site-packages\\pandas\\core\\apply.py\u001b[0m in \u001b[0;36mapply_series_generator\u001b[1;34m(self)\u001b[0m\n\u001b[0;32m    826\u001b[0m             \u001b[1;32mfor\u001b[0m \u001b[0mi\u001b[0m\u001b[1;33m,\u001b[0m \u001b[0mv\u001b[0m \u001b[1;32min\u001b[0m \u001b[0menumerate\u001b[0m\u001b[1;33m(\u001b[0m\u001b[0mseries_gen\u001b[0m\u001b[1;33m)\u001b[0m\u001b[1;33m:\u001b[0m\u001b[1;33m\u001b[0m\u001b[1;33m\u001b[0m\u001b[0m\n\u001b[0;32m    827\u001b[0m                 \u001b[1;31m# ignore SettingWithCopy here in case the user mutates\u001b[0m\u001b[1;33m\u001b[0m\u001b[1;33m\u001b[0m\u001b[0m\n\u001b[1;32m--> 828\u001b[1;33m                 \u001b[0mresults\u001b[0m\u001b[1;33m[\u001b[0m\u001b[0mi\u001b[0m\u001b[1;33m]\u001b[0m \u001b[1;33m=\u001b[0m \u001b[0mself\u001b[0m\u001b[1;33m.\u001b[0m\u001b[0mf\u001b[0m\u001b[1;33m(\u001b[0m\u001b[0mv\u001b[0m\u001b[1;33m)\u001b[0m\u001b[1;33m\u001b[0m\u001b[1;33m\u001b[0m\u001b[0m\n\u001b[0m\u001b[0;32m    829\u001b[0m                 \u001b[1;32mif\u001b[0m \u001b[0misinstance\u001b[0m\u001b[1;33m(\u001b[0m\u001b[0mresults\u001b[0m\u001b[1;33m[\u001b[0m\u001b[0mi\u001b[0m\u001b[1;33m]\u001b[0m\u001b[1;33m,\u001b[0m \u001b[0mABCSeries\u001b[0m\u001b[1;33m)\u001b[0m\u001b[1;33m:\u001b[0m\u001b[1;33m\u001b[0m\u001b[1;33m\u001b[0m\u001b[0m\n\u001b[0;32m    830\u001b[0m                     \u001b[1;31m# If we have a view on v, we need to make a copy because\u001b[0m\u001b[1;33m\u001b[0m\u001b[1;33m\u001b[0m\u001b[0m\n",
      "\u001b[1;32mD:\\Program Files\\Python\\lib\\site-packages\\sklearn\\preprocessing\\_label.py\u001b[0m in \u001b[0;36mtransform\u001b[1;34m(self, y)\u001b[0m\n\u001b[0;32m    136\u001b[0m             \u001b[1;32mreturn\u001b[0m \u001b[0mnp\u001b[0m\u001b[1;33m.\u001b[0m\u001b[0marray\u001b[0m\u001b[1;33m(\u001b[0m\u001b[1;33m[\u001b[0m\u001b[1;33m]\u001b[0m\u001b[1;33m)\u001b[0m\u001b[1;33m\u001b[0m\u001b[1;33m\u001b[0m\u001b[0m\n\u001b[0;32m    137\u001b[0m \u001b[1;33m\u001b[0m\u001b[0m\n\u001b[1;32m--> 138\u001b[1;33m         \u001b[1;32mreturn\u001b[0m \u001b[0m_encode\u001b[0m\u001b[1;33m(\u001b[0m\u001b[0my\u001b[0m\u001b[1;33m,\u001b[0m \u001b[0muniques\u001b[0m\u001b[1;33m=\u001b[0m\u001b[0mself\u001b[0m\u001b[1;33m.\u001b[0m\u001b[0mclasses_\u001b[0m\u001b[1;33m)\u001b[0m\u001b[1;33m\u001b[0m\u001b[1;33m\u001b[0m\u001b[0m\n\u001b[0m\u001b[0;32m    139\u001b[0m \u001b[1;33m\u001b[0m\u001b[0m\n\u001b[0;32m    140\u001b[0m     \u001b[1;32mdef\u001b[0m \u001b[0minverse_transform\u001b[0m\u001b[1;33m(\u001b[0m\u001b[0mself\u001b[0m\u001b[1;33m,\u001b[0m \u001b[0my\u001b[0m\u001b[1;33m)\u001b[0m\u001b[1;33m:\u001b[0m\u001b[1;33m\u001b[0m\u001b[1;33m\u001b[0m\u001b[0m\n",
      "\u001b[1;32mD:\\Program Files\\Python\\lib\\site-packages\\sklearn\\utils\\_encode.py\u001b[0m in \u001b[0;36m_encode\u001b[1;34m(values, uniques, check_unknown)\u001b[0m\n\u001b[0;32m    187\u001b[0m             \u001b[0mdiff\u001b[0m \u001b[1;33m=\u001b[0m \u001b[0m_check_unknown\u001b[0m\u001b[1;33m(\u001b[0m\u001b[0mvalues\u001b[0m\u001b[1;33m,\u001b[0m \u001b[0muniques\u001b[0m\u001b[1;33m)\u001b[0m\u001b[1;33m\u001b[0m\u001b[1;33m\u001b[0m\u001b[0m\n\u001b[0;32m    188\u001b[0m             \u001b[1;32mif\u001b[0m \u001b[0mdiff\u001b[0m\u001b[1;33m:\u001b[0m\u001b[1;33m\u001b[0m\u001b[1;33m\u001b[0m\u001b[0m\n\u001b[1;32m--> 189\u001b[1;33m                 \u001b[1;32mraise\u001b[0m \u001b[0mValueError\u001b[0m\u001b[1;33m(\u001b[0m\u001b[1;34mf\"y contains previously unseen labels: {str(diff)}\"\u001b[0m\u001b[1;33m)\u001b[0m\u001b[1;33m\u001b[0m\u001b[1;33m\u001b[0m\u001b[0m\n\u001b[0m\u001b[0;32m    190\u001b[0m         \u001b[1;32mreturn\u001b[0m \u001b[0mnp\u001b[0m\u001b[1;33m.\u001b[0m\u001b[0msearchsorted\u001b[0m\u001b[1;33m(\u001b[0m\u001b[0muniques\u001b[0m\u001b[1;33m,\u001b[0m \u001b[0mvalues\u001b[0m\u001b[1;33m)\u001b[0m\u001b[1;33m\u001b[0m\u001b[1;33m\u001b[0m\u001b[0m\n\u001b[0;32m    191\u001b[0m \u001b[1;33m\u001b[0m\u001b[0m\n",
      "\u001b[1;31mValueError\u001b[0m: y contains previously unseen labels: [2]"
     ]
    }
   ],
   "source": [
    "# Apply the encoder.\n",
    "labelEncoded_valData1 = valData.apply(lab_encoder.transform)"
   ]
  },
  {
   "cell_type": "markdown",
   "id": "4ac08f4a-04c7-419c-94c7-c34a22024770",
   "metadata": {
    "tags": []
   },
   "source": [
    "#### SOLUTION 2 WHEN LABEL ENCODING FOR VALIDATION DATASET"
   ]
  },
  {
   "cell_type": "markdown",
   "id": "2a29b133-b696-4d39-be4e-c5ab7ec5703b",
   "metadata": {},
   "source": [
    "### 2. LabelEncoding de ilgili kolon için ölçeklendirme nasıl yapılır ? (Verinin doğru etkisi ile sayısal olarak dönüştürülmesi)\n",
    "**⚫ Bu son kısımda ise train_test verisetinde herbir kolon içinde bulunan eşsiz değerlerin hedef değişkene olan etkisi sayısal  değerlere dönüştürülerek doğru bir ölçekleme yapılıp ardından validasyon seti de doğru sayısal ölçekleme ile label encoded edilen train_test veriseti yardımı ile hazırlanıp tahminlemeye hazır hale getirilmiş ve model perfomansı olarak train_test , validasyon süreçlerinde başarılı sonuç alınmıştır.Son olarak da başarılı model üzerinde hyperparameter tuning  ve threshold adjustment yapılarak model iyileştirilemeye çalışılmıştır.Aşağıdaki kısımlarda labelEncoded_train_testData2 ve valData adlı iki veriseti üzerinde train_test ve validasyon setlerinin doğru sayısal ölçekleme ile label encoded halleri görülmektedir.Burada doğru sayısal ölçeklemenin nasıl yapıldığından bahsedecek olursak devreye veri analizi girmektedir. Train_test Veri seti hedef değişken bakımından  1 ve 0 lara ayrılıp daha sonra herbir kolona ait eşsiz değerlerin 1 lerdeki sayıları 0 lara oranlanarak o kolona ait eşsiz değerlerdeki 1 lerin 0 lara olan etkisi sayısal olarak ölçeklendirilmiştir ayrıca modeli iyileştirmek adına  ileriye dönük çalışmalar için en başta kolon bazında farklı ve daha hassas gruplamalar yapılarak daha net ve doğru bir label encoding ölçeklendirmesi yapılabilir.**"
   ]
  },
  {
   "cell_type": "code",
   "execution_count": 58,
   "id": "e2dec7aa-47ed-4e87-b7b8-abbbbce0e02a",
   "metadata": {},
   "outputs": [
    {
     "data": {
      "text/html": [
       "<div>\n",
       "<style scoped>\n",
       "    .dataframe tbody tr th:only-of-type {\n",
       "        vertical-align: middle;\n",
       "    }\n",
       "\n",
       "    .dataframe tbody tr th {\n",
       "        vertical-align: top;\n",
       "    }\n",
       "\n",
       "    .dataframe thead th {\n",
       "        text-align: right;\n",
       "    }\n",
       "</style>\n",
       "<table border=\"1\" class=\"dataframe\">\n",
       "  <thead>\n",
       "    <tr style=\"text-align: right;\">\n",
       "      <th></th>\n",
       "      <th>policy_state</th>\n",
       "      <th>policy_csl</th>\n",
       "      <th>umbrella_limit</th>\n",
       "      <th>insured_sex</th>\n",
       "      <th>insured_education_level</th>\n",
       "      <th>insured_occupation</th>\n",
       "      <th>insured_hobbies</th>\n",
       "      <th>insured_relationship</th>\n",
       "      <th>capital_loss_groups</th>\n",
       "      <th>incident_type</th>\n",
       "      <th>...</th>\n",
       "      <th>auto_make_v1</th>\n",
       "      <th>auto_model_v1</th>\n",
       "      <th>auto_year_v1</th>\n",
       "      <th>claim_day_of_policy_groups_v1</th>\n",
       "      <th>location_check_v1</th>\n",
       "      <th>age_group_v1</th>\n",
       "      <th>months_as_customer_groups_v1</th>\n",
       "      <th>policy_annual_premium_groups_v1</th>\n",
       "      <th>policy_deductable_group_v1</th>\n",
       "      <th>fraud_reported_v1</th>\n",
       "    </tr>\n",
       "  </thead>\n",
       "  <tbody>\n",
       "    <tr>\n",
       "      <th>511</th>\n",
       "      <td>OH</td>\n",
       "      <td>MISSING</td>\n",
       "      <td>0.0</td>\n",
       "      <td>FEMALE</td>\n",
       "      <td>JD</td>\n",
       "      <td>sales</td>\n",
       "      <td>other</td>\n",
       "      <td>husband</td>\n",
       "      <td>-50000 - -40000</td>\n",
       "      <td>Parked Car</td>\n",
       "      <td>...</td>\n",
       "      <td>13</td>\n",
       "      <td>20</td>\n",
       "      <td>8</td>\n",
       "      <td>4</td>\n",
       "      <td>0</td>\n",
       "      <td>6</td>\n",
       "      <td>4</td>\n",
       "      <td>2</td>\n",
       "      <td>2</td>\n",
       "      <td>0</td>\n",
       "    </tr>\n",
       "    <tr>\n",
       "      <th>894</th>\n",
       "      <td>IN</td>\n",
       "      <td>MISSING</td>\n",
       "      <td>0.0</td>\n",
       "      <td>MALE</td>\n",
       "      <td>MD</td>\n",
       "      <td>priv-house-serv</td>\n",
       "      <td>other</td>\n",
       "      <td>not-in-family</td>\n",
       "      <td>-10000 - 0</td>\n",
       "      <td>Parked Car</td>\n",
       "      <td>...</td>\n",
       "      <td>11</td>\n",
       "      <td>19</td>\n",
       "      <td>5</td>\n",
       "      <td>8</td>\n",
       "      <td>0</td>\n",
       "      <td>3</td>\n",
       "      <td>0</td>\n",
       "      <td>2</td>\n",
       "      <td>0</td>\n",
       "      <td>0</td>\n",
       "    </tr>\n",
       "    <tr>\n",
       "      <th>125</th>\n",
       "      <td>IN</td>\n",
       "      <td>MISSING</td>\n",
       "      <td>other</td>\n",
       "      <td>MALE</td>\n",
       "      <td>JD</td>\n",
       "      <td>craft-repair</td>\n",
       "      <td>other</td>\n",
       "      <td>unmarried</td>\n",
       "      <td>-70000 - -60000</td>\n",
       "      <td>Multi-vehicle Collision</td>\n",
       "      <td>...</td>\n",
       "      <td>5</td>\n",
       "      <td>13</td>\n",
       "      <td>18</td>\n",
       "      <td>0</td>\n",
       "      <td>0</td>\n",
       "      <td>4</td>\n",
       "      <td>3</td>\n",
       "      <td>2</td>\n",
       "      <td>2</td>\n",
       "      <td>0</td>\n",
       "    </tr>\n",
       "    <tr>\n",
       "      <th>895</th>\n",
       "      <td>IL</td>\n",
       "      <td>MISSING</td>\n",
       "      <td>0.0</td>\n",
       "      <td>MALE</td>\n",
       "      <td>High School</td>\n",
       "      <td>armed-forces</td>\n",
       "      <td>other</td>\n",
       "      <td>own-child</td>\n",
       "      <td>-10000 - 0</td>\n",
       "      <td>Multi-vehicle Collision</td>\n",
       "      <td>...</td>\n",
       "      <td>10</td>\n",
       "      <td>1</td>\n",
       "      <td>3</td>\n",
       "      <td>1</td>\n",
       "      <td>0</td>\n",
       "      <td>4</td>\n",
       "      <td>2</td>\n",
       "      <td>2</td>\n",
       "      <td>0</td>\n",
       "      <td>1</td>\n",
       "    </tr>\n",
       "    <tr>\n",
       "      <th>485</th>\n",
       "      <td>IN</td>\n",
       "      <td>MISSING</td>\n",
       "      <td>0.0</td>\n",
       "      <td>MALE</td>\n",
       "      <td>Associate</td>\n",
       "      <td>adm-clerical</td>\n",
       "      <td>other</td>\n",
       "      <td>husband</td>\n",
       "      <td>-40000 - -30000</td>\n",
       "      <td>Single Vehicle Collision</td>\n",
       "      <td>...</td>\n",
       "      <td>9</td>\n",
       "      <td>26</td>\n",
       "      <td>0</td>\n",
       "      <td>7</td>\n",
       "      <td>0</td>\n",
       "      <td>2</td>\n",
       "      <td>9</td>\n",
       "      <td>2</td>\n",
       "      <td>1</td>\n",
       "      <td>0</td>\n",
       "    </tr>\n",
       "    <tr>\n",
       "      <th>...</th>\n",
       "      <td>...</td>\n",
       "      <td>...</td>\n",
       "      <td>...</td>\n",
       "      <td>...</td>\n",
       "      <td>...</td>\n",
       "      <td>...</td>\n",
       "      <td>...</td>\n",
       "      <td>...</td>\n",
       "      <td>...</td>\n",
       "      <td>...</td>\n",
       "      <td>...</td>\n",
       "      <td>...</td>\n",
       "      <td>...</td>\n",
       "      <td>...</td>\n",
       "      <td>...</td>\n",
       "      <td>...</td>\n",
       "      <td>...</td>\n",
       "      <td>...</td>\n",
       "      <td>...</td>\n",
       "      <td>...</td>\n",
       "      <td>...</td>\n",
       "    </tr>\n",
       "    <tr>\n",
       "      <th>833</th>\n",
       "      <td>IN</td>\n",
       "      <td>MISSING</td>\n",
       "      <td>0.0</td>\n",
       "      <td>FEMALE</td>\n",
       "      <td>JD</td>\n",
       "      <td>machine-op-inspct</td>\n",
       "      <td>other</td>\n",
       "      <td>other-relative</td>\n",
       "      <td>-10000 - 0</td>\n",
       "      <td>Multi-vehicle Collision</td>\n",
       "      <td>...</td>\n",
       "      <td>5</td>\n",
       "      <td>14</td>\n",
       "      <td>16</td>\n",
       "      <td>8</td>\n",
       "      <td>0</td>\n",
       "      <td>2</td>\n",
       "      <td>1</td>\n",
       "      <td>0</td>\n",
       "      <td>0</td>\n",
       "      <td>0</td>\n",
       "    </tr>\n",
       "    <tr>\n",
       "      <th>457</th>\n",
       "      <td>IL</td>\n",
       "      <td>100/300</td>\n",
       "      <td>0.0</td>\n",
       "      <td>MALE</td>\n",
       "      <td>Masters</td>\n",
       "      <td>transport-moving</td>\n",
       "      <td>other</td>\n",
       "      <td>own-child</td>\n",
       "      <td>-50000 - -40000</td>\n",
       "      <td>Single Vehicle Collision</td>\n",
       "      <td>...</td>\n",
       "      <td>13</td>\n",
       "      <td>28</td>\n",
       "      <td>16</td>\n",
       "      <td>0</td>\n",
       "      <td>0</td>\n",
       "      <td>2</td>\n",
       "      <td>1</td>\n",
       "      <td>0</td>\n",
       "      <td>1</td>\n",
       "      <td>1</td>\n",
       "    </tr>\n",
       "    <tr>\n",
       "      <th>478</th>\n",
       "      <td>IL</td>\n",
       "      <td>500/1000</td>\n",
       "      <td>9999</td>\n",
       "      <td>MALE</td>\n",
       "      <td>Masters</td>\n",
       "      <td>armed-forces</td>\n",
       "      <td>chess</td>\n",
       "      <td>unmarried</td>\n",
       "      <td>-10000 - 0</td>\n",
       "      <td>Vehicle Theft</td>\n",
       "      <td>...</td>\n",
       "      <td>8</td>\n",
       "      <td>7</td>\n",
       "      <td>6</td>\n",
       "      <td>6</td>\n",
       "      <td>0</td>\n",
       "      <td>7</td>\n",
       "      <td>7</td>\n",
       "      <td>1</td>\n",
       "      <td>1</td>\n",
       "      <td>1</td>\n",
       "    </tr>\n",
       "    <tr>\n",
       "      <th>41</th>\n",
       "      <td>IN</td>\n",
       "      <td>250/500</td>\n",
       "      <td>0.0</td>\n",
       "      <td>MALE</td>\n",
       "      <td>Associate</td>\n",
       "      <td>transport-moving</td>\n",
       "      <td>chess</td>\n",
       "      <td>unmarried</td>\n",
       "      <td>-30000 - -20000</td>\n",
       "      <td>Single Vehicle Collision</td>\n",
       "      <td>...</td>\n",
       "      <td>2</td>\n",
       "      <td>37</td>\n",
       "      <td>6</td>\n",
       "      <td>0</td>\n",
       "      <td>0</td>\n",
       "      <td>10</td>\n",
       "      <td>1</td>\n",
       "      <td>0</td>\n",
       "      <td>0</td>\n",
       "      <td>1</td>\n",
       "    </tr>\n",
       "    <tr>\n",
       "      <th>500</th>\n",
       "      <td>OH</td>\n",
       "      <td>MISSING</td>\n",
       "      <td>0.0</td>\n",
       "      <td>FEMALE</td>\n",
       "      <td>JD</td>\n",
       "      <td>craft-repair</td>\n",
       "      <td>other</td>\n",
       "      <td>other-relative</td>\n",
       "      <td>-10000 - 0</td>\n",
       "      <td>Single Vehicle Collision</td>\n",
       "      <td>...</td>\n",
       "      <td>6</td>\n",
       "      <td>8</td>\n",
       "      <td>8</td>\n",
       "      <td>3</td>\n",
       "      <td>0</td>\n",
       "      <td>2</td>\n",
       "      <td>0</td>\n",
       "      <td>1</td>\n",
       "      <td>0</td>\n",
       "      <td>0</td>\n",
       "    </tr>\n",
       "  </tbody>\n",
       "</table>\n",
       "<p>800 rows × 64 columns</p>\n",
       "</div>"
      ],
      "text/plain": [
       "    policy_state policy_csl umbrella_limit insured_sex  \\\n",
       "511           OH    MISSING            0.0      FEMALE   \n",
       "894           IN    MISSING            0.0        MALE   \n",
       "125           IN    MISSING          other        MALE   \n",
       "895           IL    MISSING            0.0        MALE   \n",
       "485           IN    MISSING            0.0        MALE   \n",
       "..           ...        ...            ...         ...   \n",
       "833           IN    MISSING            0.0      FEMALE   \n",
       "457           IL    100/300            0.0        MALE   \n",
       "478           IL   500/1000           9999        MALE   \n",
       "41            IN    250/500            0.0        MALE   \n",
       "500           OH    MISSING            0.0      FEMALE   \n",
       "\n",
       "    insured_education_level insured_occupation insured_hobbies  \\\n",
       "511                      JD              sales           other   \n",
       "894                      MD    priv-house-serv           other   \n",
       "125                      JD       craft-repair           other   \n",
       "895             High School       armed-forces           other   \n",
       "485               Associate       adm-clerical           other   \n",
       "..                      ...                ...             ...   \n",
       "833                      JD  machine-op-inspct           other   \n",
       "457                 Masters   transport-moving           other   \n",
       "478                 Masters       armed-forces           chess   \n",
       "41                Associate   transport-moving           chess   \n",
       "500                      JD       craft-repair           other   \n",
       "\n",
       "    insured_relationship capital_loss_groups             incident_type  ...  \\\n",
       "511              husband     -50000 - -40000                Parked Car  ...   \n",
       "894        not-in-family          -10000 - 0                Parked Car  ...   \n",
       "125            unmarried     -70000 - -60000   Multi-vehicle Collision  ...   \n",
       "895            own-child          -10000 - 0   Multi-vehicle Collision  ...   \n",
       "485              husband     -40000 - -30000  Single Vehicle Collision  ...   \n",
       "..                   ...                 ...                       ...  ...   \n",
       "833       other-relative          -10000 - 0   Multi-vehicle Collision  ...   \n",
       "457            own-child     -50000 - -40000  Single Vehicle Collision  ...   \n",
       "478            unmarried          -10000 - 0             Vehicle Theft  ...   \n",
       "41             unmarried     -30000 - -20000  Single Vehicle Collision  ...   \n",
       "500       other-relative          -10000 - 0  Single Vehicle Collision  ...   \n",
       "\n",
       "    auto_make_v1 auto_model_v1 auto_year_v1 claim_day_of_policy_groups_v1  \\\n",
       "511           13            20            8                             4   \n",
       "894           11            19            5                             8   \n",
       "125            5            13           18                             0   \n",
       "895           10             1            3                             1   \n",
       "485            9            26            0                             7   \n",
       "..           ...           ...          ...                           ...   \n",
       "833            5            14           16                             8   \n",
       "457           13            28           16                             0   \n",
       "478            8             7            6                             6   \n",
       "41             2            37            6                             0   \n",
       "500            6             8            8                             3   \n",
       "\n",
       "    location_check_v1  age_group_v1  months_as_customer_groups_v1  \\\n",
       "511                 0             6                             4   \n",
       "894                 0             3                             0   \n",
       "125                 0             4                             3   \n",
       "895                 0             4                             2   \n",
       "485                 0             2                             9   \n",
       "..                ...           ...                           ...   \n",
       "833                 0             2                             1   \n",
       "457                 0             2                             1   \n",
       "478                 0             7                             7   \n",
       "41                  0            10                             1   \n",
       "500                 0             2                             0   \n",
       "\n",
       "    policy_annual_premium_groups_v1  policy_deductable_group_v1  \\\n",
       "511                               2                           2   \n",
       "894                               2                           0   \n",
       "125                               2                           2   \n",
       "895                               2                           0   \n",
       "485                               2                           1   \n",
       "..                              ...                         ...   \n",
       "833                               0                           0   \n",
       "457                               0                           1   \n",
       "478                               1                           1   \n",
       "41                                0                           0   \n",
       "500                               1                           0   \n",
       "\n",
       "     fraud_reported_v1  \n",
       "511                  0  \n",
       "894                  0  \n",
       "125                  0  \n",
       "895                  1  \n",
       "485                  0  \n",
       "..                 ...  \n",
       "833                  0  \n",
       "457                  1  \n",
       "478                  1  \n",
       "41                   1  \n",
       "500                  0  \n",
       "\n",
       "[800 rows x 64 columns]"
      ]
     },
     "execution_count": 58,
     "metadata": {},
     "output_type": "execute_result"
    }
   ],
   "source": [
    "train_testData"
   ]
  },
  {
   "cell_type": "code",
   "execution_count": 59,
   "id": "5501e69c-1b26-4a7c-88dd-c1ddc5678d99",
   "metadata": {},
   "outputs": [],
   "source": [
    "train_testData_copy2 = train_testData.iloc[: , : 32]"
   ]
  },
  {
   "cell_type": "code",
   "execution_count": 60,
   "id": "633585fb-25c4-4a9a-bcde-d7976d7c3b07",
   "metadata": {},
   "outputs": [],
   "source": [
    "train_testData_1 = train_testData_copy2[train_testData_copy2[\"fraud_reported\"] == 1]\n",
    "train_testData_0 = train_testData_copy2[train_testData_copy2[\"fraud_reported\"] == 0]"
   ]
  },
  {
   "cell_type": "code",
   "execution_count": 61,
   "id": "5a903a10-ee54-4eb1-b016-73306a66d6c1",
   "metadata": {},
   "outputs": [
    {
     "name": "stderr",
     "output_type": "stream",
     "text": [
      "C:\\Users\\Ugur\\AppData\\Local\\Temp/ipykernel_13172/3038505372.py:1: FutureWarning: In a future version of pandas all arguments of DataFrame.drop except for the argument 'labels' will be keyword-only\n",
      "  train_testData_1 = train_testData_1.drop(\"fraud_reported\" , 1)\n",
      "C:\\Users\\Ugur\\AppData\\Local\\Temp/ipykernel_13172/3038505372.py:2: FutureWarning: In a future version of pandas all arguments of DataFrame.drop except for the argument 'labels' will be keyword-only\n",
      "  train_testData_0 = train_testData_0.drop(\"fraud_reported\" , 1)\n"
     ]
    }
   ],
   "source": [
    "train_testData_1 = train_testData_1.drop(\"fraud_reported\" , 1)\n",
    "train_testData_0 = train_testData_0.drop(\"fraud_reported\" , 1)"
   ]
  },
  {
   "cell_type": "markdown",
   "id": "a1dfca24-1eeb-43f7-9395-ccead7c94dd6",
   "metadata": {},
   "source": [
    "**⚫ Aşağıdaki kod bloğunda train_test veriseti için sayısal olarak label encoding ölçeklendirme yapılmaktadır.**"
   ]
  },
  {
   "cell_type": "code",
   "execution_count": 62,
   "id": "1b33828e-4695-4271-a2d7-dd4783fe4e88",
   "metadata": {},
   "outputs": [],
   "source": [
    "for col in train_testData_1.columns :\n",
    "    val1 = train_testData_1[col].value_counts().to_frame()\n",
    "    val1 = val1.rename(columns= {col: col + \"_1\"})\n",
    "\n",
    "    val0 = train_testData_0[col].value_counts().to_frame()\n",
    "    val0 = val0.rename(columns= {col: col + \"_0\"})\n",
    "\n",
    "    val1 = val1.merge(val0, left_index=True, right_index=True)\n",
    "    \n",
    "    val1[\"1_0_ratio\"] = val1[col + \"_1\"] / val1[col + \"_0\"]\n",
    "\n",
    "    for index in val1.index :\n",
    "        train_testData_copy2[col].replace({index : val1.loc[index,\"1_0_ratio\"]}, inplace=True)\n"
   ]
  },
  {
   "cell_type": "code",
   "execution_count": 63,
   "id": "ef7ae1ee-86bc-4c70-bb32-7f58e29060b4",
   "metadata": {},
   "outputs": [],
   "source": [
    "labelEncoded_train_testData2 = train_testData_copy2"
   ]
  },
  {
   "cell_type": "code",
   "execution_count": 64,
   "id": "be00ff79-a63e-4cfc-b850-fe68f7f18bce",
   "metadata": {},
   "outputs": [],
   "source": [
    "labelEncoded_train_testData2[\"auto_model\"].replace({\"3 Series\": 0.0}, inplace=True)\n",
    "labelEncoded_train_testData2[\"policy_annual_premium_groups\"].replace({\"very high\": 1.0}, inplace=True)"
   ]
  },
  {
   "cell_type": "code",
   "execution_count": 65,
   "id": "79133b76-5247-439d-9c19-2f236ae237e1",
   "metadata": {},
   "outputs": [
    {
     "data": {
      "text/html": [
       "<div>\n",
       "<style scoped>\n",
       "    .dataframe tbody tr th:only-of-type {\n",
       "        vertical-align: middle;\n",
       "    }\n",
       "\n",
       "    .dataframe tbody tr th {\n",
       "        vertical-align: top;\n",
       "    }\n",
       "\n",
       "    .dataframe thead th {\n",
       "        text-align: right;\n",
       "    }\n",
       "</style>\n",
       "<table border=\"1\" class=\"dataframe\">\n",
       "  <thead>\n",
       "    <tr style=\"text-align: right;\">\n",
       "      <th></th>\n",
       "      <th>Total</th>\n",
       "      <th>Percent</th>\n",
       "    </tr>\n",
       "  </thead>\n",
       "  <tbody>\n",
       "    <tr>\n",
       "      <th>claim_day_of_policy_groups</th>\n",
       "      <td>1</td>\n",
       "      <td>0.00125</td>\n",
       "    </tr>\n",
       "    <tr>\n",
       "      <th>capital_loss_groups</th>\n",
       "      <td>1</td>\n",
       "      <td>0.00125</td>\n",
       "    </tr>\n",
       "    <tr>\n",
       "      <th>policy_state</th>\n",
       "      <td>0</td>\n",
       "      <td>0.00000</td>\n",
       "    </tr>\n",
       "    <tr>\n",
       "      <th>property_damage</th>\n",
       "      <td>0</td>\n",
       "      <td>0.00000</td>\n",
       "    </tr>\n",
       "    <tr>\n",
       "      <th>policy_deductable_group</th>\n",
       "      <td>0</td>\n",
       "      <td>0.00000</td>\n",
       "    </tr>\n",
       "    <tr>\n",
       "      <th>policy_annual_premium_groups</th>\n",
       "      <td>0</td>\n",
       "      <td>0.00000</td>\n",
       "    </tr>\n",
       "    <tr>\n",
       "      <th>months_as_customer_groups</th>\n",
       "      <td>0</td>\n",
       "      <td>0.00000</td>\n",
       "    </tr>\n",
       "    <tr>\n",
       "      <th>age_group</th>\n",
       "      <td>0</td>\n",
       "      <td>0.00000</td>\n",
       "    </tr>\n",
       "    <tr>\n",
       "      <th>location_check</th>\n",
       "      <td>0</td>\n",
       "      <td>0.00000</td>\n",
       "    </tr>\n",
       "    <tr>\n",
       "      <th>auto_year</th>\n",
       "      <td>0</td>\n",
       "      <td>0.00000</td>\n",
       "    </tr>\n",
       "    <tr>\n",
       "      <th>auto_model</th>\n",
       "      <td>0</td>\n",
       "      <td>0.00000</td>\n",
       "    </tr>\n",
       "    <tr>\n",
       "      <th>auto_make</th>\n",
       "      <td>0</td>\n",
       "      <td>0.00000</td>\n",
       "    </tr>\n",
       "    <tr>\n",
       "      <th>total_claim_amount_groups</th>\n",
       "      <td>0</td>\n",
       "      <td>0.00000</td>\n",
       "    </tr>\n",
       "    <tr>\n",
       "      <th>police_report_available</th>\n",
       "      <td>0</td>\n",
       "      <td>0.00000</td>\n",
       "    </tr>\n",
       "    <tr>\n",
       "      <th>witnesses</th>\n",
       "      <td>0</td>\n",
       "      <td>0.00000</td>\n",
       "    </tr>\n",
       "    <tr>\n",
       "      <th>bodily_injuries</th>\n",
       "      <td>0</td>\n",
       "      <td>0.00000</td>\n",
       "    </tr>\n",
       "    <tr>\n",
       "      <th>number_of_vehicles_involved</th>\n",
       "      <td>0</td>\n",
       "      <td>0.00000</td>\n",
       "    </tr>\n",
       "    <tr>\n",
       "      <th>policy_csl</th>\n",
       "      <td>0</td>\n",
       "      <td>0.00000</td>\n",
       "    </tr>\n",
       "    <tr>\n",
       "      <th>incident_hour_of_the_day</th>\n",
       "      <td>0</td>\n",
       "      <td>0.00000</td>\n",
       "    </tr>\n",
       "    <tr>\n",
       "      <th>incident_city</th>\n",
       "      <td>0</td>\n",
       "      <td>0.00000</td>\n",
       "    </tr>\n",
       "    <tr>\n",
       "      <th>incident_state</th>\n",
       "      <td>0</td>\n",
       "      <td>0.00000</td>\n",
       "    </tr>\n",
       "    <tr>\n",
       "      <th>authorities_contacted</th>\n",
       "      <td>0</td>\n",
       "      <td>0.00000</td>\n",
       "    </tr>\n",
       "    <tr>\n",
       "      <th>incident_severity</th>\n",
       "      <td>0</td>\n",
       "      <td>0.00000</td>\n",
       "    </tr>\n",
       "    <tr>\n",
       "      <th>collision_type</th>\n",
       "      <td>0</td>\n",
       "      <td>0.00000</td>\n",
       "    </tr>\n",
       "    <tr>\n",
       "      <th>incident_type</th>\n",
       "      <td>0</td>\n",
       "      <td>0.00000</td>\n",
       "    </tr>\n",
       "    <tr>\n",
       "      <th>insured_relationship</th>\n",
       "      <td>0</td>\n",
       "      <td>0.00000</td>\n",
       "    </tr>\n",
       "    <tr>\n",
       "      <th>insured_hobbies</th>\n",
       "      <td>0</td>\n",
       "      <td>0.00000</td>\n",
       "    </tr>\n",
       "    <tr>\n",
       "      <th>insured_occupation</th>\n",
       "      <td>0</td>\n",
       "      <td>0.00000</td>\n",
       "    </tr>\n",
       "    <tr>\n",
       "      <th>insured_education_level</th>\n",
       "      <td>0</td>\n",
       "      <td>0.00000</td>\n",
       "    </tr>\n",
       "    <tr>\n",
       "      <th>insured_sex</th>\n",
       "      <td>0</td>\n",
       "      <td>0.00000</td>\n",
       "    </tr>\n",
       "    <tr>\n",
       "      <th>umbrella_limit</th>\n",
       "      <td>0</td>\n",
       "      <td>0.00000</td>\n",
       "    </tr>\n",
       "    <tr>\n",
       "      <th>fraud_reported</th>\n",
       "      <td>0</td>\n",
       "      <td>0.00000</td>\n",
       "    </tr>\n",
       "  </tbody>\n",
       "</table>\n",
       "</div>"
      ],
      "text/plain": [
       "                              Total  Percent\n",
       "claim_day_of_policy_groups        1  0.00125\n",
       "capital_loss_groups               1  0.00125\n",
       "policy_state                      0  0.00000\n",
       "property_damage                   0  0.00000\n",
       "policy_deductable_group           0  0.00000\n",
       "policy_annual_premium_groups      0  0.00000\n",
       "months_as_customer_groups         0  0.00000\n",
       "age_group                         0  0.00000\n",
       "location_check                    0  0.00000\n",
       "auto_year                         0  0.00000\n",
       "auto_model                        0  0.00000\n",
       "auto_make                         0  0.00000\n",
       "total_claim_amount_groups         0  0.00000\n",
       "police_report_available           0  0.00000\n",
       "witnesses                         0  0.00000\n",
       "bodily_injuries                   0  0.00000\n",
       "number_of_vehicles_involved       0  0.00000\n",
       "policy_csl                        0  0.00000\n",
       "incident_hour_of_the_day          0  0.00000\n",
       "incident_city                     0  0.00000\n",
       "incident_state                    0  0.00000\n",
       "authorities_contacted             0  0.00000\n",
       "incident_severity                 0  0.00000\n",
       "collision_type                    0  0.00000\n",
       "incident_type                     0  0.00000\n",
       "insured_relationship              0  0.00000\n",
       "insured_hobbies                   0  0.00000\n",
       "insured_occupation                0  0.00000\n",
       "insured_education_level           0  0.00000\n",
       "insured_sex                       0  0.00000\n",
       "umbrella_limit                    0  0.00000\n",
       "fraud_reported                    0  0.00000"
      ]
     },
     "execution_count": 65,
     "metadata": {},
     "output_type": "execute_result"
    }
   ],
   "source": [
    "total = labelEncoded_train_testData2.isnull().sum().sort_values(ascending=False)\n",
    "percent = (labelEncoded_train_testData2.isnull().sum()/labelEncoded_train_testData2.isnull().count()).sort_values(ascending=False)\n",
    "missing_data = pd.concat([total, percent], axis=1, keys=['Total', 'Percent'])\n",
    "missing_data"
   ]
  },
  {
   "cell_type": "code",
   "execution_count": 66,
   "id": "35c28064-1462-43c0-b0b2-691cf345de5e",
   "metadata": {},
   "outputs": [],
   "source": [
    "labelEncoded_train_testData2 = labelEncoded_train_testData2.fillna(0.0)"
   ]
  },
  {
   "cell_type": "code",
   "execution_count": 67,
   "id": "e9ec04fc-abdc-4d61-8e00-b7e0120409f9",
   "metadata": {
    "tags": []
   },
   "outputs": [
    {
     "name": "stdout",
     "output_type": "stream",
     "text": [
      "0.291667    279\n",
      "0.397959    274\n",
      "0.387640    247\n",
      "Name: policy_state, dtype: int64\n",
      "0.330134    693\n",
      "0.500000     39\n",
      "1.000000     36\n",
      "0.280000     32\n",
      "Name: policy_csl, dtype: int64\n",
      "0.336842    508\n",
      "0.369748    163\n",
      "0.417582    129\n",
      "Name: umbrella_limit, dtype: int64\n",
      "0.329193    428\n",
      "0.388060    372\n",
      "Name: insured_sex, dtype: int64\n",
      "0.350000    135\n",
      "0.306931    132\n",
      "0.367816    119\n",
      "0.337209    115\n",
      "0.313253    109\n",
      "0.436620    102\n",
      "0.419355     88\n",
      "Name: insured_education_level, dtype: int64\n",
      "0.333333    72\n",
      "0.296296    70\n",
      "0.425532    67\n",
      "0.382979    65\n",
      "0.585366    65\n",
      "0.377778    62\n",
      "0.229167    59\n",
      "0.513514    56\n",
      "0.384615    54\n",
      "0.232558    53\n",
      "0.361111    49\n",
      "0.184211    45\n",
      "0.419355    44\n",
      "0.300000    39\n",
      "Name: insured_occupation, dtype: int64\n",
      "0.271626    735\n",
      "6.200000     36\n",
      "3.142857     29\n",
      "Name: insured_hobbies, dtype: int64\n",
      "0.278261    147\n",
      "0.371429    144\n",
      "0.447917    139\n",
      "0.288660    125\n",
      "0.409091    124\n",
      "0.359551    121\n",
      "Name: insured_relationship, dtype: int64\n",
      "0.361011    377\n",
      "0.341772    106\n",
      "0.400000     91\n",
      "0.380000     69\n",
      "0.264151     67\n",
      "0.423077     37\n",
      "0.388889     25\n",
      "0.375000     11\n",
      "0.250000     10\n",
      "0.200000      6\n",
      "0.000000      1\n",
      "Name: capital_loss_groups, dtype: int64\n",
      "0.399160    333\n",
      "0.447368    330\n",
      "0.119403     75\n",
      "0.087719     62\n",
      "Name: incident_type, dtype: int64\n",
      "0.490798    243\n",
      "0.380645    214\n",
      "0.391892    206\n",
      "0.104839    137\n",
      "Name: collision_type, dtype: int64\n",
      "0.118577    283\n",
      "1.909091    224\n",
      "0.138462    222\n",
      "0.092308     71\n",
      "Name: incident_severity, dtype: int64\n",
      "0.300000    234\n",
      "0.420635    179\n",
      "0.398305    165\n",
      "0.509804    154\n",
      "0.062500     68\n",
      "Name: authorities_contacted, dtype: int64\n",
      "0.291925    208\n",
      "0.485507    205\n",
      "0.208333    174\n",
      "0.491228     85\n",
      "0.349206     85\n",
      "0.833333     22\n",
      "0.400000     21\n",
      "Name: incident_state, dtype: int64\n",
      "0.306931    132\n",
      "0.411765    120\n",
      "0.333333    116\n",
      "0.357143    114\n",
      "0.480519    114\n",
      "0.277108    106\n",
      "0.342466     98\n",
      "Name: incident_city, dtype: int64\n",
      "0.571429    77\n",
      "0.272727    56\n",
      "0.175000    47\n",
      "0.303030    43\n",
      "0.281250    41\n",
      "0.560000    39\n",
      "0.266667    38\n",
      "0.275862    37\n",
      "0.296296    35\n",
      "0.129032    35\n",
      "0.360000    34\n",
      "0.619048    34\n",
      "0.269231    33\n",
      "0.650000    33\n",
      "0.185185    32\n",
      "0.391304    32\n",
      "0.304348    30\n",
      "0.421053    27\n",
      "0.368421    26\n",
      "0.333333    24\n",
      "0.600000    24\n",
      "0.642857    23\n",
      "Name: incident_hour_of_the_day, dtype: int64\n",
      "0.326705    467\n",
      "0.371981    284\n",
      "0.733333     26\n",
      "0.437500     23\n",
      "Name: number_of_vehicles_involved, dtype: int64\n",
      "0.451777    286\n",
      "0.274882    269\n",
      "0.346154    245\n",
      "Name: property_damage, dtype: int64\n",
      "0.307317    268\n",
      "0.400000    266\n",
      "0.364103    266\n",
      "Name: bodily_injuries, dtype: int64\n",
      "0.257669    205\n",
      "0.380952    203\n",
      "0.456522    201\n",
      "0.345070    191\n",
      "Name: witnesses, dtype: int64\n",
      "0.337580    210\n",
      "0.287500    206\n",
      "0.440559    206\n",
      "0.369231    178\n",
      "Name: police_report_available, dtype: int64\n",
      "0.483696    273\n",
      "0.426901    244\n",
      "0.103175    139\n",
      "0.419355     88\n",
      "0.162162     43\n",
      "0.300000     13\n",
      "Name: total_claim_amount_groups, dtype: int64\n",
      "0.326923    69\n",
      "0.367347    67\n",
      "0.269231    66\n",
      "0.285714    63\n",
      "0.465116    63\n",
      "0.390244    57\n",
      "0.266667    57\n",
      "0.400000    56\n",
      "0.447368    55\n",
      "0.432432    53\n",
      "0.232558    53\n",
      "0.250000    50\n",
      "0.678571    47\n",
      "0.333333    44\n",
      "Name: auto_make, dtype: int64\n",
      "0.333333    60\n",
      "0.357143    57\n",
      "0.200000    54\n",
      "0.818182    40\n",
      "0.444444    39\n",
      "0.608696    37\n",
      "0.172414    34\n",
      "0.454545    32\n",
      "0.153846    30\n",
      "0.450000    29\n",
      "0.380952    29\n",
      "0.285714    27\n",
      "0.529412    26\n",
      "0.411765    24\n",
      "0.150000    23\n",
      "0.210526    23\n",
      "0.095238    23\n",
      "0.157895    22\n",
      "0.166667    21\n",
      "0.400000    21\n",
      "0.500000    21\n",
      "0.538462    20\n",
      "0.545455    17\n",
      "0.250000    15\n",
      "0.555556    14\n",
      "1.000000    14\n",
      "1.166667    13\n",
      "0.625000    13\n",
      "0.000000    12\n",
      "0.111111    10\n",
      "Name: auto_model, dtype: int64\n",
      "0.444444    78\n",
      "0.285714    72\n",
      "0.314286    46\n",
      "0.184211    45\n",
      "0.500000    45\n",
      "0.157895    44\n",
      "0.400000    42\n",
      "0.272727    42\n",
      "0.290323    40\n",
      "0.560000    39\n",
      "0.266667    38\n",
      "0.321429    37\n",
      "0.241379    36\n",
      "0.440000    36\n",
      "0.360000    34\n",
      "0.700000    34\n",
      "0.454545    32\n",
      "0.192308    31\n",
      "0.933333    29\n",
      "Name: auto_year, dtype: int64\n",
      "0.344828    117\n",
      "0.367647     93\n",
      "0.343284     90\n",
      "0.375000     88\n",
      "0.323077     86\n",
      "0.438596     82\n",
      "0.278689     78\n",
      "0.392857     78\n",
      "0.327273     73\n",
      "0.555556     14\n",
      "0.000000      1\n",
      "Name: claim_day_of_policy_groups, dtype: int64\n",
      "0.34753    791\n",
      "2.00000      9\n",
      "Name: location_check, dtype: int64\n",
      "0.372549    140\n",
      "0.257143    132\n",
      "0.340206    130\n",
      "0.480000    111\n",
      "0.325301    110\n",
      "0.210526     69\n",
      "0.400000     35\n",
      "0.619048     34\n",
      "0.529412     26\n",
      "0.571429     11\n",
      "1.000000      2\n",
      "Name: age_group, dtype: int64\n",
      "0.270270    141\n",
      "0.301075    121\n",
      "0.348837    116\n",
      "0.413333    106\n",
      "0.362069     79\n",
      "0.469388     72\n",
      "0.234043     58\n",
      "0.608696     37\n",
      "0.285714     36\n",
      "0.700000     34\n",
      "Name: months_as_customer_groups, dtype: int64\n",
      "0.330900    547\n",
      "0.372340    129\n",
      "0.457831    121\n",
      "1.000000      3\n",
      "Name: policy_annual_premium_groups, dtype: int64\n",
      "0.316038    279\n",
      "0.370558    270\n",
      "0.386740    251\n",
      "Name: policy_deductable_group, dtype: int64\n",
      "0    590\n",
      "1    210\n",
      "Name: fraud_reported, dtype: int64\n"
     ]
    }
   ],
   "source": [
    "for col in labelEncoded_train_testData2.columns :\n",
    "    print(labelEncoded_train_testData2[col].value_counts())"
   ]
  },
  {
   "cell_type": "code",
   "execution_count": 68,
   "id": "877666eb-2354-4561-aa51-e9c5b3334aa3",
   "metadata": {},
   "outputs": [],
   "source": [
    "X2 = labelEncoded_train_testData2.iloc[ : , : 30]\n",
    "y2 = labelEncoded_train_testData2.iloc[: ,  -1]"
   ]
  },
  {
   "cell_type": "code",
   "execution_count": 69,
   "id": "0ab47670-559c-4d86-992d-e9a926244695",
   "metadata": {},
   "outputs": [],
   "source": [
    "from sklearn.preprocessing import StandardScaler\n",
    "\n",
    "sc = StandardScaler()\n",
    "X2 = sc.fit_transform(X2)"
   ]
  },
  {
   "cell_type": "code",
   "execution_count": 70,
   "id": "b8f0e803-11c6-43c9-9665-25891001dfad",
   "metadata": {},
   "outputs": [],
   "source": [
    "oversample = SMOTE(random_state=9)\n",
    "X_train, X_test, y_train, y_test = train_test_split(X2, y2, test_size = 0.3,  random_state = 42)\n",
    "X_over, y_over = oversample.fit_resample(X_train, y_train)\n",
    "X_train, X_test, y_train, y_test = train_test_split(X_over, y_over, test_size = 0.3, random_state = 1)"
   ]
  },
  {
   "cell_type": "code",
   "execution_count": 71,
   "id": "003b7a7c-b29c-4e83-9d17-6a02e8c28299",
   "metadata": {
    "tags": []
   },
   "outputs": [
    {
     "name": "stdout",
     "output_type": "stream",
     "text": [
      "95.63492063492063\n",
      "              precision    recall  f1-score   support\n",
      "\n",
      "           0       0.97      0.95      0.96       128\n",
      "           1       0.94      0.97      0.96       124\n",
      "\n",
      "    accuracy                           0.96       252\n",
      "   macro avg       0.96      0.96      0.96       252\n",
      "weighted avg       0.96      0.96      0.96       252\n",
      "\n"
     ]
    },
    {
     "data": {
      "text/plain": [
       "<AxesSubplot:>"
      ]
     },
     "execution_count": 71,
     "metadata": {},
     "output_type": "execute_result"
    },
    {
     "data": {
      "image/png": "[encoded data removed]",
      "text/plain": [
       "<Figure size 432x288 with 2 Axes>"
      ]
     },
     "metadata": {
      "needs_background": "light"
     },
     "output_type": "display_data"
    }
   ],
   "source": [
    "rfc1 = RandomForestClassifier(random_state = 1)\n",
    "rfc1.fit(X_train, y_train)\n",
    "\n",
    "preds = rfc1.predict(X_test)\n",
    "score = rfc1.score(X_test, y_test)\n",
    "print(score*100)\n",
    "print(classification_report(y_test, preds))\n",
    "\n",
    "cm = confusion_matrix(y_test, preds)\n",
    "sns.heatmap(cm, annot=True)"
   ]
  },
  {
   "cell_type": "markdown",
   "id": "48972080-af8f-40ad-a560-c5cbf50790ae",
   "metadata": {},
   "source": [
    "**⚫ Sayısal olarak doğru ölçeklendirilmiş train_test veriseti**"
   ]
  },
  {
   "cell_type": "code",
   "execution_count": 72,
   "id": "a52f129f-c143-4c31-888a-6389540484d4",
   "metadata": {
    "tags": []
   },
   "outputs": [
    {
     "data": {
      "text/html": [
       "<div>\n",
       "<style scoped>\n",
       "    .dataframe tbody tr th:only-of-type {\n",
       "        vertical-align: middle;\n",
       "    }\n",
       "\n",
       "    .dataframe tbody tr th {\n",
       "        vertical-align: top;\n",
       "    }\n",
       "\n",
       "    .dataframe thead th {\n",
       "        text-align: right;\n",
       "    }\n",
       "</style>\n",
       "<table border=\"1\" class=\"dataframe\">\n",
       "  <thead>\n",
       "    <tr style=\"text-align: right;\">\n",
       "      <th></th>\n",
       "      <th>policy_state</th>\n",
       "      <th>policy_csl</th>\n",
       "      <th>umbrella_limit</th>\n",
       "      <th>insured_sex</th>\n",
       "      <th>insured_education_level</th>\n",
       "      <th>insured_occupation</th>\n",
       "      <th>insured_hobbies</th>\n",
       "      <th>insured_relationship</th>\n",
       "      <th>capital_loss_groups</th>\n",
       "      <th>incident_type</th>\n",
       "      <th>...</th>\n",
       "      <th>auto_make</th>\n",
       "      <th>auto_model</th>\n",
       "      <th>auto_year</th>\n",
       "      <th>claim_day_of_policy_groups</th>\n",
       "      <th>location_check</th>\n",
       "      <th>age_group</th>\n",
       "      <th>months_as_customer_groups</th>\n",
       "      <th>policy_annual_premium_groups</th>\n",
       "      <th>policy_deductable_group</th>\n",
       "      <th>fraud_reported</th>\n",
       "    </tr>\n",
       "  </thead>\n",
       "  <tbody>\n",
       "    <tr>\n",
       "      <th>511</th>\n",
       "      <td>0.397959</td>\n",
       "      <td>0.330134</td>\n",
       "      <td>0.336842</td>\n",
       "      <td>0.329193</td>\n",
       "      <td>0.350000</td>\n",
       "      <td>0.382979</td>\n",
       "      <td>0.271626</td>\n",
       "      <td>0.288660</td>\n",
       "      <td>0.341772</td>\n",
       "      <td>0.087719</td>\n",
       "      <td>...</td>\n",
       "      <td>0.390244</td>\n",
       "      <td>0.333333</td>\n",
       "      <td>0.241379</td>\n",
       "      <td>0.367647</td>\n",
       "      <td>0.34753</td>\n",
       "      <td>0.210526</td>\n",
       "      <td>0.270270</td>\n",
       "      <td>0.330900</td>\n",
       "      <td>0.316038</td>\n",
       "      <td>0</td>\n",
       "    </tr>\n",
       "    <tr>\n",
       "      <th>894</th>\n",
       "      <td>0.387640</td>\n",
       "      <td>0.330134</td>\n",
       "      <td>0.336842</td>\n",
       "      <td>0.388060</td>\n",
       "      <td>0.367816</td>\n",
       "      <td>0.229167</td>\n",
       "      <td>0.271626</td>\n",
       "      <td>0.371429</td>\n",
       "      <td>0.361011</td>\n",
       "      <td>0.087719</td>\n",
       "      <td>...</td>\n",
       "      <td>0.326923</td>\n",
       "      <td>0.357143</td>\n",
       "      <td>0.454545</td>\n",
       "      <td>0.344828</td>\n",
       "      <td>0.34753</td>\n",
       "      <td>0.372549</td>\n",
       "      <td>0.469388</td>\n",
       "      <td>0.330900</td>\n",
       "      <td>0.370558</td>\n",
       "      <td>0</td>\n",
       "    </tr>\n",
       "    <tr>\n",
       "      <th>125</th>\n",
       "      <td>0.387640</td>\n",
       "      <td>0.330134</td>\n",
       "      <td>0.417582</td>\n",
       "      <td>0.388060</td>\n",
       "      <td>0.350000</td>\n",
       "      <td>0.377778</td>\n",
       "      <td>0.271626</td>\n",
       "      <td>0.359551</td>\n",
       "      <td>0.264151</td>\n",
       "      <td>0.399160</td>\n",
       "      <td>...</td>\n",
       "      <td>0.400000</td>\n",
       "      <td>0.400000</td>\n",
       "      <td>0.444444</td>\n",
       "      <td>0.375000</td>\n",
       "      <td>0.34753</td>\n",
       "      <td>0.257143</td>\n",
       "      <td>0.348837</td>\n",
       "      <td>0.330900</td>\n",
       "      <td>0.316038</td>\n",
       "      <td>0</td>\n",
       "    </tr>\n",
       "    <tr>\n",
       "      <th>895</th>\n",
       "      <td>0.291667</td>\n",
       "      <td>0.330134</td>\n",
       "      <td>0.336842</td>\n",
       "      <td>0.388060</td>\n",
       "      <td>0.306931</td>\n",
       "      <td>0.384615</td>\n",
       "      <td>0.271626</td>\n",
       "      <td>0.278261</td>\n",
       "      <td>0.361011</td>\n",
       "      <td>0.399160</td>\n",
       "      <td>...</td>\n",
       "      <td>0.285714</td>\n",
       "      <td>0.411765</td>\n",
       "      <td>0.192308</td>\n",
       "      <td>0.327273</td>\n",
       "      <td>0.34753</td>\n",
       "      <td>0.257143</td>\n",
       "      <td>0.413333</td>\n",
       "      <td>0.330900</td>\n",
       "      <td>0.370558</td>\n",
       "      <td>1</td>\n",
       "    </tr>\n",
       "    <tr>\n",
       "      <th>485</th>\n",
       "      <td>0.387640</td>\n",
       "      <td>0.330134</td>\n",
       "      <td>0.336842</td>\n",
       "      <td>0.388060</td>\n",
       "      <td>0.337209</td>\n",
       "      <td>0.184211</td>\n",
       "      <td>0.271626</td>\n",
       "      <td>0.288660</td>\n",
       "      <td>0.380000</td>\n",
       "      <td>0.447368</td>\n",
       "      <td>...</td>\n",
       "      <td>0.269231</td>\n",
       "      <td>0.538462</td>\n",
       "      <td>0.314286</td>\n",
       "      <td>0.438596</td>\n",
       "      <td>0.34753</td>\n",
       "      <td>0.325301</td>\n",
       "      <td>0.362069</td>\n",
       "      <td>0.330900</td>\n",
       "      <td>0.386740</td>\n",
       "      <td>0</td>\n",
       "    </tr>\n",
       "    <tr>\n",
       "      <th>...</th>\n",
       "      <td>...</td>\n",
       "      <td>...</td>\n",
       "      <td>...</td>\n",
       "      <td>...</td>\n",
       "      <td>...</td>\n",
       "      <td>...</td>\n",
       "      <td>...</td>\n",
       "      <td>...</td>\n",
       "      <td>...</td>\n",
       "      <td>...</td>\n",
       "      <td>...</td>\n",
       "      <td>...</td>\n",
       "      <td>...</td>\n",
       "      <td>...</td>\n",
       "      <td>...</td>\n",
       "      <td>...</td>\n",
       "      <td>...</td>\n",
       "      <td>...</td>\n",
       "      <td>...</td>\n",
       "      <td>...</td>\n",
       "      <td>...</td>\n",
       "    </tr>\n",
       "    <tr>\n",
       "      <th>833</th>\n",
       "      <td>0.387640</td>\n",
       "      <td>0.330134</td>\n",
       "      <td>0.336842</td>\n",
       "      <td>0.329193</td>\n",
       "      <td>0.350000</td>\n",
       "      <td>0.333333</td>\n",
       "      <td>0.271626</td>\n",
       "      <td>0.447917</td>\n",
       "      <td>0.361011</td>\n",
       "      <td>0.399160</td>\n",
       "      <td>...</td>\n",
       "      <td>0.400000</td>\n",
       "      <td>0.454545</td>\n",
       "      <td>0.500000</td>\n",
       "      <td>0.344828</td>\n",
       "      <td>0.34753</td>\n",
       "      <td>0.325301</td>\n",
       "      <td>0.301075</td>\n",
       "      <td>0.372340</td>\n",
       "      <td>0.370558</td>\n",
       "      <td>0</td>\n",
       "    </tr>\n",
       "    <tr>\n",
       "      <th>457</th>\n",
       "      <td>0.291667</td>\n",
       "      <td>0.500000</td>\n",
       "      <td>0.336842</td>\n",
       "      <td>0.388060</td>\n",
       "      <td>0.313253</td>\n",
       "      <td>0.513514</td>\n",
       "      <td>0.271626</td>\n",
       "      <td>0.278261</td>\n",
       "      <td>0.341772</td>\n",
       "      <td>0.447368</td>\n",
       "      <td>...</td>\n",
       "      <td>0.390244</td>\n",
       "      <td>0.450000</td>\n",
       "      <td>0.500000</td>\n",
       "      <td>0.375000</td>\n",
       "      <td>0.34753</td>\n",
       "      <td>0.325301</td>\n",
       "      <td>0.301075</td>\n",
       "      <td>0.372340</td>\n",
       "      <td>0.386740</td>\n",
       "      <td>1</td>\n",
       "    </tr>\n",
       "    <tr>\n",
       "      <th>478</th>\n",
       "      <td>0.291667</td>\n",
       "      <td>0.280000</td>\n",
       "      <td>0.369748</td>\n",
       "      <td>0.388060</td>\n",
       "      <td>0.313253</td>\n",
       "      <td>0.384615</td>\n",
       "      <td>6.200000</td>\n",
       "      <td>0.359551</td>\n",
       "      <td>0.361011</td>\n",
       "      <td>0.119403</td>\n",
       "      <td>...</td>\n",
       "      <td>0.678571</td>\n",
       "      <td>0.625000</td>\n",
       "      <td>0.360000</td>\n",
       "      <td>0.343284</td>\n",
       "      <td>0.34753</td>\n",
       "      <td>0.400000</td>\n",
       "      <td>0.285714</td>\n",
       "      <td>0.457831</td>\n",
       "      <td>0.386740</td>\n",
       "      <td>1</td>\n",
       "    </tr>\n",
       "    <tr>\n",
       "      <th>41</th>\n",
       "      <td>0.387640</td>\n",
       "      <td>1.000000</td>\n",
       "      <td>0.336842</td>\n",
       "      <td>0.388060</td>\n",
       "      <td>0.337209</td>\n",
       "      <td>0.513514</td>\n",
       "      <td>6.200000</td>\n",
       "      <td>0.359551</td>\n",
       "      <td>0.388889</td>\n",
       "      <td>0.447368</td>\n",
       "      <td>...</td>\n",
       "      <td>0.432432</td>\n",
       "      <td>0.555556</td>\n",
       "      <td>0.360000</td>\n",
       "      <td>0.375000</td>\n",
       "      <td>0.34753</td>\n",
       "      <td>0.480000</td>\n",
       "      <td>0.301075</td>\n",
       "      <td>0.372340</td>\n",
       "      <td>0.370558</td>\n",
       "      <td>1</td>\n",
       "    </tr>\n",
       "    <tr>\n",
       "      <th>500</th>\n",
       "      <td>0.397959</td>\n",
       "      <td>0.330134</td>\n",
       "      <td>0.336842</td>\n",
       "      <td>0.329193</td>\n",
       "      <td>0.350000</td>\n",
       "      <td>0.377778</td>\n",
       "      <td>0.271626</td>\n",
       "      <td>0.447917</td>\n",
       "      <td>0.361011</td>\n",
       "      <td>0.447368</td>\n",
       "      <td>...</td>\n",
       "      <td>0.333333</td>\n",
       "      <td>0.200000</td>\n",
       "      <td>0.241379</td>\n",
       "      <td>0.278689</td>\n",
       "      <td>0.34753</td>\n",
       "      <td>0.325301</td>\n",
       "      <td>0.469388</td>\n",
       "      <td>0.457831</td>\n",
       "      <td>0.370558</td>\n",
       "      <td>0</td>\n",
       "    </tr>\n",
       "  </tbody>\n",
       "</table>\n",
       "<p>800 rows × 32 columns</p>\n",
       "</div>"
      ],
      "text/plain": [
       "     policy_state  policy_csl  umbrella_limit  insured_sex  \\\n",
       "511      0.397959    0.330134        0.336842     0.329193   \n",
       "894      0.387640    0.330134        0.336842     0.388060   \n",
       "125      0.387640    0.330134        0.417582     0.388060   \n",
       "895      0.291667    0.330134        0.336842     0.388060   \n",
       "485      0.387640    0.330134        0.336842     0.388060   \n",
       "..            ...         ...             ...          ...   \n",
       "833      0.387640    0.330134        0.336842     0.329193   \n",
       "457      0.291667    0.500000        0.336842     0.388060   \n",
       "478      0.291667    0.280000        0.369748     0.388060   \n",
       "41       0.387640    1.000000        0.336842     0.388060   \n",
       "500      0.397959    0.330134        0.336842     0.329193   \n",
       "\n",
       "     insured_education_level  insured_occupation  insured_hobbies  \\\n",
       "511                 0.350000            0.382979         0.271626   \n",
       "894                 0.367816            0.229167         0.271626   \n",
       "125                 0.350000            0.377778         0.271626   \n",
       "895                 0.306931            0.384615         0.271626   \n",
       "485                 0.337209            0.184211         0.271626   \n",
       "..                       ...                 ...              ...   \n",
       "833                 0.350000            0.333333         0.271626   \n",
       "457                 0.313253            0.513514         0.271626   \n",
       "478                 0.313253            0.384615         6.200000   \n",
       "41                  0.337209            0.513514         6.200000   \n",
       "500                 0.350000            0.377778         0.271626   \n",
       "\n",
       "     insured_relationship  capital_loss_groups  incident_type  ...  auto_make  \\\n",
       "511              0.288660             0.341772       0.087719  ...   0.390244   \n",
       "894              0.371429             0.361011       0.087719  ...   0.326923   \n",
       "125              0.359551             0.264151       0.399160  ...   0.400000   \n",
       "895              0.278261             0.361011       0.399160  ...   0.285714   \n",
       "485              0.288660             0.380000       0.447368  ...   0.269231   \n",
       "..                    ...                  ...            ...  ...        ...   \n",
       "833              0.447917             0.361011       0.399160  ...   0.400000   \n",
       "457              0.278261             0.341772       0.447368  ...   0.390244   \n",
       "478              0.359551             0.361011       0.119403  ...   0.678571   \n",
       "41               0.359551             0.388889       0.447368  ...   0.432432   \n",
       "500              0.447917             0.361011       0.447368  ...   0.333333   \n",
       "\n",
       "     auto_model  auto_year  claim_day_of_policy_groups  location_check  \\\n",
       "511    0.333333   0.241379                    0.367647         0.34753   \n",
       "894    0.357143   0.454545                    0.344828         0.34753   \n",
       "125    0.400000   0.444444                    0.375000         0.34753   \n",
       "895    0.411765   0.192308                    0.327273         0.34753   \n",
       "485    0.538462   0.314286                    0.438596         0.34753   \n",
       "..          ...        ...                         ...             ...   \n",
       "833    0.454545   0.500000                    0.344828         0.34753   \n",
       "457    0.450000   0.500000                    0.375000         0.34753   \n",
       "478    0.625000   0.360000                    0.343284         0.34753   \n",
       "41     0.555556   0.360000                    0.375000         0.34753   \n",
       "500    0.200000   0.241379                    0.278689         0.34753   \n",
       "\n",
       "     age_group  months_as_customer_groups  policy_annual_premium_groups  \\\n",
       "511   0.210526                   0.270270                      0.330900   \n",
       "894   0.372549                   0.469388                      0.330900   \n",
       "125   0.257143                   0.348837                      0.330900   \n",
       "895   0.257143                   0.413333                      0.330900   \n",
       "485   0.325301                   0.362069                      0.330900   \n",
       "..         ...                        ...                           ...   \n",
       "833   0.325301                   0.301075                      0.372340   \n",
       "457   0.325301                   0.301075                      0.372340   \n",
       "478   0.400000                   0.285714                      0.457831   \n",
       "41    0.480000                   0.301075                      0.372340   \n",
       "500   0.325301                   0.469388                      0.457831   \n",
       "\n",
       "     policy_deductable_group  fraud_reported  \n",
       "511                 0.316038               0  \n",
       "894                 0.370558               0  \n",
       "125                 0.316038               0  \n",
       "895                 0.370558               1  \n",
       "485                 0.386740               0  \n",
       "..                       ...             ...  \n",
       "833                 0.370558               0  \n",
       "457                 0.386740               1  \n",
       "478                 0.386740               1  \n",
       "41                  0.370558               1  \n",
       "500                 0.370558               0  \n",
       "\n",
       "[800 rows x 32 columns]"
      ]
     },
     "execution_count": 72,
     "metadata": {},
     "output_type": "execute_result"
    }
   ],
   "source": [
    "labelEncoded_train_testData2"
   ]
  },
  {
   "cell_type": "code",
   "execution_count": 73,
   "id": "d53e34a8-1d85-429d-8578-5a0f1aafaf2c",
   "metadata": {},
   "outputs": [],
   "source": [
    "train_testData3 = train_testData.iloc[: , : 32]"
   ]
  },
  {
   "cell_type": "markdown",
   "id": "9363e2f7-f1aa-46f8-b048-5dec51e6d017",
   "metadata": {},
   "source": [
    "**⚫ Aşağıdaki kod blokları validasyon verisetinin hazırlanmasını ve tahminlemeye hazır hale getirilme aşamalarını içermektedir.**"
   ]
  },
  {
   "cell_type": "code",
   "execution_count": 74,
   "id": "69794afc-fb92-4140-acd3-49f6dde23642",
   "metadata": {},
   "outputs": [],
   "source": [
    "df5 = pd.concat([train_testData3,labelEncoded_train_testData2],axis=1)"
   ]
  },
  {
   "cell_type": "code",
   "execution_count": 75,
   "id": "bfccf35c-c0b6-431d-a87b-3a54b2a98e41",
   "metadata": {},
   "outputs": [],
   "source": [
    "df5 = train_testData3\n",
    "for i in train_testData3.columns:\n",
    "    df5[i+\"_v1\"] = labelEncoded_train_testData2[i]"
   ]
  },
  {
   "cell_type": "code",
   "execution_count": 76,
   "id": "25d3f756-7a5e-4336-973d-1b1cc2448563",
   "metadata": {},
   "outputs": [
    {
     "data": {
      "text/html": [
       "<div>\n",
       "<style scoped>\n",
       "    .dataframe tbody tr th:only-of-type {\n",
       "        vertical-align: middle;\n",
       "    }\n",
       "\n",
       "    .dataframe tbody tr th {\n",
       "        vertical-align: top;\n",
       "    }\n",
       "\n",
       "    .dataframe thead th {\n",
       "        text-align: right;\n",
       "    }\n",
       "</style>\n",
       "<table border=\"1\" class=\"dataframe\">\n",
       "  <thead>\n",
       "    <tr style=\"text-align: right;\">\n",
       "      <th></th>\n",
       "      <th>policy_state</th>\n",
       "      <th>policy_csl</th>\n",
       "      <th>umbrella_limit</th>\n",
       "      <th>insured_sex</th>\n",
       "      <th>insured_education_level</th>\n",
       "      <th>insured_occupation</th>\n",
       "      <th>insured_hobbies</th>\n",
       "      <th>insured_relationship</th>\n",
       "      <th>capital_loss_groups</th>\n",
       "      <th>incident_type</th>\n",
       "      <th>...</th>\n",
       "      <th>auto_make</th>\n",
       "      <th>auto_model</th>\n",
       "      <th>auto_year</th>\n",
       "      <th>claim_day_of_policy_groups</th>\n",
       "      <th>location_check</th>\n",
       "      <th>age_group</th>\n",
       "      <th>months_as_customer_groups</th>\n",
       "      <th>policy_annual_premium_groups</th>\n",
       "      <th>policy_deductable_group</th>\n",
       "      <th>fraud_reported</th>\n",
       "    </tr>\n",
       "  </thead>\n",
       "  <tbody>\n",
       "    <tr>\n",
       "      <th>752</th>\n",
       "      <td>IL</td>\n",
       "      <td>MISSING</td>\n",
       "      <td>0.0</td>\n",
       "      <td>MALE</td>\n",
       "      <td>PhD</td>\n",
       "      <td>machine-op-inspct</td>\n",
       "      <td>other</td>\n",
       "      <td>unmarried</td>\n",
       "      <td>-10000 - 0</td>\n",
       "      <td>Multi-vehicle Collision</td>\n",
       "      <td>...</td>\n",
       "      <td>Chevrolet</td>\n",
       "      <td>Tahoe</td>\n",
       "      <td>1997</td>\n",
       "      <td>5000-6000</td>\n",
       "      <td>False</td>\n",
       "      <td>9999</td>\n",
       "      <td>401-450</td>\n",
       "      <td>low</td>\n",
       "      <td>0-500</td>\n",
       "      <td>0</td>\n",
       "    </tr>\n",
       "    <tr>\n",
       "      <th>74</th>\n",
       "      <td>IL</td>\n",
       "      <td>MISSING</td>\n",
       "      <td>0.0</td>\n",
       "      <td>FEMALE</td>\n",
       "      <td>Associate</td>\n",
       "      <td>sales</td>\n",
       "      <td>other</td>\n",
       "      <td>wife</td>\n",
       "      <td>-10000 - 0</td>\n",
       "      <td>Multi-vehicle Collision</td>\n",
       "      <td>...</td>\n",
       "      <td>BMW</td>\n",
       "      <td>X6</td>\n",
       "      <td>2005</td>\n",
       "      <td>3000-4000</td>\n",
       "      <td>False</td>\n",
       "      <td>36-40</td>\n",
       "      <td>201-250</td>\n",
       "      <td>medium</td>\n",
       "      <td>501-1000</td>\n",
       "      <td>0</td>\n",
       "    </tr>\n",
       "    <tr>\n",
       "      <th>914</th>\n",
       "      <td>OH</td>\n",
       "      <td>MISSING</td>\n",
       "      <td>0.0</td>\n",
       "      <td>FEMALE</td>\n",
       "      <td>JD</td>\n",
       "      <td>transport-moving</td>\n",
       "      <td>cross-fit</td>\n",
       "      <td>own-child</td>\n",
       "      <td>-70000 - -60000</td>\n",
       "      <td>Multi-vehicle Collision</td>\n",
       "      <td>...</td>\n",
       "      <td>Honda</td>\n",
       "      <td>Accord</td>\n",
       "      <td>1998</td>\n",
       "      <td>5000-6000</td>\n",
       "      <td>False</td>\n",
       "      <td>36-40</td>\n",
       "      <td>101-150</td>\n",
       "      <td>low</td>\n",
       "      <td>1501-2000</td>\n",
       "      <td>0</td>\n",
       "    </tr>\n",
       "    <tr>\n",
       "      <th>883</th>\n",
       "      <td>OH</td>\n",
       "      <td>MISSING</td>\n",
       "      <td>0.0</td>\n",
       "      <td>FEMALE</td>\n",
       "      <td>Associate</td>\n",
       "      <td>exec-managerial</td>\n",
       "      <td>other</td>\n",
       "      <td>not-in-family</td>\n",
       "      <td>-10000 - 0</td>\n",
       "      <td>Multi-vehicle Collision</td>\n",
       "      <td>...</td>\n",
       "      <td>Audi</td>\n",
       "      <td>A5</td>\n",
       "      <td>2005</td>\n",
       "      <td>3000-4000</td>\n",
       "      <td>False</td>\n",
       "      <td>31-35</td>\n",
       "      <td>101-150</td>\n",
       "      <td>medium</td>\n",
       "      <td>501-1000</td>\n",
       "      <td>1</td>\n",
       "    </tr>\n",
       "    <tr>\n",
       "      <th>839</th>\n",
       "      <td>OH</td>\n",
       "      <td>MISSING</td>\n",
       "      <td>0.0</td>\n",
       "      <td>MALE</td>\n",
       "      <td>Associate</td>\n",
       "      <td>protective-serv</td>\n",
       "      <td>other</td>\n",
       "      <td>own-child</td>\n",
       "      <td>-50000 - -40000</td>\n",
       "      <td>Single Vehicle Collision</td>\n",
       "      <td>...</td>\n",
       "      <td>Dodge</td>\n",
       "      <td>Neon</td>\n",
       "      <td>2011</td>\n",
       "      <td>9000-10000</td>\n",
       "      <td>False</td>\n",
       "      <td>41-45</td>\n",
       "      <td>201-250</td>\n",
       "      <td>medium</td>\n",
       "      <td>0-500</td>\n",
       "      <td>0</td>\n",
       "    </tr>\n",
       "    <tr>\n",
       "      <th>...</th>\n",
       "      <td>...</td>\n",
       "      <td>...</td>\n",
       "      <td>...</td>\n",
       "      <td>...</td>\n",
       "      <td>...</td>\n",
       "      <td>...</td>\n",
       "      <td>...</td>\n",
       "      <td>...</td>\n",
       "      <td>...</td>\n",
       "      <td>...</td>\n",
       "      <td>...</td>\n",
       "      <td>...</td>\n",
       "      <td>...</td>\n",
       "      <td>...</td>\n",
       "      <td>...</td>\n",
       "      <td>...</td>\n",
       "      <td>...</td>\n",
       "      <td>...</td>\n",
       "      <td>...</td>\n",
       "      <td>...</td>\n",
       "      <td>...</td>\n",
       "    </tr>\n",
       "    <tr>\n",
       "      <th>539</th>\n",
       "      <td>IN</td>\n",
       "      <td>MISSING</td>\n",
       "      <td>0.0</td>\n",
       "      <td>FEMALE</td>\n",
       "      <td>College</td>\n",
       "      <td>prof-specialty</td>\n",
       "      <td>other</td>\n",
       "      <td>other-relative</td>\n",
       "      <td>-40000 - -30000</td>\n",
       "      <td>Single Vehicle Collision</td>\n",
       "      <td>...</td>\n",
       "      <td>BMW</td>\n",
       "      <td>X5</td>\n",
       "      <td>2015</td>\n",
       "      <td>5000-6000</td>\n",
       "      <td>False</td>\n",
       "      <td>9999</td>\n",
       "      <td>201-250</td>\n",
       "      <td>medium</td>\n",
       "      <td>1501-2000</td>\n",
       "      <td>0</td>\n",
       "    </tr>\n",
       "    <tr>\n",
       "      <th>937</th>\n",
       "      <td>IN</td>\n",
       "      <td>MISSING</td>\n",
       "      <td>0.0</td>\n",
       "      <td>FEMALE</td>\n",
       "      <td>High School</td>\n",
       "      <td>protective-serv</td>\n",
       "      <td>other</td>\n",
       "      <td>wife</td>\n",
       "      <td>-10000 - 0</td>\n",
       "      <td>Single Vehicle Collision</td>\n",
       "      <td>...</td>\n",
       "      <td>Jeep</td>\n",
       "      <td>Grand Cherokee</td>\n",
       "      <td>1995</td>\n",
       "      <td>2000-3000</td>\n",
       "      <td>False</td>\n",
       "      <td>56-60</td>\n",
       "      <td>451-500</td>\n",
       "      <td>high</td>\n",
       "      <td>501-1000</td>\n",
       "      <td>0</td>\n",
       "    </tr>\n",
       "    <tr>\n",
       "      <th>77</th>\n",
       "      <td>IN</td>\n",
       "      <td>MISSING</td>\n",
       "      <td>9999</td>\n",
       "      <td>MALE</td>\n",
       "      <td>College</td>\n",
       "      <td>transport-moving</td>\n",
       "      <td>other</td>\n",
       "      <td>not-in-family</td>\n",
       "      <td>-10000 - 0</td>\n",
       "      <td>Multi-vehicle Collision</td>\n",
       "      <td>...</td>\n",
       "      <td>Audi</td>\n",
       "      <td>A3</td>\n",
       "      <td>2005</td>\n",
       "      <td>8000-9000</td>\n",
       "      <td>False</td>\n",
       "      <td>46-50</td>\n",
       "      <td>301-350</td>\n",
       "      <td>medium</td>\n",
       "      <td>0-500</td>\n",
       "      <td>0</td>\n",
       "    </tr>\n",
       "    <tr>\n",
       "      <th>835</th>\n",
       "      <td>IN</td>\n",
       "      <td>MISSING</td>\n",
       "      <td>other</td>\n",
       "      <td>MALE</td>\n",
       "      <td>JD</td>\n",
       "      <td>other-service</td>\n",
       "      <td>other</td>\n",
       "      <td>wife</td>\n",
       "      <td>-60000 - -50000</td>\n",
       "      <td>Vehicle Theft</td>\n",
       "      <td>...</td>\n",
       "      <td>Mercedes</td>\n",
       "      <td>ML350</td>\n",
       "      <td>2015</td>\n",
       "      <td>0-1000</td>\n",
       "      <td>False</td>\n",
       "      <td>51-55</td>\n",
       "      <td>351-400</td>\n",
       "      <td>medium</td>\n",
       "      <td>1501-2000</td>\n",
       "      <td>0</td>\n",
       "    </tr>\n",
       "    <tr>\n",
       "      <th>641</th>\n",
       "      <td>OH</td>\n",
       "      <td>MISSING</td>\n",
       "      <td>0.0</td>\n",
       "      <td>FEMALE</td>\n",
       "      <td>JD</td>\n",
       "      <td>other-service</td>\n",
       "      <td>other</td>\n",
       "      <td>unmarried</td>\n",
       "      <td>-80000 - -70000</td>\n",
       "      <td>Multi-vehicle Collision</td>\n",
       "      <td>...</td>\n",
       "      <td>Suburu</td>\n",
       "      <td>Legacy</td>\n",
       "      <td>1998</td>\n",
       "      <td>2000-3000</td>\n",
       "      <td>False</td>\n",
       "      <td>51-55</td>\n",
       "      <td>351-400</td>\n",
       "      <td>medium</td>\n",
       "      <td>501-1000</td>\n",
       "      <td>0</td>\n",
       "    </tr>\n",
       "  </tbody>\n",
       "</table>\n",
       "<p>200 rows × 32 columns</p>\n",
       "</div>"
      ],
      "text/plain": [
       "    policy_state policy_csl umbrella_limit insured_sex  \\\n",
       "752           IL    MISSING            0.0        MALE   \n",
       "74            IL    MISSING            0.0      FEMALE   \n",
       "914           OH    MISSING            0.0      FEMALE   \n",
       "883           OH    MISSING            0.0      FEMALE   \n",
       "839           OH    MISSING            0.0        MALE   \n",
       "..           ...        ...            ...         ...   \n",
       "539           IN    MISSING            0.0      FEMALE   \n",
       "937           IN    MISSING            0.0      FEMALE   \n",
       "77            IN    MISSING           9999        MALE   \n",
       "835           IN    MISSING          other        MALE   \n",
       "641           OH    MISSING            0.0      FEMALE   \n",
       "\n",
       "    insured_education_level insured_occupation insured_hobbies  \\\n",
       "752                     PhD  machine-op-inspct           other   \n",
       "74                Associate              sales           other   \n",
       "914                      JD   transport-moving       cross-fit   \n",
       "883               Associate    exec-managerial           other   \n",
       "839               Associate    protective-serv           other   \n",
       "..                      ...                ...             ...   \n",
       "539                 College     prof-specialty           other   \n",
       "937             High School    protective-serv           other   \n",
       "77                  College   transport-moving           other   \n",
       "835                      JD      other-service           other   \n",
       "641                      JD      other-service           other   \n",
       "\n",
       "    insured_relationship capital_loss_groups             incident_type  ...  \\\n",
       "752            unmarried          -10000 - 0   Multi-vehicle Collision  ...   \n",
       "74                  wife          -10000 - 0   Multi-vehicle Collision  ...   \n",
       "914            own-child     -70000 - -60000   Multi-vehicle Collision  ...   \n",
       "883        not-in-family          -10000 - 0   Multi-vehicle Collision  ...   \n",
       "839            own-child     -50000 - -40000  Single Vehicle Collision  ...   \n",
       "..                   ...                 ...                       ...  ...   \n",
       "539       other-relative     -40000 - -30000  Single Vehicle Collision  ...   \n",
       "937                 wife          -10000 - 0  Single Vehicle Collision  ...   \n",
       "77         not-in-family          -10000 - 0   Multi-vehicle Collision  ...   \n",
       "835                 wife     -60000 - -50000             Vehicle Theft  ...   \n",
       "641            unmarried     -80000 - -70000   Multi-vehicle Collision  ...   \n",
       "\n",
       "     auto_make      auto_model auto_year claim_day_of_policy_groups  \\\n",
       "752  Chevrolet           Tahoe      1997                  5000-6000   \n",
       "74         BMW              X6      2005                  3000-4000   \n",
       "914      Honda          Accord      1998                  5000-6000   \n",
       "883       Audi              A5      2005                  3000-4000   \n",
       "839      Dodge            Neon      2011                 9000-10000   \n",
       "..         ...             ...       ...                        ...   \n",
       "539        BMW              X5      2015                  5000-6000   \n",
       "937       Jeep  Grand Cherokee      1995                  2000-3000   \n",
       "77        Audi              A3      2005                  8000-9000   \n",
       "835   Mercedes           ML350      2015                     0-1000   \n",
       "641     Suburu          Legacy      1998                  2000-3000   \n",
       "\n",
       "    location_check  age_group  months_as_customer_groups  \\\n",
       "752          False       9999                    401-450   \n",
       "74           False      36-40                    201-250   \n",
       "914          False      36-40                    101-150   \n",
       "883          False      31-35                    101-150   \n",
       "839          False      41-45                    201-250   \n",
       "..             ...        ...                        ...   \n",
       "539          False       9999                    201-250   \n",
       "937          False      56-60                    451-500   \n",
       "77           False      46-50                    301-350   \n",
       "835          False      51-55                    351-400   \n",
       "641          False      51-55                    351-400   \n",
       "\n",
       "    policy_annual_premium_groups  policy_deductable_group  fraud_reported  \n",
       "752                          low                    0-500               0  \n",
       "74                        medium                 501-1000               0  \n",
       "914                          low                1501-2000               0  \n",
       "883                       medium                 501-1000               1  \n",
       "839                       medium                    0-500               0  \n",
       "..                           ...                      ...             ...  \n",
       "539                       medium                1501-2000               0  \n",
       "937                         high                 501-1000               0  \n",
       "77                        medium                    0-500               0  \n",
       "835                       medium                1501-2000               0  \n",
       "641                       medium                 501-1000               0  \n",
       "\n",
       "[200 rows x 32 columns]"
      ]
     },
     "execution_count": 76,
     "metadata": {},
     "output_type": "execute_result"
    }
   ],
   "source": [
    "valData = df.sort_values(by='incident_date',ascending=False).head(200)\n",
    "valData = valData.drop([\"incident_date\",\"insured_zip\",\"incident_location\"],axis=1)\n",
    "valData"
   ]
  },
  {
   "cell_type": "code",
   "execution_count": 77,
   "id": "67675dc1-8275-448a-9e5a-96c5f6b0c512",
   "metadata": {},
   "outputs": [],
   "source": [
    "for i in labelEncoded_train_testData2.columns:\n",
    "    df_change = df5[[i,i+\"_v1\"]].drop_duplicates()\n",
    "    valData = valData.merge(df_change,how='left',on=i)"
   ]
  },
  {
   "cell_type": "code",
   "execution_count": 78,
   "id": "90743648-2605-4b30-9e5d-a3a3c49e5c34",
   "metadata": {},
   "outputs": [],
   "source": [
    "valData = valData.iloc[: , 32:]"
   ]
  },
  {
   "cell_type": "code",
   "execution_count": 79,
   "id": "b56d1753-6451-47dc-92cf-06e918755a46",
   "metadata": {},
   "outputs": [],
   "source": [
    "valData.columns = ['policy_state', 'policy_csl', 'umbrella_limit',\n",
    "       'insured_sex', 'insured_education_level', 'insured_occupation',\n",
    "       'insured_hobbies', 'insured_relationship', \n",
    "       'capital_loss_groups', 'incident_type', 'collision_type', 'incident_severity',\n",
    "       'authorities_contacted', 'incident_state', 'incident_city',\n",
    "        'incident_hour_of_the_day','number_of_vehicles_involved', 'property_damage', \n",
    "        'bodily_injuries','witnesses', 'police_report_available', 'total_claim_amount_groups',\n",
    "       'auto_make', 'auto_model', 'auto_year',\n",
    "       'claim_day_of_policy_groups', 'location_check', 'age_group',\n",
    "       'months_as_customer_groups', 'policy_annual_premium_groups',\n",
    "       'policy_deductable_group' , 'fraud_reported']"
   ]
  },
  {
   "cell_type": "markdown",
   "id": "2f0116ed-fbb9-4f20-bd63-c11e0234701d",
   "metadata": {},
   "source": [
    "**⚫ Sayısal olarak doğru ölçeklendirilmiş validasyon veriseti**"
   ]
  },
  {
   "cell_type": "code",
   "execution_count": 80,
   "id": "55f42ba9-160d-4024-9498-40bb8370bee5",
   "metadata": {},
   "outputs": [
    {
     "data": {
      "text/html": [
       "<div>\n",
       "<style scoped>\n",
       "    .dataframe tbody tr th:only-of-type {\n",
       "        vertical-align: middle;\n",
       "    }\n",
       "\n",
       "    .dataframe tbody tr th {\n",
       "        vertical-align: top;\n",
       "    }\n",
       "\n",
       "    .dataframe thead th {\n",
       "        text-align: right;\n",
       "    }\n",
       "</style>\n",
       "<table border=\"1\" class=\"dataframe\">\n",
       "  <thead>\n",
       "    <tr style=\"text-align: right;\">\n",
       "      <th></th>\n",
       "      <th>policy_state</th>\n",
       "      <th>policy_csl</th>\n",
       "      <th>umbrella_limit</th>\n",
       "      <th>insured_sex</th>\n",
       "      <th>insured_education_level</th>\n",
       "      <th>insured_occupation</th>\n",
       "      <th>insured_hobbies</th>\n",
       "      <th>insured_relationship</th>\n",
       "      <th>capital_loss_groups</th>\n",
       "      <th>incident_type</th>\n",
       "      <th>...</th>\n",
       "      <th>auto_make</th>\n",
       "      <th>auto_model</th>\n",
       "      <th>auto_year</th>\n",
       "      <th>claim_day_of_policy_groups</th>\n",
       "      <th>location_check</th>\n",
       "      <th>age_group</th>\n",
       "      <th>months_as_customer_groups</th>\n",
       "      <th>policy_annual_premium_groups</th>\n",
       "      <th>policy_deductable_group</th>\n",
       "      <th>fraud_reported</th>\n",
       "    </tr>\n",
       "  </thead>\n",
       "  <tbody>\n",
       "    <tr>\n",
       "      <th>0</th>\n",
       "      <td>0.291667</td>\n",
       "      <td>0.330134</td>\n",
       "      <td>0.336842</td>\n",
       "      <td>0.388060</td>\n",
       "      <td>0.436620</td>\n",
       "      <td>0.333333</td>\n",
       "      <td>0.271626</td>\n",
       "      <td>0.359551</td>\n",
       "      <td>0.361011</td>\n",
       "      <td>0.399160</td>\n",
       "      <td>...</td>\n",
       "      <td>0.465116</td>\n",
       "      <td>0.818182</td>\n",
       "      <td>0.444444</td>\n",
       "      <td>0.392857</td>\n",
       "      <td>0.34753</td>\n",
       "      <td>0.480000</td>\n",
       "      <td>0.285714</td>\n",
       "      <td>0.457831</td>\n",
       "      <td>0.370558</td>\n",
       "      <td>0</td>\n",
       "    </tr>\n",
       "    <tr>\n",
       "      <th>1</th>\n",
       "      <td>0.291667</td>\n",
       "      <td>0.330134</td>\n",
       "      <td>0.336842</td>\n",
       "      <td>0.329193</td>\n",
       "      <td>0.337209</td>\n",
       "      <td>0.382979</td>\n",
       "      <td>0.271626</td>\n",
       "      <td>0.409091</td>\n",
       "      <td>0.361011</td>\n",
       "      <td>0.399160</td>\n",
       "      <td>...</td>\n",
       "      <td>0.432432</td>\n",
       "      <td>1.000000</td>\n",
       "      <td>0.290323</td>\n",
       "      <td>0.278689</td>\n",
       "      <td>0.34753</td>\n",
       "      <td>0.257143</td>\n",
       "      <td>0.348837</td>\n",
       "      <td>0.330900</td>\n",
       "      <td>0.316038</td>\n",
       "      <td>0</td>\n",
       "    </tr>\n",
       "    <tr>\n",
       "      <th>2</th>\n",
       "      <td>0.397959</td>\n",
       "      <td>0.330134</td>\n",
       "      <td>0.336842</td>\n",
       "      <td>0.329193</td>\n",
       "      <td>0.350000</td>\n",
       "      <td>0.513514</td>\n",
       "      <td>3.142857</td>\n",
       "      <td>0.278261</td>\n",
       "      <td>0.264151</td>\n",
       "      <td>0.399160</td>\n",
       "      <td>...</td>\n",
       "      <td>0.333333</td>\n",
       "      <td>0.285714</td>\n",
       "      <td>0.192308</td>\n",
       "      <td>0.392857</td>\n",
       "      <td>0.34753</td>\n",
       "      <td>0.257143</td>\n",
       "      <td>0.301075</td>\n",
       "      <td>0.457831</td>\n",
       "      <td>0.386740</td>\n",
       "      <td>0</td>\n",
       "    </tr>\n",
       "    <tr>\n",
       "      <th>3</th>\n",
       "      <td>0.397959</td>\n",
       "      <td>0.330134</td>\n",
       "      <td>0.336842</td>\n",
       "      <td>0.329193</td>\n",
       "      <td>0.337209</td>\n",
       "      <td>0.585366</td>\n",
       "      <td>0.271626</td>\n",
       "      <td>0.371429</td>\n",
       "      <td>0.361011</td>\n",
       "      <td>0.399160</td>\n",
       "      <td>...</td>\n",
       "      <td>0.447368</td>\n",
       "      <td>0.529412</td>\n",
       "      <td>0.290323</td>\n",
       "      <td>0.278689</td>\n",
       "      <td>0.34753</td>\n",
       "      <td>0.372549</td>\n",
       "      <td>0.301075</td>\n",
       "      <td>0.330900</td>\n",
       "      <td>0.316038</td>\n",
       "      <td>1</td>\n",
       "    </tr>\n",
       "    <tr>\n",
       "      <th>4</th>\n",
       "      <td>0.397959</td>\n",
       "      <td>0.330134</td>\n",
       "      <td>0.336842</td>\n",
       "      <td>0.388060</td>\n",
       "      <td>0.337209</td>\n",
       "      <td>0.361111</td>\n",
       "      <td>0.271626</td>\n",
       "      <td>0.278261</td>\n",
       "      <td>0.341772</td>\n",
       "      <td>0.447368</td>\n",
       "      <td>...</td>\n",
       "      <td>0.367347</td>\n",
       "      <td>0.153846</td>\n",
       "      <td>0.500000</td>\n",
       "      <td>0.555556</td>\n",
       "      <td>0.34753</td>\n",
       "      <td>0.340206</td>\n",
       "      <td>0.348837</td>\n",
       "      <td>0.330900</td>\n",
       "      <td>0.370558</td>\n",
       "      <td>0</td>\n",
       "    </tr>\n",
       "    <tr>\n",
       "      <th>...</th>\n",
       "      <td>...</td>\n",
       "      <td>...</td>\n",
       "      <td>...</td>\n",
       "      <td>...</td>\n",
       "      <td>...</td>\n",
       "      <td>...</td>\n",
       "      <td>...</td>\n",
       "      <td>...</td>\n",
       "      <td>...</td>\n",
       "      <td>...</td>\n",
       "      <td>...</td>\n",
       "      <td>...</td>\n",
       "      <td>...</td>\n",
       "      <td>...</td>\n",
       "      <td>...</td>\n",
       "      <td>...</td>\n",
       "      <td>...</td>\n",
       "      <td>...</td>\n",
       "      <td>...</td>\n",
       "      <td>...</td>\n",
       "      <td>...</td>\n",
       "    </tr>\n",
       "    <tr>\n",
       "      <th>195</th>\n",
       "      <td>0.387640</td>\n",
       "      <td>0.330134</td>\n",
       "      <td>0.336842</td>\n",
       "      <td>0.329193</td>\n",
       "      <td>0.419355</td>\n",
       "      <td>0.296296</td>\n",
       "      <td>0.271626</td>\n",
       "      <td>0.447917</td>\n",
       "      <td>0.380000</td>\n",
       "      <td>0.447368</td>\n",
       "      <td>...</td>\n",
       "      <td>0.432432</td>\n",
       "      <td>0.555556</td>\n",
       "      <td>0.285714</td>\n",
       "      <td>0.392857</td>\n",
       "      <td>0.34753</td>\n",
       "      <td>0.480000</td>\n",
       "      <td>0.348837</td>\n",
       "      <td>0.330900</td>\n",
       "      <td>0.386740</td>\n",
       "      <td>0</td>\n",
       "    </tr>\n",
       "    <tr>\n",
       "      <th>196</th>\n",
       "      <td>0.387640</td>\n",
       "      <td>0.330134</td>\n",
       "      <td>0.336842</td>\n",
       "      <td>0.329193</td>\n",
       "      <td>0.306931</td>\n",
       "      <td>0.361111</td>\n",
       "      <td>0.271626</td>\n",
       "      <td>0.409091</td>\n",
       "      <td>0.361011</td>\n",
       "      <td>0.447368</td>\n",
       "      <td>...</td>\n",
       "      <td>0.232558</td>\n",
       "      <td>0.357143</td>\n",
       "      <td>0.314286</td>\n",
       "      <td>0.323077</td>\n",
       "      <td>0.34753</td>\n",
       "      <td>0.619048</td>\n",
       "      <td>0.608696</td>\n",
       "      <td>0.372340</td>\n",
       "      <td>0.316038</td>\n",
       "      <td>0</td>\n",
       "    </tr>\n",
       "    <tr>\n",
       "      <th>197</th>\n",
       "      <td>0.387640</td>\n",
       "      <td>0.330134</td>\n",
       "      <td>0.369748</td>\n",
       "      <td>0.388060</td>\n",
       "      <td>0.419355</td>\n",
       "      <td>0.513514</td>\n",
       "      <td>0.271626</td>\n",
       "      <td>0.371429</td>\n",
       "      <td>0.361011</td>\n",
       "      <td>0.399160</td>\n",
       "      <td>...</td>\n",
       "      <td>0.447368</td>\n",
       "      <td>0.380952</td>\n",
       "      <td>0.290323</td>\n",
       "      <td>0.344828</td>\n",
       "      <td>0.34753</td>\n",
       "      <td>0.210526</td>\n",
       "      <td>0.234043</td>\n",
       "      <td>0.330900</td>\n",
       "      <td>0.370558</td>\n",
       "      <td>0</td>\n",
       "    </tr>\n",
       "    <tr>\n",
       "      <th>198</th>\n",
       "      <td>0.387640</td>\n",
       "      <td>0.330134</td>\n",
       "      <td>0.417582</td>\n",
       "      <td>0.388060</td>\n",
       "      <td>0.350000</td>\n",
       "      <td>0.232558</td>\n",
       "      <td>0.271626</td>\n",
       "      <td>0.409091</td>\n",
       "      <td>0.400000</td>\n",
       "      <td>0.119403</td>\n",
       "      <td>...</td>\n",
       "      <td>0.678571</td>\n",
       "      <td>1.166667</td>\n",
       "      <td>0.285714</td>\n",
       "      <td>0.375000</td>\n",
       "      <td>0.34753</td>\n",
       "      <td>0.400000</td>\n",
       "      <td>0.700000</td>\n",
       "      <td>0.330900</td>\n",
       "      <td>0.386740</td>\n",
       "      <td>0</td>\n",
       "    </tr>\n",
       "    <tr>\n",
       "      <th>199</th>\n",
       "      <td>0.397959</td>\n",
       "      <td>0.330134</td>\n",
       "      <td>0.336842</td>\n",
       "      <td>0.329193</td>\n",
       "      <td>0.350000</td>\n",
       "      <td>0.232558</td>\n",
       "      <td>0.271626</td>\n",
       "      <td>0.359551</td>\n",
       "      <td>0.423077</td>\n",
       "      <td>0.399160</td>\n",
       "      <td>...</td>\n",
       "      <td>0.326923</td>\n",
       "      <td>0.200000</td>\n",
       "      <td>0.192308</td>\n",
       "      <td>0.323077</td>\n",
       "      <td>0.34753</td>\n",
       "      <td>0.400000</td>\n",
       "      <td>0.700000</td>\n",
       "      <td>0.330900</td>\n",
       "      <td>0.316038</td>\n",
       "      <td>0</td>\n",
       "    </tr>\n",
       "  </tbody>\n",
       "</table>\n",
       "<p>200 rows × 32 columns</p>\n",
       "</div>"
      ],
      "text/plain": [
       "     policy_state  policy_csl  umbrella_limit  insured_sex  \\\n",
       "0        0.291667    0.330134        0.336842     0.388060   \n",
       "1        0.291667    0.330134        0.336842     0.329193   \n",
       "2        0.397959    0.330134        0.336842     0.329193   \n",
       "3        0.397959    0.330134        0.336842     0.329193   \n",
       "4        0.397959    0.330134        0.336842     0.388060   \n",
       "..            ...         ...             ...          ...   \n",
       "195      0.387640    0.330134        0.336842     0.329193   \n",
       "196      0.387640    0.330134        0.336842     0.329193   \n",
       "197      0.387640    0.330134        0.369748     0.388060   \n",
       "198      0.387640    0.330134        0.417582     0.388060   \n",
       "199      0.397959    0.330134        0.336842     0.329193   \n",
       "\n",
       "     insured_education_level  insured_occupation  insured_hobbies  \\\n",
       "0                   0.436620            0.333333         0.271626   \n",
       "1                   0.337209            0.382979         0.271626   \n",
       "2                   0.350000            0.513514         3.142857   \n",
       "3                   0.337209            0.585366         0.271626   \n",
       "4                   0.337209            0.361111         0.271626   \n",
       "..                       ...                 ...              ...   \n",
       "195                 0.419355            0.296296         0.271626   \n",
       "196                 0.306931            0.361111         0.271626   \n",
       "197                 0.419355            0.513514         0.271626   \n",
       "198                 0.350000            0.232558         0.271626   \n",
       "199                 0.350000            0.232558         0.271626   \n",
       "\n",
       "     insured_relationship  capital_loss_groups  incident_type  ...  auto_make  \\\n",
       "0                0.359551             0.361011       0.399160  ...   0.465116   \n",
       "1                0.409091             0.361011       0.399160  ...   0.432432   \n",
       "2                0.278261             0.264151       0.399160  ...   0.333333   \n",
       "3                0.371429             0.361011       0.399160  ...   0.447368   \n",
       "4                0.278261             0.341772       0.447368  ...   0.367347   \n",
       "..                    ...                  ...            ...  ...        ...   \n",
       "195              0.447917             0.380000       0.447368  ...   0.432432   \n",
       "196              0.409091             0.361011       0.447368  ...   0.232558   \n",
       "197              0.371429             0.361011       0.399160  ...   0.447368   \n",
       "198              0.409091             0.400000       0.119403  ...   0.678571   \n",
       "199              0.359551             0.423077       0.399160  ...   0.326923   \n",
       "\n",
       "     auto_model  auto_year  claim_day_of_policy_groups  location_check  \\\n",
       "0      0.818182   0.444444                    0.392857         0.34753   \n",
       "1      1.000000   0.290323                    0.278689         0.34753   \n",
       "2      0.285714   0.192308                    0.392857         0.34753   \n",
       "3      0.529412   0.290323                    0.278689         0.34753   \n",
       "4      0.153846   0.500000                    0.555556         0.34753   \n",
       "..          ...        ...                         ...             ...   \n",
       "195    0.555556   0.285714                    0.392857         0.34753   \n",
       "196    0.357143   0.314286                    0.323077         0.34753   \n",
       "197    0.380952   0.290323                    0.344828         0.34753   \n",
       "198    1.166667   0.285714                    0.375000         0.34753   \n",
       "199    0.200000   0.192308                    0.323077         0.34753   \n",
       "\n",
       "     age_group  months_as_customer_groups  policy_annual_premium_groups  \\\n",
       "0     0.480000                   0.285714                      0.457831   \n",
       "1     0.257143                   0.348837                      0.330900   \n",
       "2     0.257143                   0.301075                      0.457831   \n",
       "3     0.372549                   0.301075                      0.330900   \n",
       "4     0.340206                   0.348837                      0.330900   \n",
       "..         ...                        ...                           ...   \n",
       "195   0.480000                   0.348837                      0.330900   \n",
       "196   0.619048                   0.608696                      0.372340   \n",
       "197   0.210526                   0.234043                      0.330900   \n",
       "198   0.400000                   0.700000                      0.330900   \n",
       "199   0.400000                   0.700000                      0.330900   \n",
       "\n",
       "     policy_deductable_group  fraud_reported  \n",
       "0                   0.370558               0  \n",
       "1                   0.316038               0  \n",
       "2                   0.386740               0  \n",
       "3                   0.316038               1  \n",
       "4                   0.370558               0  \n",
       "..                       ...             ...  \n",
       "195                 0.386740               0  \n",
       "196                 0.316038               0  \n",
       "197                 0.370558               0  \n",
       "198                 0.386740               0  \n",
       "199                 0.316038               0  \n",
       "\n",
       "[200 rows x 32 columns]"
      ]
     },
     "execution_count": 80,
     "metadata": {},
     "output_type": "execute_result"
    }
   ],
   "source": [
    "valData"
   ]
  },
  {
   "cell_type": "code",
   "execution_count": 81,
   "id": "c5ffdc64-fb81-4e15-a3a1-db481b999d6c",
   "metadata": {},
   "outputs": [
    {
     "name": "stdout",
     "output_type": "stream",
     "text": [
      "76.0\n",
      "\n",
      "              precision    recall  f1-score   support\n",
      "\n",
      "           0       0.95      0.75      0.84       163\n",
      "           1       0.42      0.81      0.56        37\n",
      "\n",
      "    accuracy                           0.76       200\n",
      "   macro avg       0.68      0.78      0.70       200\n",
      "weighted avg       0.85      0.76      0.78       200\n",
      "\n"
     ]
    },
    {
     "data": {
      "text/plain": [
       "<AxesSubplot:>"
      ]
     },
     "execution_count": 81,
     "metadata": {},
     "output_type": "execute_result"
    },
    {
     "data": {
      "image/png": "[encoded data removed]",
      "text/plain": [
       "<Figure size 432x288 with 2 Axes>"
      ]
     },
     "metadata": {
      "needs_background": "light"
     },
     "output_type": "display_data"
    }
   ],
   "source": [
    "X_val2 = valData.iloc[ : , : 30]\n",
    "y_val2 = valData.iloc[: ,  -1]\n",
    "\n",
    "from sklearn.preprocessing import StandardScaler\n",
    "\n",
    "sc = StandardScaler()\n",
    "X_val2 = sc.fit_transform(X_val2)\n",
    "\n",
    "preds2 = rfc1.predict(X_val2)\n",
    "\n",
    "score = rfc1.score(X_val2, y_val2)\n",
    "print(score*100)\n",
    "print()\n",
    "print(classification_report(y_val2, preds2))\n",
    "\n",
    "cm = confusion_matrix(y_val2, preds2)\n",
    "sns\n",
    "sns.heatmap(cm, annot=True)"
   ]
  },
  {
   "cell_type": "markdown",
   "id": "57b97257-5a26-4750-a52b-3330d2f0a639",
   "metadata": {},
   "source": [
    " ### VALIDATION DATA LABEL ENCODING WITH REAL VALUES SCALED - HYPERPARAMETER TUNING "
   ]
  },
  {
   "cell_type": "code",
   "execution_count": 82,
   "id": "b7a24b35-d387-4db8-8b87-6fa10dd1df1a",
   "metadata": {},
   "outputs": [
    {
     "name": "stdout",
     "output_type": "stream",
     "text": [
      "{'n_estimators': [300, 650, 1000], 'max_features': ['auto', 'sqrt'], 'max_depth': [5, 17, 30, None], 'min_samples_split': [2, 5, 10], 'min_samples_leaf': [1, 2, 4], 'bootstrap': [True, False]}\n",
      "Fitting 3 folds for each of 100 candidates, totalling 300 fits\n"
     ]
    },
    {
     "data": {
      "text/plain": [
       "RandomizedSearchCV(cv=3, estimator=RandomForestClassifier(), n_iter=100,\n",
       "                   n_jobs=-1,\n",
       "                   param_distributions={'bootstrap': [True, False],\n",
       "                                        'max_depth': [5, 17, 30, None],\n",
       "                                        'max_features': ['auto', 'sqrt'],\n",
       "                                        'min_samples_leaf': [1, 2, 4],\n",
       "                                        'min_samples_split': [2, 5, 10],\n",
       "                                        'n_estimators': [300, 650, 1000]},\n",
       "                   random_state=42, verbose=2)"
      ]
     },
     "execution_count": 82,
     "metadata": {},
     "output_type": "execute_result"
    }
   ],
   "source": [
    "from sklearn.model_selection import RandomizedSearchCV\n",
    "# Number of trees in random forest\n",
    "n_estimators = [int(x) for x in np.linspace(start = 300, stop = 1000, num = 3)]\n",
    "# Number of features to consider at every split\n",
    "max_features = ['auto', 'sqrt']\n",
    "# Maximum number of levels in tree\n",
    "max_depth = [int(x) for x in np.linspace(5, 30, num = 3)]\n",
    "max_depth.append(None)\n",
    "# Minimum number of samples required to split a node\n",
    "min_samples_split = [2, 5, 10]\n",
    "# Minimum number of samples required at each leaf node\n",
    "min_samples_leaf = [1, 2, 4]\n",
    "# Method of selecting samples for training each tree\n",
    "bootstrap = [True, False]\n",
    "# Create the random grid\n",
    "random_grid = {'n_estimators': n_estimators,\n",
    "               'max_features': max_features,\n",
    "               'max_depth': max_depth,\n",
    "               'min_samples_split': min_samples_split,\n",
    "               'min_samples_leaf': min_samples_leaf,\n",
    "               'bootstrap': bootstrap}\n",
    "print(random_grid)\n",
    "\n",
    "# Use the random grid to search for best hyperparameters\n",
    "# First create the base model to tune\n",
    "rf3 = RandomForestClassifier()\n",
    "# Random search of parameters, using 3 fold cross validation, \n",
    "# search across 100 different combinations, and use all available cores\n",
    "rf_random = RandomizedSearchCV(estimator = rf3, param_distributions = random_grid, n_iter = 100, cv = 3, verbose=2, random_state=42 , n_jobs=-1)\n",
    "# Fit the random search model\n",
    "rf_random.fit(X_train, y_train)"
   ]
  },
  {
   "cell_type": "code",
   "execution_count": 83,
   "id": "c33e5e46-9146-4b1a-9ff1-b1522d4147d7",
   "metadata": {},
   "outputs": [
    {
     "data": {
      "text/plain": [
       "{'n_estimators': 300,\n",
       " 'min_samples_split': 2,\n",
       " 'min_samples_leaf': 4,\n",
       " 'max_features': 'auto',\n",
       " 'max_depth': None,\n",
       " 'bootstrap': True}"
      ]
     },
     "execution_count": 83,
     "metadata": {},
     "output_type": "execute_result"
    }
   ],
   "source": [
    "rf_random.best_params_"
   ]
  },
  {
   "cell_type": "code",
   "execution_count": 93,
   "id": "3f05a285-0539-4e34-ac09-3af759ccf94c",
   "metadata": {},
   "outputs": [
    {
     "name": "stdout",
     "output_type": "stream",
     "text": [
      "94.84126984126983\n",
      "              precision    recall  f1-score   support\n",
      "\n",
      "           0       0.97      0.93      0.95       128\n",
      "           1       0.93      0.97      0.95       124\n",
      "\n",
      "    accuracy                           0.95       252\n",
      "   macro avg       0.95      0.95      0.95       252\n",
      "weighted avg       0.95      0.95      0.95       252\n",
      "\n"
     ]
    },
    {
     "data": {
      "text/plain": [
       "<AxesSubplot:>"
      ]
     },
     "execution_count": 93,
     "metadata": {},
     "output_type": "execute_result"
    },
    {
     "data": {
      "image/png": "[encoded data removed]",
      "text/plain": [
       "<Figure size 432x288 with 2 Axes>"
      ]
     },
     "metadata": {
      "needs_background": "light"
     },
     "output_type": "display_data"
    }
   ],
   "source": [
    "rf3 = RandomForestClassifier(random_state=42, n_estimators=650,min_samples_split=2,min_samples_leaf=2,max_features='sqrt'\n",
    "                            ,max_depth=30,bootstrap='False')\n",
    "rf3.fit(X_train, y_train)\n",
    "\n",
    "preds = rf3.predict(X_test)\n",
    "\n",
    "score = rf3.score(X_test, y_test)\n",
    "print(score*100)\n",
    "\n",
    "print(classification_report(y_test, preds))\n",
    "cm = confusion_matrix(y_test, preds)\n",
    "sns.heatmap(cm, annot=True)"
   ]
  },
  {
   "cell_type": "code",
   "execution_count": 94,
   "id": "967b2bf4-3c1b-4d80-b6fe-59a7c93d2330",
   "metadata": {},
   "outputs": [
    {
     "name": "stdout",
     "output_type": "stream",
     "text": [
      "77.0\n",
      "\n",
      "              precision    recall  f1-score   support\n",
      "\n",
      "           0       0.94      0.77      0.84       163\n",
      "           1       0.43      0.78      0.56        37\n",
      "\n",
      "    accuracy                           0.77       200\n",
      "   macro avg       0.69      0.78      0.70       200\n",
      "weighted avg       0.85      0.77      0.79       200\n",
      "\n"
     ]
    },
    {
     "data": {
      "text/plain": [
       "<AxesSubplot:>"
      ]
     },
     "execution_count": 94,
     "metadata": {},
     "output_type": "execute_result"
    },
    {
     "data": {
      "image/png": "[encoded data removed]",
      "text/plain": [
       "<Figure size 432x288 with 2 Axes>"
      ]
     },
     "metadata": {
      "needs_background": "light"
     },
     "output_type": "display_data"
    }
   ],
   "source": [
    "X_val2 = valData.iloc[ : , : 30]\n",
    "y_val2 = valData.iloc[: ,  -1]\n",
    "\n",
    "from sklearn.preprocessing import StandardScaler\n",
    "\n",
    "sc = StandardScaler()\n",
    "X_val2 = sc.fit_transform(X_val2)\n",
    "\n",
    "preds2 = rf3.predict(X_val2)\n",
    "\n",
    "score = rf3.score(X_val2, y_val2)\n",
    "print(score*100)\n",
    "print()\n",
    "print(classification_report(y_val2, preds2))\n",
    "\n",
    "cm = confusion_matrix(y_val2, preds2)\n",
    "sns\n",
    "sns.heatmap(cm, annot=True)"
   ]
  },
  {
   "cell_type": "markdown",
   "id": "0ef93e16-dda3-44f6-9991-0b2701477cf9",
   "metadata": {},
   "source": [
    "### ADJUSTING THRESHOLD WITH PREDICT PROBA"
   ]
  },
  {
   "cell_type": "code",
   "execution_count": 99,
   "id": "8a04be74-21eb-46f3-a46e-59252be94058",
   "metadata": {},
   "outputs": [
    {
     "name": "stdout",
     "output_type": "stream",
     "text": [
      "              precision    recall  f1-score   support\n",
      "\n",
      "           0       0.97      0.95      0.96       128\n",
      "           1       0.94      0.97      0.96       124\n",
      "\n",
      "    accuracy                           0.96       252\n",
      "   macro avg       0.96      0.96      0.96       252\n",
      "weighted avg       0.96      0.96      0.96       252\n",
      "\n"
     ]
    },
    {
     "data": {
      "text/plain": [
       "<AxesSubplot:>"
      ]
     },
     "execution_count": 99,
     "metadata": {},
     "output_type": "execute_result"
    },
    {
     "data": {
      "image/png": "[encoded data removed]",
      "text/plain": [
       "<Figure size 432x288 with 2 Axes>"
      ]
     },
     "metadata": {
      "needs_background": "light"
     },
     "output_type": "display_data"
    }
   ],
   "source": [
    "threshold = 0.52\n",
    "\n",
    "rfc1 = RandomForestClassifier(random_state = 1)\n",
    "rfc1.fit(X_train, y_train)\n",
    "\n",
    "predicted_proba2 = (rfc1.predict_proba(X_test)[:,1] >= threshold).astype(\"int\")\n",
    "\n",
    "print(classification_report(y_test, predicted_proba2))\n",
    "\n",
    "cm = confusion_matrix(y_test, predicted_proba2)\n",
    "sns.heatmap(cm, annot=True)"
   ]
  },
  {
   "cell_type": "code",
   "execution_count": 120,
   "id": "23a0c24d-c5c7-48c4-94aa-f8131f7ed66a",
   "metadata": {},
   "outputs": [
    {
     "name": "stdout",
     "output_type": "stream",
     "text": [
      "              precision    recall  f1-score   support\n",
      "\n",
      "           0       0.95      0.79      0.86       163\n",
      "           1       0.46      0.81      0.59        37\n",
      "\n",
      "    accuracy                           0.79       200\n",
      "   macro avg       0.70      0.80      0.72       200\n",
      "weighted avg       0.86      0.79      0.81       200\n",
      "\n"
     ]
    },
    {
     "data": {
      "text/plain": [
       "<AxesSubplot:>"
      ]
     },
     "execution_count": 120,
     "metadata": {},
     "output_type": "execute_result"
    },
    {
     "data": {
      "image/png": "[encoded data removed]",
      "text/plain": [
       "<Figure size 432x288 with 2 Axes>"
      ]
     },
     "metadata": {
      "needs_background": "light"
     },
     "output_type": "display_data"
    }
   ],
   "source": [
    "threshold = 0.54\n",
    "\n",
    "predicted_proba2 = (rfc1.predict_proba(X_val2)[:,1] >= threshold).astype(\"int\")\n",
    "\n",
    "print(classification_report(y_val2, predicted_proba2))\n",
    "\n",
    "cm = confusion_matrix(y_val2, predicted_proba2)\n",
    "sns.heatmap(cm, annot=True)"
   ]
  },
  {
   "cell_type": "markdown",
   "id": "2aff0256-feab-4773-9910-d7ffa7314b5d",
   "metadata": {},
   "source": [
    "#### "
   ]
  },
  {
   "cell_type": "markdown",
   "id": "74164cf8-305f-49b4-a770-24f6c0dfccb5",
   "metadata": {},
   "source": [
    "### CONCLUSION\n",
    "**Burada verisetimiz hem One-Hot Encoding (%100) hem de sayısal olarak doğru ölçekledirme ile Label Encoding(%80) uygulanarak iki farklı model ile train_test validasyon split süreçlerinin ardından performans olarak başarılı sonuçlar almıştır.**"
   ]
  }
 ],
 "metadata": {
  "kernelspec": {
   "display_name": "Python 3 (ipykernel)",
   "language": "python",
   "name": "python3"
  },
  "language_info": {
   "codemirror_mode": {
    "name": "ipython",
    "version": 3
   },
   "file_extension": ".py",
   "mimetype": "text/x-python",
   "name": "python",
   "nbconvert_exporter": "python",
   "pygments_lexer": "ipython3",
   "version": "3.9.7"
  }
 },
 "nbformat": 4,
 "nbformat_minor": 5
}
