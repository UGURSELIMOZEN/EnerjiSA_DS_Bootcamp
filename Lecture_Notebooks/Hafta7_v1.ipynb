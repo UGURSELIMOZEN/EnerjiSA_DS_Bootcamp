{
 "cells": [
  {
   "cell_type": "code",
   "execution_count": 7,
   "metadata": {},
   "outputs": [],
   "source": [
    "import pandas as pd\n",
    "import numpy as np\n",
    "import datetime as dt\n",
    "import plotly.express as px\n",
    "import plotly.graph_objects as go\n",
    "\n",
    "\n",
    "#for quick viz\n",
    "import seaborn as sns\n",
    "\n",
    "#ml\n",
    "from sklearn.model_selection import train_test_split\n",
    "from sklearn.linear_model import LogisticRegression\n",
    "from sklearn.metrics import classification_report\n",
    "from sklearn.tree import DecisionTreeClassifier\n",
    "from sklearn.metrics import accuracy_score\n",
    "from sklearn.model_selection import GridSearchCV\n",
    "from sklearn.svm import SVC\n",
    "from sklearn.metrics import confusion_matrix\n",
    "\n",
    "from imblearn.over_sampling import SMOTE\n",
    "from imblearn.under_sampling import RandomUnderSampler\n",
    "from imblearn.pipeline import Pipeline\n",
    "from sklearn.ensemble import RandomForestClassifier\n",
    "from sklearn.preprocessing import LabelEncoder\n",
    "import random"
   ]
  },
  {
   "cell_type": "code",
   "execution_count": 8,
   "metadata": {},
   "outputs": [
    {
     "name": "stdout",
     "output_type": "stream",
     "text": [
      "[\u001b[34m2021-11-07 10:35:01,276\u001b[0m] {\u001b[34mutils.py:\u001b[0m141} INFO\u001b[0m - NumExpr defaulting to 8 threads.\u001b[0m\n",
      "95.63492063492063\n",
      "\n",
      "              precision    recall  f1-score   support\n",
      "\n",
      "           0       0.99      0.92      0.96       128\n",
      "           1       0.92      0.99      0.96       124\n",
      "\n",
      "    accuracy                           0.96       252\n",
      "   macro avg       0.96      0.96      0.96       252\n",
      "weighted avg       0.96      0.96      0.96       252\n",
      "\n"
     ]
    },
    {
     "data": {
      "text/plain": [
       "<AxesSubplot:>"
      ]
     },
     "execution_count": 8,
     "metadata": {},
     "output_type": "execute_result"
    },
    {
     "data": {
      "image/png": "[encoded data removed]",
      "text/plain": [
       "<Figure size 432x288 with 2 Axes>"
      ]
     },
     "metadata": {
      "needs_background": "light"
     },
     "output_type": "display_data"
    }
   ],
   "source": [
    "df = pd.read_csv('auto_insurance_csv.csv')\n",
    "df = df.drop(['_c39','Unnamed: 0'], axis = 1)\n",
    "df['umbrella_limit'] = df.umbrella_limit.fillna(\"9999\")\n",
    "df['police_report_available'] = df.police_report_available.fillna(\"MISSING\")\n",
    "df['policy_csl'] = df.policy_csl.fillna(\"MISSING\")\n",
    "df['policy_bind_date'] = pd.to_datetime(df['policy_bind_date'])\n",
    "df['incident_date'] = pd.to_datetime(df['incident_date'])\n",
    "df['claim_day_of_policy'] = (df.incident_date -  df.policy_bind_date).dt.days\n",
    "df['location_check'] = np.nan\n",
    "df['location_check'] = np.where(df['policy_state'] == df['incident_state'], True, False)\n",
    "df['fraud_reported'] = df['fraud_reported'].str.replace('Y', '1')\n",
    "df['fraud_reported'] = df['fraud_reported'].str.replace('N', '0')\n",
    "df['fraud_reported'] = df['fraud_reported'].astype(int)\n",
    "df['umbrella_limit'] = df.umbrella_limit.astype(str)\n",
    "umbrealla = df['umbrella_limit'].unique()\n",
    "for umb in umbrealla:\n",
    "  if (umb != '0.0') & (umb != '9999'):\n",
    "    df['umbrella_limit'] = df['umbrella_limit'].str.replace(umb, 'other')\n",
    "    \n",
    "hobbies = df['insured_hobbies'].unique()\n",
    "for hobby in hobbies:\n",
    "  if (hobby != 'chess') & (hobby != 'cross-fit'):\n",
    "    df['insured_hobbies'] = df['insured_hobbies'].str.replace(hobby, 'other')\n",
    "\n",
    "df['age'] = df.age.fillna(9999)\n",
    "bin_labels = ['15-20', '21-25', '26-30', '31-35', '36-40', '41-45', '46-50', '51-55', '56-60', '61-65','9999']\n",
    "bins = [15, 20, 25, 30, 35, 40, 45, 50, 55, 60, 65, 9999]\n",
    "\n",
    "df['age_group'] = pd.cut(df['age'], bins = bins, labels = bin_labels, include_lowest = True)\n",
    "bins = [0, 50, 100, 150, 200, 250, 300, 350, 400, 450, 500]\n",
    "bin_labels = ['0-50','51-100','101-150','151-200','201-250','251-300','301-350','351-400','401-450','451-500']\n",
    "\n",
    "df['months_as_customer_groups'] = pd.cut(df['months_as_customer'], bins = 10, labels = bin_labels, include_lowest= True)\n",
    "bins = list(np.linspace(0,2500, 6, dtype = int))\n",
    "bin_labels = ['very low', 'low', 'medium', 'high', 'very high']\n",
    "\n",
    "df['policy_annual_premium_groups'] = pd.cut(df['policy_annual_premium'], bins = bins, labels=bin_labels)\n",
    "bins = list(np.linspace(0,2000, 5, dtype = int))\n",
    "bin_labels = ['0-500', '501-1000', '1001-1500', '1501-2000']\n",
    "\n",
    "df['policy_deductable_group'] = pd.cut(df['policy_deductable'], bins = bins, labels = bin_labels)\n",
    "\n",
    "df = df.drop(['age', 'months_as_customer', 'policy_deductable', 'policy_annual_premium'], axis = 1)\n",
    "required_columns = ['incident_date','policy_state', 'policy_csl', 'umbrella_limit',\n",
    "       'insured_zip', 'insured_sex', 'insured_education_level',\n",
    "       'insured_occupation', 'insured_hobbies', 'insured_relationship',\n",
    "       'capital-gains', 'capital-loss', 'incident_type', 'collision_type',\n",
    "       'incident_severity', 'authorities_contacted', 'incident_state',\n",
    "       'incident_city', 'incident_location', 'incident_hour_of_the_day',\n",
    "       'number_of_vehicles_involved', 'property_damage', 'bodily_injuries',\n",
    "       'witnesses', 'police_report_available', 'total_claim_amount','auto_make',\n",
    "       'auto_model', 'auto_year', 'fraud_reported', 'claim_day_of_policy',\n",
    "       'location_check', 'age_group', 'months_as_customer_groups',\n",
    "       'policy_annual_premium_groups', 'policy_deductable_group']\n",
    "df1 = df[required_columns]\n",
    "df1_val = df1.sort_values(by='incident_date',ascending=False).head(200)\n",
    "df2 = df1.sort_values(by='incident_date',ascending=False).tail(800)\n",
    "df1_val = df1_val.drop([\"incident_date\"],axis=1)\n",
    "df2 = df2.drop([\"incident_date\"],axis=1)   \n",
    "    \n",
    "    \n",
    "df3 = df2.apply(LabelEncoder().fit_transform)\n",
    "df3.head()\n",
    "\n",
    "features = []\n",
    "for col in df3.columns:\n",
    "  if col != 'fraud_reported':\n",
    "    features.append(col)\n",
    "\n",
    "target = 'fraud_reported'\n",
    "\n",
    "X = df3[features]\n",
    "y = df3[target]\n",
    "\n",
    "from sklearn.preprocessing import StandardScaler\n",
    "\n",
    "sc = StandardScaler()\n",
    "X = sc.fit_transform(X)\n",
    "\n",
    "oversample = SMOTE(random_state=9)\n",
    "X_train, X_test, y_train, y_test = train_test_split(X, y, test_size = 0.3,  random_state = 42)\n",
    "X_over, y_over = oversample.fit_resample(X_train, y_train)\n",
    "X_train, X_test, y_train, y_test = train_test_split(X_over, y_over, test_size = 0.3, random_state = 1)\n",
    "\n",
    "rfc = RandomForestClassifier(random_state = 1)\n",
    "rfc.fit(X_train, y_train)\n",
    "\n",
    "preds = rfc.predict(X_test)\n",
    "\n",
    "score = rfc.score(X_test, y_test)\n",
    "print(score*100)\n",
    "print()\n",
    "print(classification_report(y_test, preds))\n",
    "\n",
    "cm = confusion_matrix(y_test, preds)\n",
    "sns\n",
    "sns.heatmap(cm, annot=True)"
   ]
  },
  {
   "cell_type": "code",
   "execution_count": 9,
   "metadata": {},
   "outputs": [
    {
     "name": "stdout",
     "output_type": "stream",
     "text": [
      "80.0\n",
      "\n",
      "              precision    recall  f1-score   support\n",
      "\n",
      "           0       0.94      0.80      0.87       163\n",
      "           1       0.48      0.78      0.59        37\n",
      "\n",
      "    accuracy                           0.80       200\n",
      "   macro avg       0.71      0.79      0.73       200\n",
      "weighted avg       0.86      0.80      0.82       200\n",
      "\n"
     ]
    },
    {
     "data": {
      "text/plain": [
       "<AxesSubplot:>"
      ]
     },
     "execution_count": 9,
     "metadata": {},
     "output_type": "execute_result"
    },
    {
     "data": {
      "image/png": "[encoded data removed]",
      "text/plain": [
       "<Figure size 432x288 with 2 Axes>"
      ]
     },
     "metadata": {
      "needs_background": "light"
     },
     "output_type": "display_data"
    }
   ],
   "source": [
    "df3_val = df1_val.apply(LabelEncoder().fit_transform)\n",
    "df3.head()\n",
    "\n",
    "features = []\n",
    "for col in df3_val.columns:\n",
    "  if col != 'fraud_reported':\n",
    "    features.append(col)\n",
    "\n",
    "target = 'fraud_reported'\n",
    "\n",
    "X_val = df3_val[features]\n",
    "y_val = df3_val[target]\n",
    "\n",
    "from sklearn.preprocessing import StandardScaler\n",
    "\n",
    "sc = StandardScaler()\n",
    "X_val = sc.fit_transform(X_val)\n",
    "\n",
    "preds = rfc.predict(X_val)\n",
    "\n",
    "score = rfc.score(X_val, y_val)\n",
    "print(score*100)\n",
    "print()\n",
    "print(classification_report(y_val, preds))\n",
    "\n",
    "cm = confusion_matrix(y_val, preds)\n",
    "sns\n",
    "sns.heatmap(cm, annot=True)"
   ]
  },
  {
   "cell_type": "code",
   "execution_count": 10,
   "metadata": {},
   "outputs": [],
   "source": [
    "import pickle"
   ]
  },
  {
   "cell_type": "code",
   "execution_count": 11,
   "metadata": {},
   "outputs": [],
   "source": [
    "# save the model to disk\n",
    "filename = 'finalized_model.sav'\n",
    "pickle.dump(rfc, open(filename, 'wb'))"
   ]
  },
  {
   "cell_type": "code",
   "execution_count": 12,
   "metadata": {},
   "outputs": [],
   "source": [
    "loaded_model = pickle.load(open(filename, 'rb'))"
   ]
  },
  {
   "cell_type": "code",
   "execution_count": 13,
   "metadata": {},
   "outputs": [
    {
     "name": "stdout",
     "output_type": "stream",
     "text": [
      "80.0\n",
      "\n",
      "              precision    recall  f1-score   support\n",
      "\n",
      "           0       0.94      0.80      0.87       163\n",
      "           1       0.48      0.78      0.59        37\n",
      "\n",
      "    accuracy                           0.80       200\n",
      "   macro avg       0.71      0.79      0.73       200\n",
      "weighted avg       0.86      0.80      0.82       200\n",
      "\n"
     ]
    },
    {
     "data": {
      "text/plain": [
       "<AxesSubplot:>"
      ]
     },
     "execution_count": 13,
     "metadata": {},
     "output_type": "execute_result"
    },
    {
     "data": {
      "image/png": "[encoded data removed]",
      "text/plain": [
       "<Figure size 432x288 with 2 Axes>"
      ]
     },
     "metadata": {
      "needs_background": "light"
     },
     "output_type": "display_data"
    }
   ],
   "source": [
    "preds = loaded_model.predict(X_val)\n",
    "\n",
    "score = loaded_model.score(X_val, y_val)\n",
    "print(score*100)\n",
    "print()\n",
    "print(classification_report(y_val, preds))\n",
    "\n",
    "cm = confusion_matrix(y_val, preds)\n",
    "sns\n",
    "sns.heatmap(cm, annot=True)"
   ]
  },
  {
   "cell_type": "code",
   "execution_count": 14,
   "metadata": {},
   "outputs": [
    {
     "data": {
      "text/plain": [
       "array([0, 0, 1, 1, 1, 1, 1, 0, 0, 0, 1, 0, 0, 0, 0, 0, 0, 0, 1, 1, 1, 0,\n",
       "       0, 1, 0, 1, 0, 0, 0, 1, 0, 0, 0, 1, 1, 0, 0, 0, 0, 1, 0, 0, 0, 0,\n",
       "       0, 0, 1, 1, 1, 0, 0, 0, 0, 0, 1, 0, 0, 0, 0, 0, 0, 0, 1, 0, 0, 0,\n",
       "       0, 0, 1, 0, 0, 1, 0, 1, 0, 1, 1, 0, 1, 0, 0, 0, 0, 0, 0, 0, 0, 1,\n",
       "       1, 0, 0, 0, 0, 0, 1, 0, 1, 0, 0, 1, 1, 0, 0, 0, 0, 0, 1, 0, 0, 0,\n",
       "       0, 0, 1, 0, 0, 1, 0, 1, 0, 0, 0, 1, 1, 0, 0, 0, 0, 0, 0, 0, 1, 0,\n",
       "       0, 0, 0, 1, 0, 0, 0, 0, 1, 1, 0, 0, 0, 0, 1, 0, 1, 1, 1, 1, 0, 0,\n",
       "       1, 1, 1, 0, 0, 0, 0, 1, 0, 1, 1, 0, 0, 0, 1, 1, 1, 0, 0, 1, 0, 0,\n",
       "       0, 0, 0, 1, 0, 0, 0, 0, 1, 0, 0, 1, 0, 0, 0, 0, 0, 0, 1, 0, 0, 0,\n",
       "       0, 0], dtype=int64)"
      ]
     },
     "execution_count": 14,
     "metadata": {},
     "output_type": "execute_result"
    }
   ],
   "source": [
    "preds"
   ]
  },
  {
   "cell_type": "code",
   "execution_count": null,
   "metadata": {},
   "outputs": [],
   "source": [
    "from pyspark.sql import SparkSession\n",
    "spark = SparkSession.builder().appName(\"Spark_SQL_5_Save To Hive\").enableHiveSupport().getOrCreate();\n",
    "    spark.sparkContext().conf().set(\"spark.sql.warehouse.dir\", \"/user/hive/warehouse\");\n",
    "    spark.sparkContext().conf().set(\"hive.metastore.uris\", \"thrift://localhost:9083\");"
   ]
  },
  {
   "cell_type": "code",
   "execution_count": null,
   "metadata": {},
   "outputs": [],
   "source": [
    "dataframe = pd.read_sql(\"SELECT * FROM mintu.values__tmp__table__6\", spark)"
   ]
  },
  {
   "cell_type": "code",
   "execution_count": null,
   "metadata": {},
   "outputs": [],
   "source": [
    "preds = loaded_model.predict(dataframe)"
   ]
  },
  {
   "cell_type": "code",
   "execution_count": null,
   "metadata": {},
   "outputs": [],
   "source": [
    "spark_df = spark.createDataFrame(preds)"
   ]
  },
  {
   "cell_type": "code",
   "execution_count": null,
   "metadata": {},
   "outputs": [],
   "source": [
    "spark_df.createOrReplaceTempView(\"mytempTable\") "
   ]
  },
  {
   "cell_type": "code",
   "execution_count": null,
   "metadata": {},
   "outputs": [],
   "source": [
    "spark.sql(\"create table mytable as select * from mytempTable\");"
   ]
  },
  {
   "cell_type": "code",
   "execution_count": null,
   "metadata": {},
   "outputs": [],
   "source": [
    "spark.sql(\"insert into table mytable select mytempTable.* from (select 1, 10) mytempTable\")"
   ]
  },
  {
   "cell_type": "code",
   "execution_count": null,
   "metadata": {},
   "outputs": [],
   "source": []
  },
  {
   "cell_type": "code",
   "execution_count": null,
   "metadata": {},
   "outputs": [],
   "source": [
    "from datetime import datetime, timedelta\n",
    "\n",
    "from airflow import DAG\n",
    "from airflow.providers.papermill.operators.papermill import PapermillOperator\n",
    "\n",
    "def hello():\n",
    "    pass\n",
    "\n",
    "def printt():\n",
    "    pass\n",
    "\n",
    "\n",
    "default_args = {\n",
    "    'owner': 'airflow',\n",
    "    'depends_on_past': False,\n",
    "    'email_on_failure': False,\n",
    "    'email_on_retry': False,\n",
    "    'retries': 0,\n",
    "    'retry_delay': timedelta(minutes=1)\n",
    "}\n",
    "\n",
    "with DAG(\n",
    "    dag_id='example_papermill_operator',\n",
    "    default_args=default_args,\n",
    "    schedule_interval='0 0 * * *',\n",
    "    start_date=datetime(2021, 1, 1),\n",
    "    template_searchpath='/usr/local/airflow/include',\n",
    "    catchup=False\n",
    ") as dag_1:\n",
    "\n",
    "    notebook_task = PapermillOperator(\n",
    "        task_id=\"run_example_notebook\",\n",
    "        input_nb=\"include/example_notebook.ipynb\",\n",
    "        output_nb=\"include/out-{{ execution_date }}.ipynb\",\n",
    "        parameters={\"execution_date\": \"{{ execution_date }}\"},\n",
    "    )\n"
   ]
  },
  {
   "cell_type": "markdown",
   "metadata": {},
   "source": [
    "![ARF](Airflow.png)"
   ]
  },
  {
   "cell_type": "code",
   "execution_count": null,
   "metadata": {},
   "outputs": [],
   "source": []
  },
  {
   "cell_type": "code",
   "execution_count": null,
   "metadata": {},
   "outputs": [],
   "source": []
  },
  {
   "cell_type": "code",
   "execution_count": null,
   "metadata": {},
   "outputs": [],
   "source": []
  },
  {
   "cell_type": "code",
   "execution_count": null,
   "metadata": {},
   "outputs": [],
   "source": []
  },
  {
   "cell_type": "code",
   "execution_count": null,
   "metadata": {},
   "outputs": [],
   "source": []
  }
 ],
 "metadata": {
  "kernelspec": {
   "display_name": "Python 3",
   "language": "python",
   "name": "python3"
  },
  "language_info": {
   "codemirror_mode": {
    "name": "ipython",
    "version": 3
   },
   "file_extension": ".py",
   "mimetype": "text/x-python",
   "name": "python",
   "nbconvert_exporter": "python",
   "pygments_lexer": "ipython3",
   "version": "3.8.5"
  }
 },
 "nbformat": 4,
 "nbformat_minor": 4
}
